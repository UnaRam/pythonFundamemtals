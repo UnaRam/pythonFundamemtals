{
  "nbformat": 4,
  "nbformat_minor": 0,
  "metadata": {
    "colab": {
      "name": "Una Lists and Dictionaries Challenges.ipynb",
      "provenance": [],
      "collapsed_sections": [],
      "include_colab_link": true
    },
    "kernelspec": {
      "name": "python3",
      "display_name": "Python 3"
    },
    "language_info": {
      "name": "python"
    }
  },
  "cells": [
    {
      "cell_type": "markdown",
      "metadata": {
        "id": "view-in-github",
        "colab_type": "text"
      },
      "source": [
        "<a href=\"https://colab.research.google.com/github/UnaRam/pythonFundamemtals/blob/main/Una_Lists_and_Dictionaries_Challenges.ipynb\" target=\"_parent\"><img src=\"https://colab.research.google.com/assets/colab-badge.svg\" alt=\"Open In Colab\"/></a>"
      ]
    },
    {
      "cell_type": "markdown",
      "metadata": {
        "id": "nEJLJX3J9B2k"
      },
      "source": [
        "# Some challenges to help you become more confident with using Lists, Tuples and Dictionaries\n",
        "\n",
        "---\n",
        "\n"
      ]
    },
    {
      "cell_type": "markdown",
      "metadata": {
        "id": "JvV6htgh9Nc1"
      },
      "source": [
        "### Exercise 1 - extending a list\n",
        "\n",
        "There are three ways to extend a list in Python:  \n",
        "*  use `list_name.append(item)`, `list_name.insert(item)`\n",
        "*  concatenate two lists using the + operator (e.g. new_list = list1 + list2)\n",
        "*  use `list1_name.extend(list2_name)`\n",
        "\n",
        "The last method allows us to add all the `list2` items onto `list1` and for the new, extended list to now be `list1`.  `list2` will always be added to the end of `list1`.  \n",
        "\n",
        "If the objective is to add list2 before list1 then use `list2.extend(list1)`\n",
        "\n",
        "Write a function which will:  \n",
        "*  create a list of **years** containing the years 1960, 1970, 1980, 1990, 2000  \n",
        "*  print the list of years  \n",
        "*  calculate how long ago each year was and print the year and how long ago it was (e.g. 1990 was 30 years ago)  *(Hint:  use the datetime library to get the current year)*   \n",
        "*  create a second list, **years2** containing the years 2010 and 2020, extend `years` to include these later years\n",
        "*  create a third list, **years3** containing the years 1930, 1940 and 1950 and extend the list to include all the years between 1930 and 2020\n",
        "*  print the final list\n",
        "\n",
        "Expected output:  \n",
        "[1960, 1970, 1980, 1990]  \n",
        "1960 was 61 years ago  \n",
        "1970 was 51 years ago  \n",
        "1980 was 41 years ago  \n",
        "1990 was 31 years ago  \n",
        "2000 was 21 years ago  \n",
        "[1930, 1940, 1950, 1960, 1970, 1980, 1990, 2000, 2010, 2020] "
      ]
    },
    {
      "cell_type": "code",
      "metadata": {
        "id": "QAyTVqoO8-08",
        "colab": {
          "base_uri": "https://localhost:8080/"
        },
        "outputId": "336db646-7cbf-42c2-e0e4-f0217371d64b"
      },
      "source": [
        "import datetime\n",
        "\n",
        "def extending_lists():\n",
        "  years = [1960,1970,1980,1990,2000]\n",
        "  print(\"Years: \",years)\n",
        "  datenow = datetime.date.today()\n",
        "  print(datenow)\n",
        "  current_year = int(datenow.strftime(\"%Y\"))\n",
        "  print(current_year)\n",
        "  for x in years:\n",
        "    print(x,\" was \",current_year-x,\" years ago\")\n",
        "\n",
        "  years2 = [2010,2020]\n",
        "  years.extend(years2)\n",
        "  print(years)\n",
        "\n",
        "  years3=[1930,1940,1950]\n",
        "#  years3.extend(years)\n",
        "  final_list = years3 + years\n",
        "  print(years)\n",
        "  print(years3)\n",
        "  print(final_list)\n",
        "\n",
        "\n",
        "\n",
        "extending_lists()"
      ],
      "execution_count": 20,
      "outputs": [
        {
          "output_type": "stream",
          "name": "stdout",
          "text": [
            "Years:  [1960, 1970, 1980, 1990, 2000]\n",
            "2022-01-23\n",
            "2022\n",
            "1960  was  62  years ago\n",
            "1970  was  52  years ago\n",
            "1980  was  42  years ago\n",
            "1990  was  32  years ago\n",
            "2000  was  22  years ago\n",
            "[1960, 1970, 1980, 1990, 2000, 2010, 2020]\n",
            "[1960, 1970, 1980, 1990, 2000, 2010, 2020]\n",
            "[1930, 1940, 1950]\n",
            "[1930, 1940, 1950, 1960, 1970, 1980, 1990, 2000, 2010, 2020]\n"
          ]
        }
      ]
    },
    {
      "cell_type": "markdown",
      "metadata": {
        "id": "S5iPicFzBzOW"
      },
      "source": [
        "---\n",
        "### Exercise 2 - creating a dictionary from a tuple and three lists\n",
        "\n",
        "Write a function which will create a list of dictionary items using the values in a tuple as the dictionary keys and the values in three corresponding lists as the dictionary values.\n",
        "\n",
        "*  loop through the status items in the tuple called task_status\n",
        "*  for each status, loop through the list with the same name (*Hint:  you can use eval(status) to access the list with the matching name  e.g. for task in eval(status)* )\n",
        "*  each time round this second loop, create a dictionary object with the  key:value pair {status : task}\n",
        "*  add each new dictionary to a list called **project_board** that was created as an empty list before the loops  \n",
        "*  print the project_board list\n",
        "\n",
        "Expected output:  \n",
        "\n",
        "[{'assigned': 'task1'}, {'assigned': 'task2'}, {'assigned': 'task3'}, {'inprogress': 'task4'}, {'inprogress': 'task5'}, {'inprogress': 'task6'}, {'completed': 'task7'}, {'completed': 'task8'}, {'completed': 'task9'}] \n",
        "\n"
      ]
    },
    {
      "cell_type": "code",
      "metadata": {
        "id": "KXYOSHY-C7m4",
        "colab": {
          "base_uri": "https://localhost:8080/"
        },
        "outputId": "6aa4cb92-c0c3-4928-e766-048378b7f923"
      },
      "source": [
        "def create_project_board():\n",
        "  task_status = (\"assigned\", \"inprogress\", \"completed\")\n",
        "  assigned = ['task1','task2','task3']\n",
        "  inprogress = ['task4','task5','task6']\n",
        "  completed = ['task7','task8','task9']\n",
        "  project_board = [] #empty list\n",
        "  #  add your code below here\n",
        "  for status in task_status:\n",
        "#    print(status,\":   \\t\")\n",
        "    for x in eval(status):\n",
        "#      print(\"\\t\",x)\n",
        "      wee_dict = {status:x}\n",
        "#      print(\"\\t\\t\",wee_dict)\n",
        "      project_board.append(wee_dict)\n",
        "\n",
        "  print(project_board)\n",
        "\n",
        "\n",
        "create_project_board()\n"
      ],
      "execution_count": 28,
      "outputs": [
        {
          "output_type": "stream",
          "name": "stdout",
          "text": [
            "[{'assigned': 'task1'}, {'assigned': 'task2'}, {'assigned': 'task3'}, {'inprogress': 'task4'}, {'inprogress': 'task5'}, {'inprogress': 'task6'}, {'completed': 'task7'}, {'completed': 'task8'}, {'completed': 'task9'}]\n"
          ]
        }
      ]
    },
    {
      "cell_type": "markdown",
      "metadata": {
        "id": "M1BuTu9p19Ma"
      },
      "source": [
        "---\n",
        "### Exercise 3 - names and heights\n",
        "\n",
        "Write a function which will allow a user to enter the names and heights of a set of people and add each set of information as a record (dictionary) to a list. The function will stop collecting names and heights when the user enters \"STOP\" as the name.\n",
        "\n",
        "Then, the function will:  \n",
        "\n",
        "*   produce a list of names in order of the shortest person to the tallest\n",
        "*   calculate the name of the tallest person\n",
        "*   calculate the name of the shortest person\n",
        "*   calculate the average height\n",
        "*   calculate the name of the person who is closest to the average height\n",
        "\n",
        "\n",
        "\n",
        "\n"
      ]
    },
    {
      "cell_type": "code",
      "metadata": {
        "id": "reuyww3e18uv",
        "colab": {
          "base_uri": "https://localhost:8080/"
        },
        "outputId": "b56c6cd8-3397-4660-bc35-6d33144d7f1d"
      },
      "source": [
        "def names_and_heights():\n",
        "  stop_now = False\n",
        "  record = {} #create empty dictionary\n",
        "  names_height_list = [] # empty dict\n",
        "  while stop_now == False:\n",
        "    name = input(\"please enter name: \")\n",
        "    if name == \"STOP\":\n",
        "      stop_now = True\n",
        "      print(\"cheerio\")\n",
        "    else:\n",
        "      height = float(input(\"please enter height in m: \"))\n",
        "      record = (name,height)\n",
        "      print(record)\n",
        "      names_height_list.append(record)\n",
        "\n",
        "    \n",
        "\n",
        "  print(names_height_list)\n",
        "\n",
        "# produce a list of names in order of the shortest person to the tallest\n",
        "  # sort the list by height which is the second item in each record\n",
        "  names_height_list.sort()\n",
        "\n",
        "#calculate the name of the tallest person\n",
        "#calculate the name of the shortest person\n",
        "#calculate the average height\n",
        "#calculate the name of the person who is closest to the average heightin\n",
        "\n",
        "# to be \n",
        "\n",
        "names_and_heights()"
      ],
      "execution_count": 35,
      "outputs": [
        {
          "output_type": "stream",
          "name": "stdout",
          "text": [
            "please enter name: fgdf\n",
            "please enter height in m: 43\n",
            "('fgdf', 43.0)\n",
            "please enter name: 34534\n",
            "please enter height in m: 34534\n",
            "('34534', 34534.0)\n",
            "please enter name: erter\n",
            "please enter height in m: 67\n",
            "('erter', 67.0)\n",
            "please enter name: STOP\n",
            "cheerio\n",
            "[('fgdf', 43.0), ('34534', 34534.0), ('erter', 67.0)]\n"
          ]
        }
      ]
    }
  ]
}