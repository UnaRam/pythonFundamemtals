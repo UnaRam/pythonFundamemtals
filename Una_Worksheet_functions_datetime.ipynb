{
  "nbformat": 4,
  "nbformat_minor": 0,
  "metadata": {
    "colab": {
      "name": "Una Worksheet-functions-datetime.ipynb",
      "provenance": [],
      "collapsed_sections": [],
      "include_colab_link": true
    },
    "kernelspec": {
      "name": "python3",
      "display_name": "Python 3"
    },
    "language_info": {
      "name": "python"
    }
  },
  "cells": [
    {
      "cell_type": "markdown",
      "metadata": {
        "id": "view-in-github",
        "colab_type": "text"
      },
      "source": [
        "<a href=\"https://colab.research.google.com/github/UnaRam/pythonFundamemtals/blob/main/Una_Worksheet_functions_datetime.ipynb\" target=\"_parent\"><img src=\"https://colab.research.google.com/assets/colab-badge.svg\" alt=\"Open In Colab\"/></a>"
      ]
    },
    {
      "cell_type": "markdown",
      "metadata": {
        "id": "7iQyKP-SQiw1"
      },
      "source": [
        "# User-defined functions using datetime library\n",
        "\n",
        "---\n"
      ]
    },
    {
      "cell_type": "markdown",
      "metadata": {
        "id": "Vi93h5I4QnKs"
      },
      "source": [
        "When working with dates and times, fairly common in data sets, we need to be able to extract certain bits of information.  \n",
        "\n",
        "In Python, as with other languages, dates and times are stored in a data structure that combines the two together and stores the information as a number of seconds since a start point (often 1st January 1900).  This is obviously a large number but every bit of information about a date can be extracted from it and used to give a wide range of information.  \n",
        "\n",
        "Have a go at the exercises below to use a selection of datetime functions and return a new bit of data from each, to be printed by the caller.\n",
        "\n",
        "Before you can use datetime functions you will need to import them. Import the datetime functions like this:\n",
        "\n",
        "`from datetime import datetime`  \n",
        "\n",
        "\n",
        "For more information about datetime functions visit [w3Schools-Python datetime](https://www.w3schools.com/python/python_datetime.asp) and [Python docs](https://docs.python.org/3/library/datetime.html)"
      ]
    },
    {
      "cell_type": "markdown",
      "metadata": {
        "id": "MIDLi7CNR034"
      },
      "source": [
        "---\n",
        "### Exercise 1 - print current date and time\n",
        "\n",
        "Write a function that will return the date and time now.  The caller will print it.  \n",
        "\n",
        "*Hint:  the format has been added for you, the other exercises will follow a similar format.   Always remember to import datetime from datetime as shown below*"
      ]
    },
    {
      "cell_type": "code",
      "metadata": {
        "id": "gS6GJdXbQfHp",
        "colab": {
          "base_uri": "https://localhost:8080/"
        },
        "outputId": "da461e0d-b1f9-4c39-e795-732c70255725"
      },
      "source": [
        "from datetime import datetime, timezone\n",
        "# add your function, called get_datetime_now() below here\n",
        "def get_datetime_now() :\n",
        "\n",
        "  mydatenow = datetime.now()\n",
        "\n",
        "\n",
        "  return(mydatenow)\n",
        "\n",
        "\n",
        "now_date_time = get_datetime_now()\n",
        "print(now_date_time)"
      ],
      "execution_count": 5,
      "outputs": [
        {
          "output_type": "stream",
          "name": "stdout",
          "text": [
            "2022-01-19 13:02:45.270002\n"
          ]
        }
      ]
    },
    {
      "cell_type": "markdown",
      "metadata": {
        "id": "Yy24sL0bUtpF"
      },
      "source": [
        "---\n",
        "Exercise 2 - print the current year\n",
        "\n",
        "Write a function that will return the current year.  The caller will print the year."
      ]
    },
    {
      "cell_type": "code",
      "metadata": {
        "id": "YqlQqPIqUtyr",
        "colab": {
          "base_uri": "https://localhost:8080/"
        },
        "outputId": "2fb91826-177f-4afd-9ef3-c6a0e24cc27a"
      },
      "source": [
        "import datetime\n",
        "def current_year():# imported all of datetime otherwise didn't have date\n",
        "  mydatenow = datetime.date.today()\n",
        "#  mydatenow = datetime.date(2009,12,26)\n",
        "#  myday = mydatenow.strftime(\"%A\")\n",
        "  currentYear = mydatenow.strftime(\"%Y\")\n",
        "  \n",
        "  return(currentYear)\n",
        "\n",
        "\n",
        "print(current_year())"
      ],
      "execution_count": 21,
      "outputs": [
        {
          "output_type": "stream",
          "name": "stdout",
          "text": [
            "2022\n"
          ]
        }
      ]
    },
    {
      "cell_type": "markdown",
      "metadata": {
        "id": "FzSVCaJKV1O1"
      },
      "source": [
        "---\n",
        "### Exercise 3 - print the current day of the week\n",
        "\n",
        "Write a function that will return the current day of the week.  The caller will print it."
      ]
    },
    {
      "cell_type": "code",
      "metadata": {
        "id": "OP4ZIXBWV1Yj",
        "colab": {
          "base_uri": "https://localhost:8080/"
        },
        "outputId": "1d09fd7b-56aa-467f-900e-006bf5d15cf9"
      },
      "source": [
        "import datetime\n",
        "def current_day():# imported all of datetime otherwise didn't have date\n",
        "  mydatenow = datetime.date.today()\n",
        "#  mydatenow = datetime.date(2009,12,26)\n",
        "#  myday = mydatenow.strftime(\"%A\")\n",
        "  currentDay = mydatenow.strftime(\"%A\")\n",
        "  \n",
        "  return(currentDay)\n",
        "\n",
        "\n",
        "print(current_day())"
      ],
      "execution_count": 2,
      "outputs": [
        {
          "output_type": "stream",
          "name": "stdout",
          "text": [
            "Thursday\n"
          ]
        }
      ]
    },
    {
      "cell_type": "markdown",
      "metadata": {
        "id": "a8euCtdmWIDE"
      },
      "source": [
        "---\n",
        "### Exercise 4 - create a new date\n",
        "\n",
        "Write a function that will take 3 parameters, day, month, year (3 numbers that make a valid date) and will create, and return a new date.  The caller will print the date."
      ]
    },
    {
      "cell_type": "code",
      "metadata": {
        "id": "FbOFnTwnWILN",
        "colab": {
          "base_uri": "https://localhost:8080/"
        },
        "outputId": "1cb1d018-5e4a-4114-fac2-3b8d5c464021"
      },
      "source": [
        "import datetime\n",
        "\n",
        "def create_new_date(day, month, year):\n",
        "  mydate = datetime.date(year,month,day)\n",
        "\n",
        "  return(mydate)\n",
        "print(create_new_date(21,12,2001))"
      ],
      "execution_count": 3,
      "outputs": [
        {
          "output_type": "stream",
          "name": "stdout",
          "text": [
            "2001-12-21\n"
          ]
        }
      ]
    },
    {
      "cell_type": "markdown",
      "metadata": {
        "id": "f5SKVuE0WfcE"
      },
      "source": [
        "---\n",
        "### Exercise 5 - create a valid date\n",
        "\n",
        "Write a function that will take 3 parameters, day, month, year (3 numbers) and will:  \n",
        "*   check that the month is between 1 and 12  \n",
        "*   check that the day is valid for the month (e.g. if the month is 2, then the day must be between 1 and 28 (don't worry about leap years for the moment)  \n",
        "*   if the date is not valid, print an error message and return None (which the caller will print)  \n",
        "*   if the date is valid, store it in a new variable, return the variable and the caller will print it."
      ]
    },
    {
      "cell_type": "code",
      "metadata": {
        "id": "gclt-f9-XfdG",
        "colab": {
          "base_uri": "https://localhost:8080/"
        },
        "outputId": "58542a7c-fdad-4655-bfe0-a451241d24ad"
      },
      "source": [
        "import datetime\n",
        "\n",
        "def create_new_date(day, month, year):\n",
        "  print(day,month,year)\n",
        "  is_date = False\n",
        "  if 1 <= month <=12:\n",
        "    if month == 2:\n",
        "      if 1<=day<=28:\n",
        "        is_date = True\n",
        "    elif month in (1,3,5,7,8,10,12):\n",
        "      if 1 <=day <=31:\n",
        "        is_date = True\n",
        "    elif month in (4,6,9,11):\n",
        "      if 1 <= day <= 30:\n",
        "        is_date = True\n",
        "  if is_date == True:  \n",
        "    mydate = datetime.date(year,month,day)\n",
        "  else:\n",
        "    mydate = None\n",
        "    print(\"invalid date\")\n",
        "  return(mydate)\n",
        "\n",
        "print(create_new_date(31,9,2001))"
      ],
      "execution_count": 13,
      "outputs": [
        {
          "output_type": "stream",
          "name": "stdout",
          "text": [
            "31 9 2001\n",
            "invalid date\n",
            "None\n"
          ]
        }
      ]
    },
    {
      "cell_type": "markdown",
      "metadata": {
        "id": "js7fy2HWXfm2"
      },
      "source": [
        "---\n",
        "### Exercise 6 - is it a leap year?\n",
        "\n",
        "Write a function that will take a date as a parameter (you will need to create the date variable before calling the function) and will determine if it is a leap year, returning True or False.\n",
        "\n",
        "*Hint:  a leap year is a year that is divisible by 4 but the centuries (1900, 2000, etc are only leap years if they are divisible by 400)*"
      ]
    },
    {
      "cell_type": "code",
      "metadata": {
        "id": "KY1jtf3lX_ps",
        "colab": {
          "base_uri": "https://localhost:8080/"
        },
        "outputId": "c14d2db7-fbb7-439a-ced4-6ee453343e50"
      },
      "source": [
        "from datetime import datetime\n",
        "def is_leap_year(date_to_check):\n",
        "  # add your code below here\n",
        "  print(date_to_check)\n",
        "  myYear = int(date_to_check.strftime(\"%Y\"))#returns a str so cast as an int\n",
        "  print(myYear)\n",
        "\n",
        "  answer = False # so have to prove it is true\n",
        "  if myYear%4 == 0:\n",
        "    if myYear%100 ==0:\n",
        "      if myYear%400 ==0:\n",
        "        answer = True\n",
        "#      else:# not div 400\n",
        "#    else: # not div 100\n",
        "#  else: #not div 4\n",
        "\n",
        "  return(answer)\n",
        "\n",
        "check_date = datetime(2401, 12, 15)\n",
        "if is_leap_year(check_date):\n",
        "  print(check_date.strftime(\"%Y\"), \"is a leap year\")\n",
        "else:\n",
        "  print(check_date.strftime(\"%Y\"), \"is not a leap year\")"
      ],
      "execution_count": 29,
      "outputs": [
        {
          "output_type": "stream",
          "name": "stdout",
          "text": [
            "2401-12-15 00:00:00\n",
            "2401\n",
            "2401 is not a leap year\n"
          ]
        }
      ]
    },
    {
      "cell_type": "markdown",
      "metadata": {
        "id": "9BuRDi08YAO0"
      },
      "source": [
        "---\n",
        "### Exercise 7 - display parts of date/time\n",
        "\n",
        "Write a function that will take a date and print from it the following:  \n",
        "*  given date and time  \n",
        "*  year (in full) \n",
        "*  month (as a number) \n",
        "*  month name \n",
        "*  week number of the year  \n",
        "*  weekday of the week (as a number)  \n",
        "*  day of year  \n",
        "*  day of the month  \n",
        "*  day of week (as a name)  \n",
        "\n",
        "*Hint:  see w3Schools for [strftime reference](https://www.w3schools.com/python/python_datetime.asp)*\n",
        "\n"
      ]
    },
    {
      "cell_type": "code",
      "metadata": {
        "id": "zl-37Ez9ahym",
        "colab": {
          "base_uri": "https://localhost:8080/"
        },
        "outputId": "6f267af3-cce8-42d9-f123-2d9383b8658b"
      },
      "source": [
        "from datetime import datetime\n",
        "def display_date_time(date_to_check):\n",
        "  print(date_to_check)\n",
        "  print(date_to_check.strftime(\"%Y\"))\n",
        "  print(date_to_check.strftime(\"%m\"))\n",
        "  print(date_to_check.strftime(\"%B\"))\n",
        "  print(date_to_check.strftime(\"%W\"))\n",
        "  print(date_to_check.strftime(\"%w\"))\n",
        "  print(date_to_check.strftime(\"%j\"))\n",
        "  print(date_to_check.strftime(\"%d\"))\n",
        "  print(date_to_check.strftime(\"%A\"))\n",
        "\n",
        "\n",
        "  return\n",
        "\n",
        "check_date = datetime(2021, 11, 1)\n",
        "display_date_time(check_date)\n"
      ],
      "execution_count": 42,
      "outputs": [
        {
          "output_type": "stream",
          "name": "stdout",
          "text": [
            "2021-11-01 00:00:00\n",
            "2021\n",
            "11\n",
            "November\n",
            "44\n",
            "1\n",
            "305\n",
            "01\n",
            "Monday\n"
          ]
        }
      ]
    },
    {
      "cell_type": "markdown",
      "metadata": {
        "id": "_rpTIoSDaiBj"
      },
      "source": [
        "---\n",
        "### Exercise 8 - next 6 days\n",
        "\n",
        "Write a function that will take a date and generate the dates of the following 6 days.  It should print each of the 6 days in the form:  \n",
        "\n",
        "DAY OF THE WEEK, MONTH NAME, FULL YEAR\n",
        "\n",
        "Hint:  to generate the days, use the function datetime.timedelta(), there is a good example of its use [here](https://www.geeksforgeeks.org/python-datetime-timedelta-function/)  "
      ]
    },
    {
      "cell_type": "code",
      "metadata": {
        "id": "1d-oXqLLb0vX",
        "colab": {
          "base_uri": "https://localhost:8080/"
        },
        "outputId": "97af8919-7b4b-493f-c8a4-d3ae1ea14096"
      },
      "source": [
        "from datetime import datetime, timedelta\n",
        "\n",
        "def next_6_days(date_to_check):\n",
        "  print(date_to_check)\n",
        "\n",
        "  for i in range(1,7):\n",
        "    next_date = date_to_check + timedelta(days = i)\n",
        "    print(next_date.strftime(\"%A %B %Y\"))\n",
        "\n",
        "  return\n",
        "\n",
        "check_date = datetime(2022, 1, 20)\n",
        "next_6_days(check_date)\n"
      ],
      "execution_count": 47,
      "outputs": [
        {
          "output_type": "stream",
          "name": "stdout",
          "text": [
            "2022-01-20 00:00:00\n",
            "Friday January 2022\n",
            "Saturday January 2022\n",
            "Sunday January 2022\n",
            "Monday January 2022\n",
            "Tuesday January 2022\n",
            "Wednesday January 2022\n"
          ]
        }
      ]
    },
    {
      "cell_type": "markdown",
      "metadata": {
        "id": "22Rhwx2Sb1Ey"
      },
      "source": [
        "---\n",
        "### Optional extra practice\n",
        "\n",
        "There are some similar and some more challenging exercises [here](https://www.w3resource.com/python-exercises/date-time-exercise/) if you would like to practice more. The site has its own editor."
      ]
    }
  ]
}