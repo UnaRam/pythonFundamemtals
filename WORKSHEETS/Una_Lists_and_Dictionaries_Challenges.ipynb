{
  "nbformat": 4,
  "nbformat_minor": 0,
  "metadata": {
    "colab": {
      "name": "Una Lists and Dictionaries Challenges.ipynb",
      "provenance": [],
      "collapsed_sections": [],
      "include_colab_link": true
    },
    "kernelspec": {
      "name": "python3",
      "display_name": "Python 3"
    },
    "language_info": {
      "name": "python"
    }
  },
  "cells": [
    {
      "cell_type": "markdown",
      "metadata": {
        "id": "view-in-github",
        "colab_type": "text"
      },
      "source": [
        "<a href=\"https://colab.research.google.com/github/UnaRam/pythonFundamemtals/blob/main/Una_Lists_and_Dictionaries_Challenges.ipynb\" target=\"_parent\"><img src=\"https://colab.research.google.com/assets/colab-badge.svg\" alt=\"Open In Colab\"/></a>"
      ]
    },
    {
      "cell_type": "markdown",
      "metadata": {
        "id": "nEJLJX3J9B2k"
      },
      "source": [
        "# Some challenges to help you become more confident with using Lists, Tuples and Dictionaries\n",
        "\n",
        "---\n",
        "\n"
      ]
    },
    {
      "cell_type": "markdown",
      "metadata": {
        "id": "JvV6htgh9Nc1"
      },
      "source": [
        "### Exercise 1 - extending a list\n",
        "\n",
        "There are three ways to extend a list in Python:  \n",
        "*  use `list_name.append(item)`, `list_name.insert(item)`\n",
        "*  concatenate two lists using the + operator (e.g. new_list = list1 + list2)\n",
        "*  use `list1_name.extend(list2_name)`\n",
        "\n",
        "The last method allows us to add all the `list2` items onto `list1` and for the new, extended list to now be `list1`.  `list2` will always be added to the end of `list1`.  \n",
        "\n",
        "If the objective is to add list2 before list1 then use `list2.extend(list1)`\n",
        "\n",
        "Write a function which will:  \n",
        "*  create a list of **years** containing the years 1960, 1970, 1980, 1990, 2000  \n",
        "*  print the list of years  \n",
        "*  calculate how long ago each year was and print the year and how long ago it was (e.g. 1990 was 30 years ago)  *(Hint:  use the datetime library to get the current year)*   \n",
        "*  create a second list, **years2** containing the years 2010 and 2020, extend `years` to include these later years\n",
        "*  create a third list, **years3** containing the years 1930, 1940 and 1950 and extend the list to include all the years between 1930 and 2020\n",
        "*  print the final list\n",
        "\n",
        "Expected output:  \n",
        "[1960, 1970, 1980, 1990]  \n",
        "1960 was 61 years ago  \n",
        "1970 was 51 years ago  \n",
        "1980 was 41 years ago  \n",
        "1990 was 31 years ago  \n",
        "2000 was 21 years ago  \n",
        "[1930, 1940, 1950, 1960, 1970, 1980, 1990, 2000, 2010, 2020] "
      ]
    },
    {
      "cell_type": "code",
      "metadata": {
        "id": "QAyTVqoO8-08",
        "colab": {
          "base_uri": "https://localhost:8080/"
        },
        "outputId": "f7c0cd4c-e82f-4572-a58f-d5c4b39fb346"
      },
      "source": [
        "import datetime\n",
        "\n",
        "def extending_lists():\n",
        "  years = [1960,1970,1980,1990,2000]\n",
        "  print(\"Years: \",years)\n",
        "  datenow = datetime.date.today()\n",
        "  print(datenow)\n",
        "  current_year = int(datenow.strftime(\"%Y\"))\n",
        "  print(current_year)\n",
        "  for x in years:\n",
        "    print(x,\" was \",current_year-x,\" years ago\")\n",
        "\n",
        "  years2 = [2010,2020]\n",
        "  years.extend(years2)\n",
        "  print(years)\n",
        "\n",
        "  years3=[1930,1940,1950]\n",
        "#  years3.extend(years)\n",
        "  final_list = years3 + years\n",
        "  print(years)\n",
        "  print(years3)\n",
        "  print(final_list)\n",
        "\n",
        "\n",
        "\n",
        "extending_lists()"
      ],
      "execution_count": 1,
      "outputs": [
        {
          "output_type": "stream",
          "name": "stdout",
          "text": [
            "Years:  [1960, 1970, 1980, 1990, 2000]\n",
            "2022-03-01\n",
            "2022\n",
            "1960  was  62  years ago\n",
            "1970  was  52  years ago\n",
            "1980  was  42  years ago\n",
            "1990  was  32  years ago\n",
            "2000  was  22  years ago\n",
            "[1960, 1970, 1980, 1990, 2000, 2010, 2020]\n",
            "[1960, 1970, 1980, 1990, 2000, 2010, 2020]\n",
            "[1930, 1940, 1950]\n",
            "[1930, 1940, 1950, 1960, 1970, 1980, 1990, 2000, 2010, 2020]\n"
          ]
        }
      ]
    },
    {
      "cell_type": "markdown",
      "metadata": {
        "id": "S5iPicFzBzOW"
      },
      "source": [
        "---\n",
        "### Exercise 2 - creating a dictionary from a tuple and three lists\n",
        "\n",
        "Write a function which will create a list of dictionary items using the values in a tuple as the dictionary keys and the values in three corresponding lists as the dictionary values.\n",
        "\n",
        "*  loop through the status items in the tuple called task_status\n",
        "*  for each status, loop through the list with the same name (*Hint:  you can use eval(status) to access the list with the matching name  e.g. for task in eval(status)* )\n",
        "*  each time round this second loop, create a dictionary object with the  key:value pair {status : task}\n",
        "*  add each new dictionary to a list called **project_board** that was created as an empty list before the loops  \n",
        "*  print the project_board list\n",
        "\n",
        "Expected output:  \n",
        "\n",
        "[{'assigned': 'task1'}, {'assigned': 'task2'}, {'assigned': 'task3'}, {'inprogress': 'task4'}, {'inprogress': 'task5'}, {'inprogress': 'task6'}, {'completed': 'task7'}, {'completed': 'task8'}, {'completed': 'task9'}] \n",
        "\n"
      ]
    },
    {
      "cell_type": "code",
      "metadata": {
        "id": "KXYOSHY-C7m4",
        "colab": {
          "base_uri": "https://localhost:8080/"
        },
        "outputId": "5a3465c2-bbce-48c0-ca4c-dc17d75ac9c3"
      },
      "source": [
        "def create_project_board():\n",
        "  task_status = (\"assigned\", \"inprogress\", \"completed\")\n",
        "  assigned = ['task1','task2','task3']\n",
        "  inprogress = ['task4','task5','task6']\n",
        "  completed = ['task7','task8','task9']\n",
        "  project_board = [] #empty list\n",
        "  #  add your code below here\n",
        "  for status in task_status:\n",
        "#    print(status,\":   \\t\")\n",
        "    for x in eval(status):\n",
        "#      print(\"\\t\",x)\n",
        "      wee_dict = {status:x}\n",
        "#      print(\"\\t\\t\",wee_dict)\n",
        "      project_board.append(wee_dict)\n",
        "\n",
        "  print(project_board)\n",
        "\n",
        "\n",
        "create_project_board()\n"
      ],
      "execution_count": 2,
      "outputs": [
        {
          "output_type": "stream",
          "name": "stdout",
          "text": [
            "[{'assigned': 'task1'}, {'assigned': 'task2'}, {'assigned': 'task3'}, {'inprogress': 'task4'}, {'inprogress': 'task5'}, {'inprogress': 'task6'}, {'completed': 'task7'}, {'completed': 'task8'}, {'completed': 'task9'}]\n"
          ]
        }
      ]
    },
    {
      "cell_type": "markdown",
      "metadata": {
        "id": "M1BuTu9p19Ma"
      },
      "source": [
        "---\n",
        "### Exercise 3 - names and heights\n",
        "\n",
        "Write a function which will allow a user to enter the names and heights of a set of people and add each set of information as a record (dictionary) to a list. The function will stop collecting names and heights when the user enters \"STOP\" as the name.\n",
        "\n",
        "Then, the function will:  \n",
        "\n",
        "*   produce a list of names in order of the shortest person to the tallest\n",
        "*   calculate the name of the tallest person\n",
        "*   calculate the name of the shortest person\n",
        "*   calculate the average height\n",
        "*   calculate the name of the person who is closest to the average height\n",
        "\n",
        "\n",
        "\n",
        "\n"
      ]
    },
    {
      "cell_type": "code",
      "metadata": {
        "id": "reuyww3e18uv",
        "colab": {
          "base_uri": "https://localhost:8080/"
        },
        "outputId": "4d449b39-7038-4d7c-f754-e8aa9528c83f"
      },
      "source": [
        "from operator import itemgetter\n",
        "\n",
        "def names_and_heights():\n",
        "# populate the dictionary\n",
        "  stop_now = False\n",
        "  record = {} #create empty dictionary to be used for each record\n",
        " \n",
        "  # uncomment to run input capture\n",
        "  # names_height_list = [] # empty list\n",
        "  # while stop_now == False:\n",
        "  #   name = input(\"please enter name (or STOP to finish): \")\n",
        "    \n",
        "  #   if name == \"STOP\":\n",
        "  #     stop_now = True\n",
        "  #     print(\"cheerio\")\n",
        "  #   else:\n",
        "  #     height = float(input(\"please enter height in m: \"))\n",
        "  #     record[\"name\"] = name\n",
        "  #     record[\"height\"]=height \n",
        "  #     print(\"record is:\\t\",record)\n",
        "  #     record_copy = record.copy()\n",
        "  #     names_height_list.append(record_copy) #have to use a copy as otherwise has a list to objects which then change \n",
        "  #     https://www.kite.com/python/answers/how-to-append-a-dictionary-to-a-list-in-python\n",
        "  #     print(\"list = \",names_height_list)\n",
        "    \n",
        "  \n",
        "\n",
        "  # for troubleshooting use a defined list\n",
        "  names_height_list = [{'name': 'Annie', 'height': 1.67}, {'name': 'Sara', 'height': 1.68}, {'name': 'Meenie', 'height': 1.58},{'name': 'Toby', 'height': 1.66}]\n",
        "  print(\"here's the  list:\\t\",names_height_list)\n",
        "\n",
        "# produce a list of names in order of the shortest person to the tallest\n",
        "# https://stackoverflow.com/questions/72899/how-do-i-sort-a-list-of-dictionaries-by-a-value-of-the-dictionary\n",
        "  sorted_names_height_list = sorted(names_height_list, key=itemgetter('height'), reverse = False)\n",
        "  print(\"sorted list\\t\",sorted_names_height_list)\n",
        "  #just want the list of names\n",
        "  names_list = []\n",
        "  for rec in sorted_names_height_list:\n",
        "    # print(rec['name'])\n",
        "    names_list.append(rec['name'])\n",
        "    \n",
        "  \n",
        " #calculate the name of the tallest and shortest person \n",
        "  print(\"names shortest to tallest:\\t\",names_list)\n",
        "  len_names = len(names_list)\n",
        "  print(\"tallest person is\\t\",names_list[-1])\n",
        "  print(\"smallest person is\\t\",names_list[0])\n",
        "\n",
        "# calculate the average height\n",
        "# get list of just heights\n",
        "  heights_list = []\n",
        "  for rec in sorted_names_height_list:\n",
        "        heights_list.append(rec['height'])\n",
        "\n",
        "  print(\"list of heights\",heights_list)\n",
        "  num_heights = len(heights_list)\n",
        "  total = 0\n",
        "  for height in heights_list:\n",
        "    total+=height\n",
        "  average_height = round((total/num_heights),3)\n",
        "  print(\"average_height\\t\",average_height)\n",
        "\n",
        "\n",
        "# calculate the name of the person who is closest to the average height\n",
        "  \n",
        "  min_delta = 99999\n",
        "  avg_name = \"\"\n",
        "  for i in range(len(heights_list)):\n",
        "        delta_height_from_average = round((heights_list[i]-average_height),3)\n",
        "        if abs(delta_height_from_average) < min_delta:\n",
        "            min_delta = abs(delta_height_from_average)\n",
        "            avg_name = names_list[i]\n",
        "        \n",
        "  print(\"Closest to average is \",avg_name, \"with delta = \",delta_height_from_average)\n",
        "        \n",
        "\n",
        "\n",
        "\n",
        "\n",
        "\n",
        "\n",
        "#max(iterable, *[, key, default])\n",
        "#max(arg1, arg2, *args[, key])\n",
        "#Return the largest item in an iterable or the largest of two or more arguments.\n",
        "\n",
        "  # tallest= max(sorted_d, key=sorted_d.get)  # what does this sorted_d.get return? could use max of the unsorted? #why are there no parameters for get?\n",
        "\n",
        "\n",
        "# see https://www.kite.com/python/answers/how-to-find-the-max-value-in-a-dictionary-in-python\n",
        "#USE max() AND dict.get TO FIND THE KEY WITH THE MAX VALUE IN A DICTIONARY\n",
        "#Call max(iterable, key=dict.get) with the same dictionary as both iterable and dict to find the key paired with the max value.\n",
        "#\n",
        "\n",
        "  # other_tallest = max(names_height_dict,key=names_height_dict.get)\n",
        "  # print(\"other tallest\",other_tallest)\n",
        "\n",
        "#get() method takes maximum of two parameters:\n",
        "#key - key to be searched in the dictionary\n",
        "#value (optional) - Value to be returned if the key is not found. The default value is None.\n",
        "#Return Value from get()\n",
        "#get() method returns:\n",
        "#the value for the specified key if key is in the dictionary.\n",
        "#None if the key is not found and value is not specified.\n",
        "#value if the key is not found and value is specified.\n",
        "\n",
        "#   print(\"the tallest person is :\",tallest)\n",
        "\n",
        "# #calculate the name of the shortest person\n",
        "#   shortest = min(sorted_d, key=sorted_d.get)\n",
        "#   print(\"the shortest person is :\",shortest)\n",
        "\n",
        "\n",
        "#calculate the average height\n",
        "#calculate the name of the person who is closest to the average heightin\n",
        "\n",
        "# to be \n",
        "#def get_height(person):\n",
        "#  return(int(person['height']))\n",
        "\n",
        "#names_height_list.sort(key = get_height)  \n",
        "names_and_heights()\n",
        "\n",
        "\n",
        "\n",
        "\n",
        "#from Phoebe\n",
        "#import operator\n",
        "#def names_heights():\n",
        "#  record_dict = {}\n",
        "#  names_heights_list = []\n",
        "#  totalheights = 0\n",
        "#  peoplecounter = 0\n",
        "#  name = input(\"enter the name (STOP for quit):\")\n",
        "#  height = int(input(\"enter the height :\"))\n",
        "#  while name != \"STOP\":\n",
        "#    print(\"in\", name)\n",
        "#    if name!= \"STOP\" :\n",
        "#      record_dict[name]= height\n",
        "#      print(\"so far, dict :\",record_dict)\n",
        "#      totalheights += height\n",
        "#      peoplecounter += 1\n",
        "#      name = input(\"enter the name:\")\n",
        "#      if name == \"STOP\":\n",
        "#        print(\"Thank you. Bye\")\n",
        "#      else:\n",
        "#        height = int(input(\"enter the height :\"))\n",
        "#  sorted_d = dict( sorted(record_dict.items(), key=operator.itemgetter(1),reverse=False))\n",
        "#  names_heights_list.append(sorted_d)\n",
        "#  print(names_heights_list)\n",
        "#  tallest= max(sorted_d, key=sorted_d.get)\n",
        "#  print(\"the tallest person is :\",tallest)\n",
        "#  shortest = min(sorted_d, key=sorted_d.get)\n",
        "#  print(\"the shortest person is :\",shortest)\n",
        "#  print(\"total heights : \",totalheights)\n",
        "#  print(\"average heights : \",totalheights/peoplecounter)\n",
        "# names_heights()"
      ],
      "execution_count": 56,
      "outputs": [
        {
          "output_type": "stream",
          "name": "stdout",
          "text": [
            "here's the  list:\t [{'name': 'Annie', 'height': 1.67}, {'name': 'Sara', 'height': 1.68}, {'name': 'Meenie', 'height': 1.58}, {'name': 'Toby', 'height': 1.66}]\n",
            "sorted list\t [{'name': 'Meenie', 'height': 1.58}, {'name': 'Toby', 'height': 1.66}, {'name': 'Annie', 'height': 1.67}, {'name': 'Sara', 'height': 1.68}]\n",
            "names shortest to tallest:\t ['Meenie', 'Toby', 'Annie', 'Sara']\n",
            "tallest person is\t Sara\n",
            "smallest person is\t Meenie\n",
            "list of heights [1.58, 1.66, 1.67, 1.68]\n",
            "average_height\t 1.647\n",
            "Closest to average is  Toby with delta =  0.033\n"
          ]
        }
      ]
    }
  ]
}