{
  "nbformat": 4,
  "nbformat_minor": 0,
  "metadata": {
    "colab": {
      "name": "Una - Numpy mini-project.ipynb",
      "provenance": [],
      "collapsed_sections": [],
      "include_colab_link": true
    },
    "kernelspec": {
      "name": "python3",
      "display_name": "Python 3"
    },
    "language_info": {
      "name": "python"
    }
  },
  "cells": [
    {
      "cell_type": "markdown",
      "metadata": {
        "id": "view-in-github",
        "colab_type": "text"
      },
      "source": [
        "<a href=\"https://colab.research.google.com/github/UnaRam/pythonFundamemtals/blob/main/Una_Numpy_mini_project.ipynb\" target=\"_parent\"><img src=\"https://colab.research.google.com/assets/colab-badge.svg\" alt=\"Open In Colab\"/></a>"
      ]
    },
    {
      "cell_type": "markdown",
      "source": [
        "# Investigate, wrangle, add new data to the dataframe, filter and correlate\n",
        "\n",
        "The following data file contains data about student scores in math, reading and writing.  The exam scores are assumed to be percentages. It also contains data about gender, ethnicity, parental education, whether the student qualifies for free school food and whether or not the student has taken a preparation course for the exams.  The data set has already been cleaned. \n",
        "\n",
        "1.  Investigate the data set.\n",
        "\n",
        "2.  Create numpy arrays to hold each of the three sets of scores.  \n",
        "Create a new numpy array to hold the average exam score (of the three scores for each student)\n",
        "Add the new numpy array as a new column in the dataframe.\n",
        "\n",
        "3.  Filter the original dataset into a new dataframe containing just the females.  Calculate the average exam scores for all rows in this new dataframe and then find the mean of the average column.\n",
        "\n",
        "4.  Do the same for the males.\n",
        "\n",
        "5.  Use the original dataset to find the correlation coefficient for reading and maths.  How closely do they correlate?  Write what you find in a text box below the code.\n",
        "\n",
        "6.  Do the same for reading and writing. What do you find?\n",
        "\n",
        "7.  You might want to filter on different criteria and check correlation (e.g. those on free school meals, or those who had prepared, etc)\n",
        "\n",
        "\n",
        "\n",
        "\n",
        "\n"
      ],
      "metadata": {
        "id": "8qnlsapq24Df"
      }
    },
    {
      "cell_type": "code",
      "source": [
        ""
      ],
      "metadata": {
        "id": "8Qq2HeCr7avi"
      },
      "execution_count": null,
      "outputs": []
    },
    {
      "cell_type": "markdown",
      "source": [
        ""
      ],
      "metadata": {
        "id": "oyHmG9U46jvi"
      }
    },
    {
      "cell_type": "markdown",
      "source": [
        "The dataset can be accessed here:  https://raw.githubusercontent.com/lilaceri/Working-with-data-/main/Data%20Sets%20for%20code%20divisio/exams.csv.  This is a .csv file.\n",
        "\n",
        "**NOTE:** Some useful references are included at the bottom of this spreadsheet.\n",
        "\n",
        "Use the code cell below to work your code."
      ],
      "metadata": {
        "id": "SSvLiFnp4LjG"
      }
    },
    {
      "cell_type": "markdown",
      "source": [
        "### Helpful references\n",
        "---\n",
        "\n",
        "Filtering on criteria using df references:  \n",
        "`filtered_df = df[df['column name' == value]]`  \n",
        "\n",
        "Filtering on multiple criteria using df reference:  \n",
        "`filtered_df = df[df['first column name' == value] & df[second column name] >= value]`\n",
        "\n",
        "Numpy help sheet:  http://datacamp-community-prod.s3.amazonaws.com/da466534-51fe-4c6d-b0cb-154f4782eb54\n",
        "\n"
      ],
      "metadata": {
        "id": "hkj-Ofus_D6_"
      }
    },
    {
      "cell_type": "code",
      "source": [
        "import pandas as pd\n",
        "import numpy as np\n",
        "pd.set_option('display.max_rows', 500)\n",
        "pd.set_option('display.max_columns', 500)\n",
        "pd.set_option('display.width', 1000)\n",
        "\n",
        "def calculate_average_scores(df):\n",
        "  # print(df.info())\n",
        "  # print(df.head())\n",
        "  # print(df.tail())\n",
        "  math_scores_a = np.array(df['math_score'])\n",
        "  reading_scores_a = np.array(df['reading_score'])\n",
        "  writing_scores_a = np.array(df['writing_score'])\n",
        "  # print(math_scores_a.shape)\n",
        "  # print(reading_scores_a.shape)\n",
        "  # print(writing_scores_a.shape)\n",
        "  average_score_a = (math_scores_a + reading_scores_a + writing_scores_a)/3\n",
        "  # print(average_score_a)\n",
        "  df['average_score']=average_score_a.tolist()\n",
        "\n",
        "  # print(\"average score_a:\\n\",average_score_a)\n",
        "  return average_score_a\n",
        "\n",
        "\n",
        "\n",
        "\n",
        "\n",
        "def filter_df(df,col_to_filt,text_to_filter):\n",
        "  # Filter the original dataset into a new dataframe containing just the females. \n",
        "  # Calculate the average exam scores for all rows in this new dataframe and then find the mean of the average column.\n",
        " \n",
        "    filtered_df = df[df[col_to_filt] == text_to_filter]\n",
        "    print(\"\\n\\nfiltered on \",text_to_filter,\": \\n\", filtered_df.head())\n",
        "    return filtered_df\n",
        "\n",
        "#read raw data\n",
        "url = \"https://raw.githubusercontent.com/lilaceri/Working-with-data-/main/Data%20Sets%20for%20code%20divisio/exams.csv\"\n",
        "scores_df = pd.read_csv(url)\n",
        "\n",
        "\n",
        "\n",
        "def filter_and_return_average(df,col_to_filter,text_to_filter):\n",
        "  filtered_scores_df = filter_df(df,col_to_filter,text_to_filter)\n",
        "  filtered_average_a = calculate_average_scores(filtered_scores_df)\n",
        "  filtered_average = round(filtered_average_a.mean(),2)\n",
        "  return filtered_average\n",
        "\n",
        "female_average = filter_and_return_average(scores_df,'gender','female')\n",
        "print(\"FEMALE: \",female_average)\n",
        "male_average = filter_and_return_average(scores_df,'gender','male')\n",
        "print(\"MALE: \",male_average)\n",
        " "
      ],
      "metadata": {
        "id": "txM4TIRUHhsJ",
        "colab": {
          "base_uri": "https://localhost:8080/"
        },
        "outputId": "e8035a7c-8298-4462-8cef-0b404ad6e27a"
      },
      "execution_count": 76,
      "outputs": [
        {
          "output_type": "stream",
          "name": "stdout",
          "text": [
            "\n",
            "\n",
            "filtered on  female : \n",
            "    gender ethnicity parental_education         lunch preparation_course  math_score  reading_score  writing_score\n",
            "0  female   group E       some college  free/reduced               none          65             76             71\n",
            "2  female   group B   some high school  free/reduced          completed          62             56             61\n",
            "4  female   group C        high school  free/reduced          completed          34             54             55\n",
            "5  female   group B       some college  free/reduced               none          53             66             61\n",
            "6  female   group D       some college      standard               none          85             88             92\n",
            "FEMALE:  70.82\n",
            "\n",
            "\n",
            "filtered on  male : \n",
            "    gender ethnicity  parental_education     lunch preparation_course  math_score  reading_score  writing_score\n",
            "1    male   group C        some college  standard          completed          75             72             69\n",
            "3    male   group D    some high school  standard          completed          60             60             59\n",
            "7    male   group E    some high school  standard               none          93             73             70\n",
            "9    male   group C  associate's degree  standard          completed          85             75             82\n",
            "13   male   group C        some college  standard               none          90             81             81\n",
            "MALE:  65.99\n"
          ]
        },
        {
          "output_type": "stream",
          "name": "stderr",
          "text": [
            "/usr/local/lib/python3.7/dist-packages/ipykernel_launcher.py:19: SettingWithCopyWarning: \n",
            "A value is trying to be set on a copy of a slice from a DataFrame.\n",
            "Try using .loc[row_indexer,col_indexer] = value instead\n",
            "\n",
            "See the caveats in the documentation: https://pandas.pydata.org/pandas-docs/stable/user_guide/indexing.html#returning-a-view-versus-a-copy\n",
            "/usr/local/lib/python3.7/dist-packages/ipykernel_launcher.py:19: SettingWithCopyWarning: \n",
            "A value is trying to be set on a copy of a slice from a DataFrame.\n",
            "Try using .loc[row_indexer,col_indexer] = value instead\n",
            "\n",
            "See the caveats in the documentation: https://pandas.pydata.org/pandas-docs/stable/user_guide/indexing.html#returning-a-view-versus-a-copy\n"
          ]
        }
      ]
    },
    {
      "cell_type": "code",
      "source": [
        "# 5. Use the original dataset to find the correlation coefficient for reading and maths. How closely do they correlate? Write what you find in a text box below the code.\n",
        "def find_corr_coeff(df,col1,col2):\n",
        "  # print(df.head())\n",
        "  #split into arrays \n",
        "  x_array,y_array = split_into_arrays(df,col1,col2)\n",
        "  # print(\"X:\",x_array.shape)\n",
        "  # print(\"Y:\",y_array.shape)\n",
        "  corr_coefficient = np.corrcoef(x_array,y_array)\n",
        "  # print(\"corr:\",corr_coefficient)\n",
        "  return round(corr_coefficient[0][1],5)\n",
        "\n",
        "def split_into_arrays(df,col1,col2):\n",
        "  # print(\"col1: \",col1)\n",
        "  # print(\"col2:\",col2)\n",
        "  first_a = np.array(df[col1])\n",
        "  second_a = np.array(df[col2])\n",
        "  return first_a, second_a\n",
        "\n",
        "\n",
        "reading_maths_corr = find_corr_coeff(scores_df,'reading_score','math_score') \n",
        "print(\"\\ncorrelation between reading and maths: \",reading_maths_corr)"
      ],
      "metadata": {
        "colab": {
          "base_uri": "https://localhost:8080/"
        },
        "id": "5LqzTWq93KvQ",
        "outputId": "61a94992-7762-42e3-cfe4-f37d768337f3"
      },
      "execution_count": 87,
      "outputs": [
        {
          "output_type": "stream",
          "name": "stdout",
          "text": [
            "\n",
            "correlation between reading and maths:  0.8146\n"
          ]
        }
      ]
    },
    {
      "cell_type": "markdown",
      "source": [
        "correlation is +0.815 implying a fairly strong positive correlation between reading and maths"
      ],
      "metadata": {
        "id": "JlE-r74u6RZN"
      }
    },
    {
      "cell_type": "code",
      "source": [
        "# 6. Do the same for reading and writing. What do you find?\n",
        "reading_writing_corr = find_corr_coeff(scores_df,'reading_score','writing_score') \n",
        "print(\"\\ncorrelation between reading and writing: \",reading_writing_corr)"
      ],
      "metadata": {
        "colab": {
          "base_uri": "https://localhost:8080/"
        },
        "id": "bP5QS_5G6l2F",
        "outputId": "937efeb9-6fe9-46e9-d414-e3f62c87f4a4"
      },
      "execution_count": 61,
      "outputs": [
        {
          "output_type": "stream",
          "name": "stdout",
          "text": [
            "   gender ethnicity parental_education         lunch preparation_course  math_score  reading_score  writing_score\n",
            "0  female   group E       some college  free/reduced               none          65             76             71\n",
            "1    male   group C       some college      standard          completed          75             72             69\n",
            "2  female   group B   some high school  free/reduced          completed          62             56             61\n",
            "3    male   group D   some high school      standard          completed          60             60             59\n",
            "4  female   group C        high school  free/reduced          completed          34             54             55\n",
            "\n",
            "correlation between reading and writing:  0.957\n"
          ]
        }
      ]
    },
    {
      "cell_type": "markdown",
      "source": [
        "correlation coefficient between reading and writing is a very strong positive value of 0.957\n",
        "This is stronger than the correlation between reading and maths"
      ],
      "metadata": {
        "id": "jDyRSx7d666B"
      }
    },
    {
      "cell_type": "code",
      "source": [
        "# You might want to filter on different criteria and check correlation (e.g. those on free school meals, or those who had prepared, etc)\n",
        "#somewhere i have overwritten the scores_df so re-reading it in - but should go back and find out where\n",
        "# url = \"https://raw.githubusercontent.com/lilaceri/Working-with-data-/main/Data%20Sets%20for%20code%20divisio/exams.csv\"\n",
        "# scores_df = pd.read_csv(url)\n",
        "# print(scores_df.head())\n",
        "filter_on_lunch_df= filter_df(scores_df,'lunch','free/reduced')\n",
        "# print(filter_on_lunch_df.head(10))\n",
        "reading_writing_corr_freelunch = find_corr_coeff(filter_on_lunch_df,'reading_score','writing_score') \n",
        "print(\"\\ncorrelation between reading and writingfor filtered on lunch: \",reading_writing_corr_freelunch)"
      ],
      "metadata": {
        "colab": {
          "base_uri": "https://localhost:8080/"
        },
        "id": "Zmj8-g0G7ddz",
        "outputId": "5cd47983-248c-4926-a392-5a24d812f22c"
      },
      "execution_count": 73,
      "outputs": [
        {
          "output_type": "stream",
          "name": "stdout",
          "text": [
            "filtered on  free/reduced : \n",
            "     gender ethnicity  parental_education         lunch preparation_course  math_score  reading_score  writing_score\n",
            "0   female   group E        some college  free/reduced               none          65             76             71\n",
            "2   female   group B    some high school  free/reduced          completed          62             56             61\n",
            "4   female   group C         high school  free/reduced          completed          34             54             55\n",
            "5   female   group B        some college  free/reduced               none          53             66             61\n",
            "11  female   group D  associate's degree  free/reduced               none          54             69             70\n",
            "    gender ethnicity  parental_education         lunch preparation_course  math_score  reading_score  writing_score\n",
            "0   female   group E        some college  free/reduced               none          65             76             71\n",
            "2   female   group B    some high school  free/reduced          completed          62             56             61\n",
            "4   female   group C         high school  free/reduced          completed          34             54             55\n",
            "5   female   group B        some college  free/reduced               none          53             66             61\n",
            "11  female   group D  associate's degree  free/reduced               none          54             69             70\n",
            "\n",
            "correlation between reading and writingfor filtered on lunch:  0.955\n"
          ]
        }
      ]
    },
    {
      "cell_type": "markdown",
      "source": [
        "again a high postive correlation between reading and writing when the students are filtered to those who get free/reduced lunch. "
      ],
      "metadata": {
        "id": "1NASqfJG98Q2"
      }
    },
    {
      "cell_type": "code",
      "source": [
        "filter_on_prepared_df= filter_df(scores_df,'preparation_course','completed')\n",
        "# print(\"prep:\\n\",filter_on_prepared_df.info())\n",
        "reading_writing_corr_prepared = find_corr_coeff(filter_on_prepared_df,'reading_score','writing_score') \n",
        "print(\"\\ncorrelation between reading and writing for filtered on prepared: \",reading_writing_corr_prepared)\n",
        "\n",
        "filter_on_not_prepared_df= filter_df(scores_df,'preparation_course','none')\n",
        "# print(\"not prep:\\n\",filter_on_not_prepared_df.info())\n",
        "reading_writing_corr_not_prepared = find_corr_coeff(filter_on_not_prepared_df,'reading_score','writing_score') \n",
        "print(\"\\ncorrelation between reading and writing for filtered on not prepared: \",reading_writing_corr_not_prepared)"
      ],
      "metadata": {
        "colab": {
          "base_uri": "https://localhost:8080/"
        },
        "id": "z3mqqBuj-Mf9",
        "outputId": "77748e97-0134-4e3e-cbd2-5b1c6c8b8fb4"
      },
      "execution_count": 88,
      "outputs": [
        {
          "output_type": "stream",
          "name": "stdout",
          "text": [
            "\n",
            "\n",
            "filtered on  completed : \n",
            "    gender ethnicity  parental_education         lunch preparation_course  math_score  reading_score  writing_score\n",
            "1    male   group C        some college      standard          completed          75             72             69\n",
            "2  female   group B    some high school  free/reduced          completed          62             56             61\n",
            "3    male   group D    some high school      standard          completed          60             60             59\n",
            "4  female   group C         high school  free/reduced          completed          34             54             55\n",
            "8  female   group C  associate's degree      standard          completed          58             71             63\n",
            "\n",
            "correlation between reading and writing for filtered on prepared:  0.9565\n",
            "\n",
            "\n",
            "filtered on  none : \n",
            "     gender ethnicity parental_education         lunch preparation_course  math_score  reading_score  writing_score\n",
            "0   female   group E       some college  free/reduced               none          65             76             71\n",
            "5   female   group B       some college  free/reduced               none          53             66             61\n",
            "6   female   group D       some college      standard               none          85             88             92\n",
            "7     male   group E   some high school      standard               none          93             73             70\n",
            "10  female   group D    master's degree      standard               none          83             94             92\n",
            "\n",
            "correlation between reading and writing for filtered on not prepared:  0.95682\n"
          ]
        }
      ]
    },
    {
      "cell_type": "markdown",
      "source": [
        "the correlation coefficients were very close so I changed the function to show 5 dp instead of 3 to troubleshoot - they are in fact different. Also used a print of the shape of the array to indicate number of items in the filtered list to make sure I was filtering properly\n"
      ],
      "metadata": {
        "id": "NMBvyRHrCnR1"
      }
    }
  ]
}