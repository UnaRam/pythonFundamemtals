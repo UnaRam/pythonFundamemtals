{
  "nbformat": 4,
  "nbformat_minor": 0,
  "metadata": {
    "colab": {
      "name": "Una_ Sea-Level-Project.ipynb",
      "provenance": [],
      "collapsed_sections": [],
      "include_colab_link": true
    },
    "kernelspec": {
      "name": "python3",
      "display_name": "Python 3"
    },
    "language_info": {
      "name": "python"
    }
  },
  "cells": [
    {
      "cell_type": "markdown",
      "metadata": {
        "id": "view-in-github",
        "colab_type": "text"
      },
      "source": [
        "<a href=\"https://colab.research.google.com/github/UnaRam/pythonFundamemtals/blob/main/Una__Sea_Level_Project.ipynb\" target=\"_parent\"><img src=\"https://colab.research.google.com/assets/colab-badge.svg\" alt=\"Open In Colab\"/></a>"
      ]
    },
    {
      "cell_type": "markdown",
      "source": [
        "# Using numpy to look for a correlation between time data and sea level rise\n",
        "---\n",
        "\n",
        "### Data Source\n",
        "Global Average Absolute Sea Level Change, 1880-2014 from the US Environmental Protection Agency using data from CSIRO, 2015; NOAA, 2015.\n",
        "https://datahub.io/core/sea-level-rise\n",
        "\n",
        "The data describes annual sea levels from 1880 to 2013.  Measures are adjusted using two standards: Commonwealth Scientific and Industrial Research Organisation(CSIRO) and National Oceanic and Atmospheric Administration (NOAA)  \n",
        "\n",
        "Raw Data file:  https://raw.githubusercontent.com/freeCodeCamp/boilerplate-sea-level-predictor/master/epa-sea-level.csv\n",
        "\n",
        "For this exercise:\n",
        "*  import the pandas library\n",
        "*  import the numpy library\n",
        "*  read the csv dataset containing data on sea-levels from the year 1880 to 2013 into a dataframe (df)\n",
        "*  use df.head() and df.info() to inspect the data and the column data types\n",
        "\n"
      ],
      "metadata": {
        "id": "jBYNdCdQ9_cu"
      }
    },
    {
      "cell_type": "code",
      "source": [
        "import pandas as pd\n",
        "import numpy as np\n",
        "\n",
        "def look_for_correlation(df,firstarray,secondarray,thirdarray,fourtharray):\n",
        "  # print(df.head())\n",
        "  # print(df.info())\n",
        "  level_array = np.array(df[firstarray])\n",
        "  # print(level_array)\n",
        "  level_array_mean = level_array.mean()\n",
        "  level_array_std = level_array.std()\n",
        "  level_array_total = level_array.sum()\n",
        "  level_array_max = level_array.max()\n",
        "  level_array_min = level_array.min()\n",
        "  print(level_array_total)\n",
        "  print(level_array_mean)\n",
        "  print(level_array_std)\n",
        "  # print(\"shape levels: \", level_array.shape)\n",
        "  # Use the fact that the arrays are aligned (e.g. the first number in the level array is linked to the first year in the year array and display:\n",
        "  # the year with the biggest rise in level\n",
        "  # use np.diff ????\n",
        "  #diff_levels = np.diff(level_array)\n",
        "  # No - use difference between upper and lower bound per year\n",
        "\n",
        "\n",
        "  # the year with the lowest rise in level\n",
        "  years_array = np.array(df[secondarray])\n",
        "\n",
        "  # upper_array = np.array(df[thirdarray])\n",
        "  # lower_array = np.array(df[fourtharray])\n",
        "  # diff_levels = upper_array - lower_array\n",
        "  # # print(\"shape differences: \", diff_levels.shape)\n",
        "  # print(\"diff_levels:\",diff_levels)\n",
        "  # max_diff = diff_levels.max()\n",
        "  # print(\"max diff:\", max_diff)\n",
        "  # print(np.where(diff_levels == max_diff ))\n",
        "  index_of_max = np.where(level_array == level_array_max )\n",
        "  index_of_min = np.where(level_array == level_array_min)\n",
        "  # print(index_of_min[0])\n",
        "  # print(index_of_max[0])\n",
        "  year_of_max = years_array[index_of_max[0]]\n",
        "  print(year_of_max)\n",
        "  year_of_min = years_array[index_of_min[0]]\n",
        "  print(year_of_min)\n",
        "\n",
        "  # Calculate the Pearson product-moment correlation coefficient between year and the rise in sea level. (Expected output: 0.98 when rounded to 2 decimal places)\n",
        "  pearson_correlation = np.corrcoef(level_array,years_array)\n",
        "  print(\"Pearson correlation: \",round(pearson_correlation[0][1],2))\n",
        "\n",
        "url = \"https://raw.githubusercontent.com/freeCodeCamp/boilerplate-sea-level-predictor/master/epa-sea-level.csv\"\n",
        "levels_df = pd.read_csv(url)\n",
        "levels_col = \"CSIRO Adjusted Sea Level\"\n",
        "years_col = \"Year\"\n",
        "upper_col = \"Upper Error Bound\"\n",
        "lower_col = \"Lower Error Bound\"\n",
        "\n",
        "look_for_correlation(levels_df,levels_col,years_col,upper_col,lower_col)\n",
        "\n"
      ],
      "metadata": {
        "id": "r1XUCWHV_Cj9",
        "colab": {
          "base_uri": "https://localhost:8080/"
        },
        "outputId": "6327add4-8163-4d47-e09e-68956e76b08c"
      },
      "execution_count": 31,
      "outputs": [
        {
          "output_type": "stream",
          "name": "stdout",
          "text": [
            "489.1456687920001\n",
            "3.650340811880598\n",
            "2.476399631426498\n",
            "[2012]\n",
            "[1882]\n",
            "Pearson correlation:  0.98\n"
          ]
        }
      ]
    },
    {
      "cell_type": "markdown",
      "source": [
        "### Then\n",
        "---\n",
        "1.  Calculate some statistics on the level array, eg:\n",
        "*  mean\n",
        "*  standard deviation\n",
        "*  total \n",
        "\n",
        "2.  Use the fact that the arrays are aligned (e.g. the first number in the level array is linked to the first year in the year array and display:\n",
        "\n",
        "*  the year with the biggest rise in level\n",
        "*  the year with the lowest rise in level\n",
        "\n",
        "*(**Hint**:  to do this you can use a new numpy function np.where() )*\n",
        " ```\n",
        "np.where(array == value_to_find)\n",
        "```\n",
        "*There is some reference material [here](https://thispointer.com/find-the-index-of-a-value-in-numpy-array/)*\n",
        "\n",
        "**Note**: ```np.where(...)``` will return a tuple containing all indexes where that value was found.  You can print all, or you can print the first value (it is likely that there will only be one in this case) using [0][0].  *With the correct code you should get an answer of 2012*\n",
        "\n",
        "\n",
        "3.  Calculate the Pearson product-moment correlation coefficient between year and the rise in sea level.  (*Expected output:  0.98 when rounded to 2 decimal places*)"
      ],
      "metadata": {
        "id": "3cf1YPgnBSc2"
      }
    },
    {
      "cell_type": "code",
      "execution_count": null,
      "metadata": {
        "id": "8VWUtmK4YhoU"
      },
      "outputs": [],
      "source": [
        ""
      ]
    },
    {
      "cell_type": "markdown",
      "metadata": {
        "id": "yQyytEbnZ1lw"
      },
      "source": [
        "# Reflection\n",
        "----\n",
        "\n",
        "## What skills have you demonstrated in completing this notebook?"
      ]
    },
    {
      "cell_type": "markdown",
      "metadata": {
        "id": "MM00hR5aZk1-"
      },
      "source": [
        "Your answer: "
      ]
    },
    {
      "cell_type": "markdown",
      "metadata": {
        "id": "Zgexd27sZ1ly"
      },
      "source": [
        "## What caused you the most difficulty?"
      ]
    },
    {
      "cell_type": "markdown",
      "metadata": {
        "id": "-Y_nrVBwaGXr"
      },
      "source": [
        "Your answer: "
      ]
    }
  ]
}