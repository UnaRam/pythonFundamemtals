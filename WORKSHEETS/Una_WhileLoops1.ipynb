{
  "nbformat": 4,
  "nbformat_minor": 0,
  "metadata": {
    "colab": {
      "name": "Una WhileLoops1.ipynb",
      "provenance": [],
      "collapsed_sections": [],
      "include_colab_link": true
    },
    "kernelspec": {
      "name": "python3",
      "display_name": "Python 3"
    }
  },
  "cells": [
    {
      "cell_type": "markdown",
      "metadata": {
        "id": "view-in-github",
        "colab_type": "text"
      },
      "source": [
        "<a href=\"https://colab.research.google.com/github/UnaRam/pythonFundamemtals/blob/main/Una_WhileLoops1.ipynb\" target=\"_parent\"><img src=\"https://colab.research.google.com/assets/colab-badge.svg\" alt=\"Open In Colab\"/></a>"
      ]
    },
    {
      "cell_type": "markdown",
      "metadata": {
        "id": "OWGIE_ptimyf"
      },
      "source": [
        "# While loops\n",
        "\n",
        "---\n"
      ]
    },
    {
      "cell_type": "markdown",
      "metadata": {
        "id": "Kjh4DVogizl5"
      },
      "source": [
        "There are many situations when an external event (such as an input from the user or finding an invalid data value) will be the thing that will cause the loop to stop.\n",
        "\n",
        "A while loop allows us to say \"repeat these instructions while something has not yet happened, or repeat these instruction while a particular state exists\"\n",
        "\n",
        "For example, we want to ask a user to enter some positive numbers to be added to a total. They will indicate that there are no more numbers by entering -1.\n",
        "\n"
      ]
    },
    {
      "cell_type": "code",
      "metadata": {
        "id": "HieVx4BrtJlU"
      },
      "source": [
        "# initialise a total to 0\n",
        "# read the first number\n",
        "# add the number to the total and keep reading next number and adding to total until -1 entered\n",
        "\n",
        "def running_total():\n",
        "    total = 0\n",
        "    num = int(input(\"Enter a number, or type -1 to stop\"))\n",
        "    while num != -1:\n",
        "        total = total + num\n",
        "        num = int(input(\"Enter a number, or type -1 to stop\"))\n",
        "    print(total)\n",
        "\n",
        "running_total()"
      ],
      "execution_count": null,
      "outputs": []
    },
    {
      "cell_type": "markdown",
      "metadata": {
        "id": "X8pROiEYtKbA"
      },
      "source": [
        "**Another example**\n",
        "\n",
        "We want to take a number from the user and keep dividing it by 2 until the answer is 1 or less, then to print the number of times it was divided. Try it out. If you enter 8 then the answer should be 3, if you enter 6 the answer will also be 3."
      ]
    },
    {
      "cell_type": "code",
      "metadata": {
        "id": "eL9nJORbtTUb"
      },
      "source": [
        "def div_by_two():\n",
        "  num = int(input(\"Enter a number to be processed\"))\n",
        "  number_times_divided = 0\n",
        "  while num > 1:\n",
        "    number_times_divided = number_times_divided + 1\n",
        "    num = num/2\n",
        "  print(\"Your number was divided\", number_times_divided, \"times\") \n",
        "   \n",
        "div_by_two()"
      ],
      "execution_count": null,
      "outputs": []
    },
    {
      "cell_type": "markdown",
      "metadata": {
        "id": "jKqqk9LstW83"
      },
      "source": [
        "*Here are some more examples of use of while loops.*\n",
        "\n",
        "### Ensuring valid input  \n",
        "When reading from the keyboard it is important to ensure that the user only enters valid data. You can do this in a number of ways but a while loop can be used to make the user keep entering data until they enter something that is valid."
      ]
    },
    {
      "cell_type": "code",
      "metadata": {
        "id": "7_CoIBfluIUG"
      },
      "source": [
        "# read a number from the user\n",
        "# check that the number is a positive integer.  If not, display error messages\n",
        "# keep reading until a positive integer is read\n",
        "\n",
        "def positive_num():\n",
        "  number = -1\n",
        "  while number < 0:\n",
        "    print(\"You must type a number above 0\")\n",
        "    number = int(input(\"Enter a positive number\"))\n",
        "  print(\"Thank you for typing the number\", number)\n",
        "\n",
        "positive_num()"
      ],
      "execution_count": null,
      "outputs": []
    },
    {
      "cell_type": "markdown",
      "metadata": {
        "id": "YiO-WgJ8zzjp"
      },
      "source": [
        "### Take home points\n",
        "\n",
        "* An algorithm is the method for solving a particular problem (e.g. getting the right sort of number, selecting a message depending on input, calculating a new figure, etc)\n",
        "* A while loop will keep repeating while the given condition is TRUE\n",
        "* As soon as the condition becomes false the loop will stop executing\n",
        "* We use while loops when we don't necessarily know how many times a loop will need to repeat, but we do know under what conditions it does need to repeat."
      ]
    },
    {
      "cell_type": "markdown",
      "metadata": {
        "id": "4CS8CNrmQUbO"
      },
      "source": [
        "---\n",
        "### Exercise 1 - get a valid username\n",
        "\n",
        "Write a function called **get_username()** which will:  \n",
        "\n",
        "*  assign the value False to a boolean variable called **valid**  \n",
        "*  start a while loop that will continue to loop while `valid` is False  \n",
        "*  in the loop:  ask the user to enter a **username**,  if the `username` is \"user\" assign the value True to `valid`, otherwise print the message \"Incorrect user name\"   \n",
        "*  after the loop, display the message \"Welcome `username`, you will now be asked to enter your password  \n",
        "\n",
        "Test input:  \n",
        "username   \n",
        "user  \n",
        "\n",
        "Expected output:  \n",
        "Incorrect username  \n",
        "Welcome user you will now be asked to enter your password  "
      ]
    },
    {
      "cell_type": "code",
      "metadata": {
        "id": "nwq55T5eRv7_",
        "colab": {
          "base_uri": "https://localhost:8080/"
        },
        "outputId": "0b99a9a1-ce4f-4744-f307-571655b748a8"
      },
      "source": [
        "def get_username() :\n",
        "  valid = False\n",
        "  while valid == False:\n",
        "    username=input(\"pls enter username: \")\n",
        "    if username ==\"user\":\n",
        "      valid = True\n",
        "    else:\n",
        "      print(\"invalid username\")\n",
        "\n",
        "  print(\"Welcome\",username,\"you will now be asked to enter your password\")\n",
        "get_username() "
      ],
      "execution_count": 1,
      "outputs": [
        {
          "output_type": "stream",
          "name": "stdout",
          "text": [
            "pls enter username: bla\n",
            "invalid username\n",
            "pls enter username: blab\n",
            "invalid username\n",
            "pls enter username: user\n",
            "Welcome user you will now be asked to enter your password\n"
          ]
        }
      ]
    },
    {
      "cell_type": "markdown",
      "metadata": {
        "id": "FXN6-MtQRwb9"
      },
      "source": [
        "---\n",
        "### Exercise 2 - get a valid passcode  \n",
        "\n",
        "Write a function called **get_passcode()** which will:  \n",
        "\n",
        "*  assign the value False to a boolean variable called **valid**  \n",
        "*  start a while loop that will continue to loop while `valid` is False  \n",
        "*  in the loop:  ask the user to enter a **passcode**, if the `passcode` is \"9876\" assign the value True to `valid`, otherwise print the message \"Incorrect passcode\"  \n",
        "*  after the loop, display the message \"Passcode accepted\"    \n",
        "\n",
        "Test input:  \n",
        "1234   \n",
        "9876  \n",
        "\n",
        "Expected output:  \n",
        "Incorrect passcode  \n",
        "Passcode accepted  "
      ]
    },
    {
      "cell_type": "code",
      "metadata": {
        "id": "a0Z_ACOiSxsP",
        "colab": {
          "base_uri": "https://localhost:8080/"
        },
        "outputId": "d0bfaa96-f152-4d54-862e-0981be008d68"
      },
      "source": [
        "def  get_passcode():\n",
        "  valid = False\n",
        "  while valid == False:\n",
        "    passcode=int(input(\"pls enter a passcode: \"))\n",
        "    if passcode == 9876:\n",
        "      valid = True #and will not go back into the loop next time\n",
        "    else:\n",
        "      print(\"incorrect passcode\")\n",
        "  print(\"passcode accepted\")\n",
        "\n",
        "get_passcode()"
      ],
      "execution_count": 5,
      "outputs": [
        {
          "output_type": "stream",
          "name": "stdout",
          "text": [
            "pls enter a passcode: 98798\n",
            "incorrect passcode\n",
            "pls enter a passcode: 8897987\n",
            "incorrect passcode\n",
            "pls enter a passcode: 1\n",
            "incorrect passcode\n",
            "pls enter a passcode: 9876\n",
            "passcode accepted\n"
          ]
        }
      ]
    },
    {
      "cell_type": "markdown",
      "metadata": {
        "id": "DMeDXd7TS0ar"
      },
      "source": [
        "---\n",
        "### Exercise 3 - single digit input  \n",
        "\n",
        "Write a function called **get_digit()** which will:  \n",
        "\n",
        "*  assign the value False to a boolean variable called **valid_digit**  \n",
        "*  use a while loop to repeatedly ask the user to enter a single digit until the value they enter is less than 10     \n",
        "*  in the loop:  ask the user to enter a **single_digit**, if the `single_digit` is less than 10 assign the value True to `valid`, otherwise print the message \"Not a digit\"  \n",
        "*  after the loop, display the message \"Single digit entered\"    \n",
        "\n",
        "Test input:  \n",
        "10   \n",
        "9  \n",
        "\n",
        "Expected output:  \n",
        "Not a digit  \n",
        "Single digit entered  "
      ]
    },
    {
      "cell_type": "code",
      "metadata": {
        "id": "4oGXPcmqTtVN",
        "colab": {
          "base_uri": "https://localhost:8080/"
        },
        "outputId": "f079aee9-0e0f-4e3b-cbfd-9a1fc7086cab"
      },
      "source": [
        "def get_digit() :\n",
        "  valid_digit = False\n",
        "  while valid_digit == False:\n",
        "    single_digit = int(input(\"Pls enter a single digit: \"))\n",
        "    if single_digit<10:\n",
        "      valid_digit = True\n",
        "    else:\n",
        "      print(\"not a digit\")\n",
        "\n",
        "  print(\"single digit entered\")\n",
        "\n",
        "get_digit() "
      ],
      "execution_count": 11,
      "outputs": [
        {
          "output_type": "stream",
          "name": "stdout",
          "text": [
            "Pls enter a single digit: 22\n",
            "not a digit\n",
            "Pls enter a single digit: 9\n",
            "single digit entered\n"
          ]
        }
      ]
    },
    {
      "cell_type": "markdown",
      "metadata": {
        "id": "o80s4nzfi37X"
      },
      "source": [
        "---\n",
        "### Exercise 4 - positive number input \n",
        "\n",
        "Write a function called **positive_number()** which will:\n",
        "*  ask the user to enter a **number**, the message should indicate that it must be a positive number  \n",
        "*  if `number` is not positive **(ie. less than 1)** show an error message and ask user to re-enter the `number` \n",
        "*  when the `number` is positive, print the `number`\n",
        "\n",
        "Test input:  \n",
        "-1\n",
        "0\n",
        "1\n",
        "\n",
        "Expected output:  \n",
        "It must be a positive number, try again  \n",
        "It must be a positive number, try again  \n",
        "1  "
      ]
    },
    {
      "cell_type": "code",
      "metadata": {
        "id": "BmZjI8PzwdT-",
        "colab": {
          "base_uri": "https://localhost:8080/"
        },
        "outputId": "59d40511-a488-45a2-d62b-97b67d2ed0d7"
      },
      "source": [
        "def  positive_number():\n",
        "  positive = False\n",
        "  while positive == False:\n",
        "    number = int(input(\"pls enter a number: \"))\n",
        "    if number >0:\n",
        "      positive = True\n",
        "    else:\n",
        "      print(\"it must be a positive number\")\n",
        "  print(number)\n",
        "\n",
        "positive_number()"
      ],
      "execution_count": 13,
      "outputs": [
        {
          "output_type": "stream",
          "name": "stdout",
          "text": [
            "pls enter a number: -1\n",
            "it must be a positive number\n",
            "pls enter a number: -4\n",
            "it must be a positive number\n",
            "pls enter a number: 0\n",
            "it must be a positive number\n",
            "pls enter a number: 1\n",
            "1\n"
          ]
        }
      ]
    },
    {
      "cell_type": "markdown",
      "metadata": {
        "id": "xPJfd9lUyULa"
      },
      "source": [
        "---\n",
        "### Exercise 5 - getting a number within limits \n",
        "\n",
        "Write a function called **test_limits()** which will:\n",
        "\n",
        "*  ask the user to enter a number between **1 and 31**\n",
        "*  if the number entered is less than 1 or more than 31, display the error message \"Number out of limits\"  \n",
        "*  continue asking the user until a valid input is given \n",
        "*  when a valid number is given, display the message \"Your number was `number`\" and end the program \n",
        "\n",
        "Test input:  \n",
        "40  \n",
        "50  \n",
        "30  \n",
        "\n",
        "Expected output:  \n",
        "Number out of limits  \n",
        "Number out of limits  \n",
        "Your number was 30  \n"
      ]
    },
    {
      "cell_type": "code",
      "metadata": {
        "id": "MVxhTY6zzq8k",
        "colab": {
          "base_uri": "https://localhost:8080/"
        },
        "outputId": "a953eecb-d890-4f09-ee8f-c7a8bdafceed"
      },
      "source": [
        "def test_limits():\n",
        "    bet_lims = False\n",
        "    while bet_lims == False:\n",
        "      number = int(input(\"pls enter a number: \"))\n",
        "      if ((number <1) or (number>31)):\n",
        "        print(\"Number out of limits\")\n",
        "      else:\n",
        "        bet_lims = True\n",
        "    print(\"your number was %d\" % number)\n",
        "\n",
        "test_limits()"
      ],
      "execution_count": 18,
      "outputs": [
        {
          "output_type": "stream",
          "name": "stdout",
          "text": [
            "pls enter a number: 40\n",
            "Number out of limits\n",
            "pls enter a number: 50\n",
            "Number out of limits\n",
            "pls enter a number: 30\n",
            "your number was 30\n"
          ]
        }
      ]
    },
    {
      "cell_type": "markdown",
      "metadata": {
        "id": "WcHiG9AlUPdr"
      },
      "source": [
        "---\n",
        "### Exercise 6 - getting a number outside range\n",
        "\n",
        "Write a function called **test_outlier()** which will:\n",
        "\n",
        "*  ask the user to enter a **number** that is NOT between 40 and 50  \n",
        "*  if the `number` entered is between 40 and 50 (including both 40 and 50, display the error message \"This is not an outlier\"\n",
        "*  continue asking the user until a valid `number` is given\n",
        "*  when a valid `number` is given, display the message \"You have entered an outlier\" and end the program  \n",
        "\n",
        "Test input:  \n",
        "34  \n",
        "\n",
        "Expected output:  \n",
        "You have entered an outlier  \n",
        "\n",
        "Test input:  \n",
        "44  \n",
        "50  \n",
        "40  \n",
        "34  \n",
        "\n",
        "Expected output:  \n",
        "This is not an outlier  \n",
        "This is not an outlier  \n",
        "This is not an outlier  \n",
        "You have entered an outlier  "
      ]
    },
    {
      "cell_type": "code",
      "metadata": {
        "id": "PqvtQXYnUQ8E",
        "colab": {
          "base_uri": "https://localhost:8080/"
        },
        "outputId": "4dbf1a66-5667-42e1-b4e4-c151afd390df"
      },
      "source": [
        "def test_outlier():\n",
        "  is_outlier = False\n",
        "\n",
        "  while is_outlier == False:\n",
        "    number=int(input(\"pls enter # which is NOT between 40 and 50: \"))\n",
        "    if (number<40) or (number > 50):\n",
        "        is_outlier = True\n",
        "    else: \n",
        "        print(\"This is not at outlier\")\n",
        "\n",
        "  print(\"you have entered an outlier %d\" % number)\n",
        "\n",
        "\n",
        "test_outlier()"
      ],
      "execution_count": 23,
      "outputs": [
        {
          "output_type": "stream",
          "name": "stdout",
          "text": [
            "pls enter # which is NOT between 40 and 50: 44\n",
            "This is not at outlier\n",
            "pls enter # which is NOT between 40 and 50: 50\n",
            "This is not at outlier\n",
            "pls enter # which is NOT between 40 and 50: 40\n",
            "This is not at outlier\n",
            "pls enter # which is NOT between 40 and 50: 34\n",
            "you have entered an outlier 34\n"
          ]
        }
      ]
    },
    {
      "cell_type": "markdown",
      "metadata": {
        "id": "53kjOj7nzri1"
      },
      "source": [
        "---\n",
        "### Exercise 7 - multiplying a number to be greater than 20,000\n",
        "\n",
        "Write a function called **increase_to_twenty_thousand()** that will:\n",
        "\n",
        "*  ask the user to input a **number**\n",
        "*  multiply given `number` by itself repeatedly, printing its value each time it changes, until the  number has become greater (>) than 20,000\n",
        "\n",
        "Test input:  \n",
        "5\n",
        "\n",
        "Expected output:  \n",
        "5   \n",
        "25  \n",
        "125  \n",
        "625  \n",
        "3125  \n",
        "15625  \n",
        "78125  \n",
        " "
      ]
    },
    {
      "cell_type": "code",
      "metadata": {
        "id": "9vzat0W21tNA",
        "colab": {
          "base_uri": "https://localhost:8080/"
        },
        "outputId": "877991a3-0c0e-4631-eb88-d545dc90d59c"
      },
      "source": [
        "def increase_to_twenty_thousand():\n",
        "  is_greater = False\n",
        "  number = int(input(\"pls input number:\"))  # only need to do this once\n",
        "  print(number)\n",
        "  total = 1\n",
        "\n",
        "  while is_greater == False:#do multiple times\n",
        "      total = total * number\n",
        "      if(total>20000):\n",
        "        is_greater = True\n",
        "      else:\n",
        "        print(total)\n",
        "  print(total) #to print the last one which is >20,000\n",
        "\n",
        "\n",
        "increase_to_twenty_thousand()"
      ],
      "execution_count": 28,
      "outputs": [
        {
          "output_type": "stream",
          "name": "stdout",
          "text": [
            "pls input number:5\n",
            "5\n",
            "5\n",
            "25\n",
            "125\n",
            "625\n",
            "3125\n",
            "15625\n",
            "78125\n"
          ]
        }
      ]
    },
    {
      "cell_type": "markdown",
      "metadata": {
        "id": "wepL2Ufj1uvT"
      },
      "source": [
        "---\n",
        "### Exercise 8 - even and odds \n",
        "\n",
        "Write a function called **get_even_number()** that:\n",
        "\n",
        "*  asks the user to input an even number (divisible by 2)\n",
        "*  if an odd number is given, display message \"That number is odd\"\n",
        "*  once valid input given (even number), display message \"Thanks, that number is even\"\n",
        "\n",
        "Test input:  \n",
        "3  \n",
        "1  \n",
        "2  \n",
        "\n",
        "Expected output:  \n",
        "That number is odd  \n",
        "That number is odd  \n",
        "Thanks, that number is even  \n",
        "\n"
      ]
    },
    {
      "cell_type": "code",
      "metadata": {
        "id": "KME9Qfcs45yJ",
        "colab": {
          "base_uri": "https://localhost:8080/"
        },
        "outputId": "b8a687e6-fe8a-443d-fd58-45cb3c9b403e"
      },
      "source": [
        "def get_even_number() :\n",
        "  is_even = False\n",
        "  while is_even == False:\n",
        "    number = int(input(\"pls enter an even number\"))\n",
        "    if ((number>1)and(number%2 ==0)):#even\n",
        "      print(\"thanks, that number is even\")\n",
        "      is_even =True\n",
        "    else:#otherwise odd or 0\n",
        "      print(\"that number is 0 or odd\")\n",
        "\n",
        "get_even_number() "
      ],
      "execution_count": 30,
      "outputs": [
        {
          "output_type": "stream",
          "name": "stdout",
          "text": [
            "pls enter an even number3\n",
            "that number is 0 or odd\n",
            "pls enter an even number1\n",
            "that number is 0 or odd\n",
            "pls enter an even number2\n",
            "thanks, that number is even\n"
          ]
        }
      ]
    },
    {
      "cell_type": "markdown",
      "metadata": {
        "id": "-p3LVygZwd6R"
      },
      "source": [
        "### Exercise 9 - menu choice \n",
        "\n",
        "Write a function called **show_special_numbers()** which will:\n",
        "\n",
        "*  display the following menu \n",
        "\n",
        "*What value would you like to see?*\n",
        "\n",
        "1. *Pi*\n",
        "2. *Plank’s constant*\n",
        "3. *E*\n",
        "4. *Square root of 2*\n",
        "5. *Quit the program*\n",
        "\n",
        "*  ask the user to input which value they would like to see by typing a number between 1 - 5 \n",
        "*  read and process the choice while the user selects anything other than 5 (Quit the program)\n",
        "\n",
        "To process the choice:  \n",
        "* if the number is 1 - print 3.14159265359\n",
        "* if the number is 2 - print 6.62607004 × 10-34 (in Python this would be written 6.62607004E-34\n",
        "* if the number is 3 - print 2.71828\n",
        "* if the number is 4 - print 1.414\n",
        "* if the number is 5 - print the message (\"Thank you for using this program\")\n",
        "* if the number is anything else - print \"Invalid choice\"\n",
        "\n",
        "The program will print the message associated with the menu choice and will then display the menu again and ask the user to select a choice.  \n",
        "\n",
        "When the user enters 5, the program should stop repeating.\n",
        "\n",
        "Test input:    \n",
        "1  \n",
        "4  \n",
        "6  \n",
        "5  \n",
        "\n",
        "Expected output:    \n",
        "3.14159265359  \n",
        "1.414  \n",
        "Invalid choice  \n",
        "Thank you for using this program  "
      ]
    },
    {
      "cell_type": "code",
      "metadata": {
        "id": "EZdR70D-yP_Y",
        "colab": {
          "base_uri": "https://localhost:8080/"
        },
        "outputId": "0ef841c4-9256-45ea-c6da-71feb0575715"
      },
      "source": [
        "def show_special_numbers():\n",
        "  \n",
        "  to_quit = False\n",
        "  while to_quit == False:\n",
        "    choice = int(input(\"What value would you like to see?\\n1 Pi\\n2 Plank’s constant\\n3 E\\n4 Square root of 2\\n5 Quit the program\\n\\n:\"))\n",
        "    print(choice)\n",
        "    if(choice == 5):\n",
        "      to_quit = True\n",
        "      print(\"Thank you for using this program\")\n",
        "    else:\n",
        "      if choice == 1:\n",
        "        print(\"3.14159265359\")\n",
        "      elif choice == 2:\n",
        "        print(\"6.62607004E-34\")\n",
        "      elif choice == 3:\n",
        "        print(\"2.71828\")\n",
        "      elif choice == 4:\n",
        "        print(\"1.414\")\n",
        "      else:\n",
        "        print(\"invalid choice\")\n",
        "  \n",
        "\n",
        "\n",
        "show_special_numbers()"
      ],
      "execution_count": 35,
      "outputs": [
        {
          "output_type": "stream",
          "name": "stdout",
          "text": [
            "What value would you like to see?\n",
            "1 Pi\n",
            "2 Plank’s constant\n",
            "3 E\n",
            "4 Square root of 2\n",
            "5 Quit the program\n",
            "\n",
            ":1\n",
            "1\n",
            "3.14159265359\n",
            "What value would you like to see?\n",
            "1 Pi\n",
            "2 Plank’s constant\n",
            "3 E\n",
            "4 Square root of 2\n",
            "5 Quit the program\n",
            "\n",
            ":4\n",
            "4\n",
            "1.414\n",
            "What value would you like to see?\n",
            "1 Pi\n",
            "2 Plank’s constant\n",
            "3 E\n",
            "4 Square root of 2\n",
            "5 Quit the program\n",
            "\n",
            ":3\n",
            "3\n",
            "2.71828\n",
            "What value would you like to see?\n",
            "1 Pi\n",
            "2 Plank’s constant\n",
            "3 E\n",
            "4 Square root of 2\n",
            "5 Quit the program\n",
            "\n",
            ":2\n",
            "2\n",
            "6.62607004E-34\n",
            "What value would you like to see?\n",
            "1 Pi\n",
            "2 Plank’s constant\n",
            "3 E\n",
            "4 Square root of 2\n",
            "5 Quit the program\n",
            "\n",
            ":5\n",
            "5\n",
            "Thank you for using this program\n"
          ]
        }
      ]
    },
    {
      "cell_type": "markdown",
      "metadata": {
        "id": "Ig_WrlmPWG4v"
      },
      "source": [
        "---\n",
        "### Exercise 10 - Guess the number  \n",
        "\n",
        "Write a function called **guess_number(number)** which will:  \n",
        "\n",
        "Ask the user to guess the number within 6 attempts.  \n",
        "\n",
        "The function will be given a random number (called `number`) and should use a while loop that will continue while the user has not guessed correctly and has had less than 6 attempts (don't forget to set the number of attempts to 0 before the loop and increment it every time a guess is made).  \n",
        "\n",
        "In the loop:  \n",
        "\n",
        "*  ask the user to enter a **guess**  \n",
        "*  if the `guess` is greater than the `number` print \"Too high\", if less than the number print \"Too low\" or if correct print \"You guessed it\"  \n",
        "*  count the `attempt`  \n",
        "\n",
        "After the loop if the maximum attempts has been reached, print \"Too many attempts\"\n",
        "\n",
        "\n"
      ]
    },
    {
      "cell_type": "code",
      "metadata": {
        "id": "7qagArrHWHGV",
        "colab": {
          "base_uri": "https://localhost:8080/"
        },
        "outputId": "f51dd8c6-e60a-4cc2-8643-2a77f7df6629"
      },
      "source": [
        "from random import randint\n",
        "\n",
        "def guess_number(number):\n",
        "  # add your code below here, remembering to indent\n",
        "  print(number)\n",
        "  is_guessed = False\n",
        "  attempts = 0\n",
        "  while ((is_guessed == False) and (attempts < 6)):\n",
        "    guess = int(input(\"pls guess a number\"))\n",
        "    attempts += 1 #keep a tally\n",
        "    if guess == number:\n",
        "      is_guessed = True\n",
        "      print(\"you guessed it on guess %d\" % attempts3)\n",
        "    elif guess > number:\n",
        "      print(\"too high\")\n",
        "    elif guess < number:\n",
        "      print(\"too low\")\n",
        "    else:\n",
        "      print(\"invalid guess\")\n",
        "  if attempts == 6:\n",
        "    print(\"too many attempts\")\n",
        "\n",
        "\n",
        "guess_number(randint(1,50))"
      ],
      "execution_count": 41,
      "outputs": [
        {
          "output_type": "stream",
          "name": "stdout",
          "text": [
            "17\n",
            "pls guess a number2\n",
            "too low\n",
            "pls guess a number3\n",
            "too low\n",
            "pls guess a number44\n",
            "too high\n",
            "pls guess a number17\n",
            "you guessed it on guess 4\n"
          ]
        }
      ]
    }
  ]
}