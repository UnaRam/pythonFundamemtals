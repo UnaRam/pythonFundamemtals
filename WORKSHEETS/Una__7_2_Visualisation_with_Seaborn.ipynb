{
  "nbformat": 4,
  "nbformat_minor": 0,
  "metadata": {
    "colab": {
      "name": "Una _7.2. Visualisation with Seaborn",
      "provenance": [],
      "collapsed_sections": [],
      "include_colab_link": true
    },
    "kernelspec": {
      "name": "python3",
      "display_name": "Python 3"
    },
    "language_info": {
      "name": "python"
    }
  },
  "cells": [
    {
      "cell_type": "markdown",
      "metadata": {
        "id": "view-in-github",
        "colab_type": "text"
      },
      "source": [
        "<a href=\"https://colab.research.google.com/github/UnaRam/pythonFundamemtals/blob/main/Una__7_2_Visualisation_with_Seaborn.ipynb\" target=\"_parent\"><img src=\"https://colab.research.google.com/assets/colab-badge.svg\" alt=\"Open In Colab\"/></a>"
      ]
    },
    {
      "cell_type": "markdown",
      "metadata": {
        "id": "ovNHeS53QqEj"
      },
      "source": [
        "# Describing data visually with the Seaborn library\n",
        "---\n",
        "\n",
        "There are a good number of libraries available containing functions for visualising data with bar charts, pie charts, line plots, box plots, scatter plots and, in some libraries, with more image based visualisations.\n",
        "\n",
        "To build on the learning of **matplotlib**, this worksheet will use the Seaborn library to create a range of organisations.  It has the main functions we will use in this course:\n",
        "*  bar charts\n",
        "*  pie charts\n",
        "*  line plots\n",
        "*  box plots\n",
        "*  scatter plots\n",
        "*  histogram\n",
        "\n",
        "Each requires these things:  \n",
        "1. Select the data columns to be plotted \n",
        "2. Prepare the data (remove null values, clean formats, select required columns)  \n",
        "3. Run the function for the required plot\n",
        "\n",
        "Once you have the hang of these, you can start to look at labelling, colouring, etc.\n",
        "\n",
        "In order to begin creating visualisations, you need to:  \n",
        "* import **seaborn** as **sns**\n",
        "\n",
        "Test output for Exercises 1 to 7 is in this [image](https://drive.google.com/file/d/1LYxLJyur_zgzvJcv_C1WGm21nf07ddY6/view?usp=sharing)"
      ]
    },
    {
      "cell_type": "markdown",
      "source": [
        "# IMPORTANT\n",
        "---\n",
        "There has been an upgrade to a library needed for reading Excel files in a notebook.  To ensure that you have this upgrade, run the code in the cell below and then select 'Restart runtime' from the Runtime menu."
      ],
      "metadata": {
        "id": "uX9YmfpUZhdq"
      }
    },
    {
      "cell_type": "code",
      "source": [
        "!pip install --upgrade openpyxl"
      ],
      "metadata": {
        "id": "-0vA7oxsZ1xM",
        "colab": {
          "base_uri": "https://localhost:8080/"
        },
        "outputId": "c1c51e5b-2970-4dce-84e1-848f81264c49"
      },
      "execution_count": 1,
      "outputs": [
        {
          "output_type": "stream",
          "name": "stdout",
          "text": [
            "Requirement already satisfied: openpyxl in /usr/local/lib/python3.7/dist-packages (3.0.9)\n",
            "Requirement already satisfied: et-xmlfile in /usr/local/lib/python3.7/dist-packages (from openpyxl) (1.1.0)\n"
          ]
        }
      ]
    },
    {
      "cell_type": "markdown",
      "metadata": {
        "id": "lcPED_VXSY5U"
      },
      "source": [
        "#  Bar charts and Line Plots\n",
        "---\n",
        "\n",
        "For these exercises, use the Excel data file:\n",
        "\n",
        "'public-use-talent-migration' looking at sheet_name 'Country Migration'  \n",
        "https://github.com/futureCodersSE/working-with-data/blob/main/Data%20sets/public_use-talent-migration.xlsx?raw=true \n",
        "\n",
        "**Example line plot using seaborn**:  \n",
        "```\n",
        "import pandas as pd\n",
        "import seaborn as sns\n",
        "\n",
        "def show_lineplot(df):\n",
        "  years_df = df[['net_per_10K_2015','net_per_10K_2016','net_per_10K_2017','net_per_10K_2018','net_per_10K_2019']]\n",
        "  means = years_df.mean()\n",
        "  chart = sns.lineplot(data=means)\n",
        "  labels = list(years_df.columns)\n",
        "  \n",
        "\n",
        "# program starts here\n",
        "url = \"https://github.com/futureCodersSE/working-with-data/blob/main/Data%20sets/public_use-talent-migration.xlsx?raw=true\"\n",
        "df = pd.read_excel(url, sheet_name=\"Skill Migration\")\n",
        "show_lineplot(df)\n",
        "```\n",
        "![plot](https://drive.google.com/uc?id=1erX5EdiJppy-jLRFBhDcqeLHHWqNI6F-)"
      ]
    },
    {
      "cell_type": "markdown",
      "metadata": {
        "id": "CBIUWI1WyvLx"
      },
      "source": [
        "### Exercise 1 - Line plot of net migration \n",
        "--- \n",
        "\n",
        "Creating a line plot of mean net migration over the years 2015 to 2019\n",
        "\n",
        "* create a new dataframe containing only the five columns holding net migration\n",
        "* create a new data variable to hold the means of the five columns\n",
        "* create a labels variable to hold the keys (column headings) \n",
        "* use ```chart = sns.lineplot(data=prepared dataframe)``` to plot your line chart\n",
        "\n",
        "***Presentation tips:***   \n",
        "Plot the chart, then add formatting   \n",
        "\n",
        "Rotate the x-axis labels in the plot:  \n",
        "` chart.set_xticklabels(labels, rotation=30)`  \n",
        "\n",
        "Show the grid:  \n",
        "`sns.set_style(\"whitegrid\")`"
      ]
    },
    {
      "cell_type": "code",
      "metadata": {
        "id": "JLOAv52Kx1ZZ",
        "colab": {
          "base_uri": "https://localhost:8080/",
          "height": 421
        },
        "outputId": "75c4aca3-aa7f-4ec0-b4f4-5b64a9332fb8"
      },
      "source": [
        "import pandas as pd\n",
        "import seaborn as sns\n",
        "\n",
        "def show_lineplot(df):\n",
        "  years_df = df[['net_per_10K_2015','net_per_10K_2016','net_per_10K_2017','net_per_10K_2018','net_per_10K_2019']]\n",
        "  means = years_df.mean()\n",
        "  print(means)\n",
        "  chart = sns.lineplot(data=means)\n",
        "  labels = list(years_df.columns)\n",
        "  chart.set_xticklabels(labels, rotation=30)\n",
        "  sns.set_style(\"whitegrid\")\n",
        "\n",
        "\n",
        "# program starts here\n",
        "url = \"https://github.com/futureCodersSE/working-with-data/blob/main/Data%20sets/public_use-talent-migration.xlsx?raw=true\"\n",
        "df = pd.read_excel(url, sheet_name=\"Skill Migration\")\n",
        "show_lineplot(df)\n"
      ],
      "execution_count": 3,
      "outputs": [
        {
          "output_type": "stream",
          "name": "stdout",
          "text": [
            "net_per_10K_2015   -14.600256\n",
            "net_per_10K_2016   -39.200810\n",
            "net_per_10K_2017   -54.772238\n",
            "net_per_10K_2018   -36.081342\n",
            "net_per_10K_2019   -34.782431\n",
            "dtype: float64\n"
          ]
        },
        {
          "output_type": "display_data",
          "data": {
            "image/png": "[encoded data removed]",
            "text/plain": [
              "<Figure size 432x288 with 1 Axes>"
            ]
          },
          "metadata": {
            "needs_background": "light"
          }
        }
      ]
    },
    {
      "cell_type": "markdown",
      "metadata": {
        "id": "tCATnnTDVB0f"
      },
      "source": [
        "### Exercise 2 - Creating a Bar chart for yearly migration\n",
        "---\n",
        "Create a bar chart which shows the total net migration for the years 2015-2019  \n",
        " \n",
        "* split the migration columns into a new dataframe\n",
        "* create a data variable, for the y values, from the max() of the five columns\n",
        "* create a labels variable, this time just create a list of the 5 years ['2015','2016','2017','2018','2019']\n",
        "* plot the bar chart (`sns.barplot(x=labels, y=y values)` )\n",
        "\n",
        "***Presentation tips***:\n",
        "* use `chart.set_xlabel('Year')` and `chart.set_ylabel('Maximum net migration')` to name your axis  "
      ]
    },
    {
      "cell_type": "code",
      "metadata": {
        "id": "HFpx3cFOhbKo",
        "colab": {
          "base_uri": "https://localhost:8080/",
          "height": 279
        },
        "outputId": "584fdfb5-b08d-45e8-c838-aa4ee44fde41"
      },
      "source": [
        "def show_barchart(chart_df):\n",
        "    years_df = chart_df[['net_per_10K_2015','net_per_10K_2016','net_per_10K_2017','net_per_10K_2018','net_per_10K_2019']]\n",
        "    max_mig = years_df.max()\n",
        "    # print(max_mig)\n",
        "    labels = ['2015','2016','2017','2018','2019']\n",
        "    chart = sns.barplot(x=labels, y=max_mig)\n",
        "    chart.set_xlabel('Year')\n",
        "    chart.set_ylabel('Maximum Net Migration')\n",
        "\n",
        "\n",
        "\n",
        "show_barchart(df)"
      ],
      "execution_count": 10,
      "outputs": [
        {
          "output_type": "display_data",
          "data": {
            "image/png": "[encoded data removed]",
            "text/plain": [
              "<Figure size 432x288 with 1 Axes>"
            ]
          },
          "metadata": {}
        }
      ]
    },
    {
      "cell_type": "markdown",
      "metadata": {
        "id": "h7XzURfOzZfm"
      },
      "source": [
        "### Exercise 3 - creating a bar graph using grouped data \n",
        "---\n",
        "\n",
        "Create a horizontal bar chart of 2019 mean immigration for each income level ('`target_country_wb_income`')\n",
        "\n",
        "* create a data variable which contains the means, grouped by '`target_country_wb_income`' \n",
        "* extract your labels (x) using the .keys() function \n",
        "* use the `sns.barplot` with to create a horizontal bar graph (*Hint: swap the axes so labels is the y axis*)\n",
        "* add labels to the axes ('Year', 'Net Migration')  \n",
        "* show the plot  \n",
        "\n",
        "Try plotting as a vertical bar chart - can you see why horizontally is more appropriate?"
      ]
    },
    {
      "cell_type": "code",
      "metadata": {
        "id": "WW0np_MNmwou",
        "colab": {
          "base_uri": "https://localhost:8080/",
          "height": 297
        },
        "outputId": "46a3240d-c0f7-4254-a52c-262d34e7fc15"
      },
      "source": [
        "url = \"https://github.com/futureCodersSE/working-with-data/blob/main/Data%20sets/public_use-talent-migration.xlsx?raw=true\"\n",
        "df = pd.read_excel(url, sheet_name=\"Skill Migration\")\n",
        "df\n",
        "mig_per_income_df = df.groupby(['wb_income']).mean() # new df\n",
        "mig_2019 = mig_per_income_df['net_per_10K_2019']\n",
        "labels = mig_2019.keys()\n",
        "chart = sns.barplot(y=labels, x = mig_2019)\n",
        "chart.set_ylabel('Income bracket')\n",
        "chart.set_xlabel('Net Migration')\n"
      ],
      "execution_count": 19,
      "outputs": [
        {
          "output_type": "execute_result",
          "data": {
            "text/plain": [
              "Text(0.5, 0, 'Net Migration')"
            ]
          },
          "metadata": {},
          "execution_count": 19
        },
        {
          "output_type": "display_data",
          "data": {
            "image/png": "[encoded data removed]",
            "text/plain": [
              "<Figure size 432x288 with 1 Axes>"
            ]
          },
          "metadata": {}
        }
      ]
    },
    {
      "cell_type": "markdown",
      "metadata": {
        "id": "49JShRy_vWib"
      },
      "source": [
        "# Pie Charts, Box Plots, Scatter Plots and Histograms\n",
        "---\n",
        "\n",
        "For these exercises you will use the Psychology dataset: \"https://github.com/lilaceri/Working-with-data-/blob/b157a2feceb7709cf82426932385706d65446270/Data%20Sets%20for%20code%20divisio/Positive_Psychology_2017.csv?raw=true\"\n",
        "\n",
        "To get the data ready:\n",
        "\n",
        "* read csv file above and save into a new variable called `psych_data`"
      ]
    },
    {
      "cell_type": "code",
      "source": [
        "url = \"https://github.com/lilaceri/Working-with-data-/blob/b157a2feceb7709cf82426932385706d65446270/Data%20Sets%20for%20code%20divisio/Positive_Psychology_2017.csv?raw=true\"\n",
        "psych_data_df = pd.read_csv(url)\n",
        "psych_data_df"
      ],
      "metadata": {
        "colab": {
          "base_uri": "https://localhost:8080/",
          "height": 1000
        },
        "id": "nc0FnH2yU1Ej",
        "outputId": "e91c0828-59fc-4773-924e-df18e76bf573"
      },
      "execution_count": 20,
      "outputs": [
        {
          "output_type": "execute_result",
          "data": {
            "text/html": [
              "\n",
              "  <div id=\"df-45328265-b09f-44f1-b639-9d04818fe3ff\">\n",
              "    <div class=\"colab-df-container\">\n",
              "      <div>\n",
              "<style scoped>\n",
              "    .dataframe tbody tr th:only-of-type {\n",
              "        vertical-align: middle;\n",
              "    }\n",
              "\n",
              "    .dataframe tbody tr th {\n",
              "        vertical-align: top;\n",
              "    }\n",
              "\n",
              "    .dataframe thead th {\n",
              "        text-align: right;\n",
              "    }\n",
              "</style>\n",
              "<table border=\"1\" class=\"dataframe\">\n",
              "  <thead>\n",
              "    <tr style=\"text-align: right;\">\n",
              "      <th></th>\n",
              "      <th>Age</th>\n",
              "      <th>English</th>\n",
              "      <th>firstlanguage</th>\n",
              "      <th>sex</th>\n",
              "      <th>origin</th>\n",
              "      <th>Ukresidence</th>\n",
              "      <th>MAAS</th>\n",
              "      <th>Resilliance</th>\n",
              "      <th>Wellbeing</th>\n",
              "      <th>Stress</th>\n",
              "      <th>selfesteem</th>\n",
              "      <th>LoC</th>\n",
              "      <th>sleep</th>\n",
              "      <th>Year</th>\n",
              "    </tr>\n",
              "  </thead>\n",
              "  <tbody>\n",
              "    <tr>\n",
              "      <th>0</th>\n",
              "      <td>24</td>\n",
              "      <td>Your Second Language</td>\n",
              "      <td>Arabic</td>\n",
              "      <td>Female</td>\n",
              "      <td>Outside Europe</td>\n",
              "      <td>0.0</td>\n",
              "      <td>4.60</td>\n",
              "      <td>44</td>\n",
              "      <td>26</td>\n",
              "      <td>19</td>\n",
              "      <td>22</td>\n",
              "      <td>10</td>\n",
              "      <td>32</td>\n",
              "      <td>2017</td>\n",
              "    </tr>\n",
              "    <tr>\n",
              "      <th>1</th>\n",
              "      <td>22</td>\n",
              "      <td>Your Second Language</td>\n",
              "      <td>Arabic</td>\n",
              "      <td>Female</td>\n",
              "      <td>Outside Europe</td>\n",
              "      <td>0.0</td>\n",
              "      <td>2.60</td>\n",
              "      <td>29</td>\n",
              "      <td>10</td>\n",
              "      <td>37</td>\n",
              "      <td>9</td>\n",
              "      <td>16</td>\n",
              "      <td>10</td>\n",
              "      <td>2017</td>\n",
              "    </tr>\n",
              "    <tr>\n",
              "      <th>2</th>\n",
              "      <td>26</td>\n",
              "      <td>Your Second Language</td>\n",
              "      <td>Burmese</td>\n",
              "      <td>Female</td>\n",
              "      <td>Outside Europe</td>\n",
              "      <td>0.0</td>\n",
              "      <td>4.13</td>\n",
              "      <td>26</td>\n",
              "      <td>20</td>\n",
              "      <td>20</td>\n",
              "      <td>18</td>\n",
              "      <td>20</td>\n",
              "      <td>24</td>\n",
              "      <td>2017</td>\n",
              "    </tr>\n",
              "    <tr>\n",
              "      <th>3</th>\n",
              "      <td>23</td>\n",
              "      <td>Your Second Language</td>\n",
              "      <td>Chinese</td>\n",
              "      <td>Male</td>\n",
              "      <td>Outside Europe</td>\n",
              "      <td>0.0</td>\n",
              "      <td>2.77</td>\n",
              "      <td>30</td>\n",
              "      <td>16</td>\n",
              "      <td>28</td>\n",
              "      <td>20</td>\n",
              "      <td>17</td>\n",
              "      <td>10</td>\n",
              "      <td>2017</td>\n",
              "    </tr>\n",
              "    <tr>\n",
              "      <th>4</th>\n",
              "      <td>25</td>\n",
              "      <td>Your Second Language</td>\n",
              "      <td>Chinese</td>\n",
              "      <td>Female</td>\n",
              "      <td>Outside Europe</td>\n",
              "      <td>0.0</td>\n",
              "      <td>3.80</td>\n",
              "      <td>33</td>\n",
              "      <td>27</td>\n",
              "      <td>15</td>\n",
              "      <td>18</td>\n",
              "      <td>12</td>\n",
              "      <td>17</td>\n",
              "      <td>2017</td>\n",
              "    </tr>\n",
              "    <tr>\n",
              "      <th>5</th>\n",
              "      <td>24</td>\n",
              "      <td>Your Second Language</td>\n",
              "      <td>Chinese</td>\n",
              "      <td>Male</td>\n",
              "      <td>Outside Europe</td>\n",
              "      <td>2.0</td>\n",
              "      <td>4.40</td>\n",
              "      <td>34</td>\n",
              "      <td>25</td>\n",
              "      <td>21</td>\n",
              "      <td>19</td>\n",
              "      <td>13</td>\n",
              "      <td>17</td>\n",
              "      <td>2017</td>\n",
              "    </tr>\n",
              "    <tr>\n",
              "      <th>6</th>\n",
              "      <td>22</td>\n",
              "      <td>Your Second Language</td>\n",
              "      <td>Chinese</td>\n",
              "      <td>Female</td>\n",
              "      <td>Outside Europe</td>\n",
              "      <td>0.0</td>\n",
              "      <td>4.30</td>\n",
              "      <td>37</td>\n",
              "      <td>22</td>\n",
              "      <td>21</td>\n",
              "      <td>19</td>\n",
              "      <td>8</td>\n",
              "      <td>30</td>\n",
              "      <td>2017</td>\n",
              "    </tr>\n",
              "    <tr>\n",
              "      <th>7</th>\n",
              "      <td>36</td>\n",
              "      <td>Your Second Language</td>\n",
              "      <td>Chinese</td>\n",
              "      <td>Female</td>\n",
              "      <td>Outside Europe</td>\n",
              "      <td>0.5</td>\n",
              "      <td>3.33</td>\n",
              "      <td>41</td>\n",
              "      <td>25</td>\n",
              "      <td>26</td>\n",
              "      <td>18</td>\n",
              "      <td>12</td>\n",
              "      <td>4</td>\n",
              "      <td>2017</td>\n",
              "    </tr>\n",
              "    <tr>\n",
              "      <th>8</th>\n",
              "      <td>22</td>\n",
              "      <td>Your Second Language</td>\n",
              "      <td>Chinese</td>\n",
              "      <td>Female</td>\n",
              "      <td>Outside Europe</td>\n",
              "      <td>0.0</td>\n",
              "      <td>2.60</td>\n",
              "      <td>29</td>\n",
              "      <td>20</td>\n",
              "      <td>28</td>\n",
              "      <td>20</td>\n",
              "      <td>10</td>\n",
              "      <td>20</td>\n",
              "      <td>2017</td>\n",
              "    </tr>\n",
              "    <tr>\n",
              "      <th>9</th>\n",
              "      <td>22</td>\n",
              "      <td>Your Second Language</td>\n",
              "      <td>Chinese</td>\n",
              "      <td>Female</td>\n",
              "      <td>Outside Europe</td>\n",
              "      <td>0.0</td>\n",
              "      <td>2.40</td>\n",
              "      <td>35</td>\n",
              "      <td>24</td>\n",
              "      <td>19</td>\n",
              "      <td>19</td>\n",
              "      <td>17</td>\n",
              "      <td>24</td>\n",
              "      <td>2017</td>\n",
              "    </tr>\n",
              "    <tr>\n",
              "      <th>10</th>\n",
              "      <td>23</td>\n",
              "      <td>Your Second Language</td>\n",
              "      <td>Chinese</td>\n",
              "      <td>Female</td>\n",
              "      <td>Outside Europe</td>\n",
              "      <td>0.0</td>\n",
              "      <td>2.47</td>\n",
              "      <td>32</td>\n",
              "      <td>24</td>\n",
              "      <td>29</td>\n",
              "      <td>14</td>\n",
              "      <td>22</td>\n",
              "      <td>18</td>\n",
              "      <td>2017</td>\n",
              "    </tr>\n",
              "    <tr>\n",
              "      <th>11</th>\n",
              "      <td>22</td>\n",
              "      <td>Your Second Language</td>\n",
              "      <td>Chinese</td>\n",
              "      <td>Female</td>\n",
              "      <td>Outside Europe</td>\n",
              "      <td>0.0</td>\n",
              "      <td>3.93</td>\n",
              "      <td>37</td>\n",
              "      <td>29</td>\n",
              "      <td>19</td>\n",
              "      <td>17</td>\n",
              "      <td>13</td>\n",
              "      <td>29</td>\n",
              "      <td>2017</td>\n",
              "    </tr>\n",
              "    <tr>\n",
              "      <th>12</th>\n",
              "      <td>26</td>\n",
              "      <td>Your Second Language</td>\n",
              "      <td>German</td>\n",
              "      <td>Male</td>\n",
              "      <td>Europe</td>\n",
              "      <td>0.0</td>\n",
              "      <td>2.60</td>\n",
              "      <td>40</td>\n",
              "      <td>36</td>\n",
              "      <td>3</td>\n",
              "      <td>28</td>\n",
              "      <td>4</td>\n",
              "      <td>26</td>\n",
              "      <td>2017</td>\n",
              "    </tr>\n",
              "    <tr>\n",
              "      <th>13</th>\n",
              "      <td>24</td>\n",
              "      <td>Your Second Language</td>\n",
              "      <td>Greek</td>\n",
              "      <td>Female</td>\n",
              "      <td>Europe</td>\n",
              "      <td>0.0</td>\n",
              "      <td>4.00</td>\n",
              "      <td>42</td>\n",
              "      <td>30</td>\n",
              "      <td>32</td>\n",
              "      <td>19</td>\n",
              "      <td>5</td>\n",
              "      <td>22</td>\n",
              "      <td>2017</td>\n",
              "    </tr>\n",
              "    <tr>\n",
              "      <th>14</th>\n",
              "      <td>26</td>\n",
              "      <td>Your Second Language</td>\n",
              "      <td>Hindi</td>\n",
              "      <td>Female</td>\n",
              "      <td>Outside Europe</td>\n",
              "      <td>2.0</td>\n",
              "      <td>4.30</td>\n",
              "      <td>41</td>\n",
              "      <td>26</td>\n",
              "      <td>17</td>\n",
              "      <td>23</td>\n",
              "      <td>9</td>\n",
              "      <td>30</td>\n",
              "      <td>2017</td>\n",
              "    </tr>\n",
              "    <tr>\n",
              "      <th>15</th>\n",
              "      <td>29</td>\n",
              "      <td>Your Second Language</td>\n",
              "      <td>Japanese</td>\n",
              "      <td>Female</td>\n",
              "      <td>Outside Europe</td>\n",
              "      <td>0.0</td>\n",
              "      <td>4.60</td>\n",
              "      <td>33</td>\n",
              "      <td>27</td>\n",
              "      <td>14</td>\n",
              "      <td>24</td>\n",
              "      <td>9</td>\n",
              "      <td>16</td>\n",
              "      <td>2017</td>\n",
              "    </tr>\n",
              "    <tr>\n",
              "      <th>16</th>\n",
              "      <td>34</td>\n",
              "      <td>Your Second Language</td>\n",
              "      <td>Romanian</td>\n",
              "      <td>Female</td>\n",
              "      <td>Europe</td>\n",
              "      <td>5.0</td>\n",
              "      <td>4.00</td>\n",
              "      <td>34</td>\n",
              "      <td>28</td>\n",
              "      <td>27</td>\n",
              "      <td>19</td>\n",
              "      <td>20</td>\n",
              "      <td>23</td>\n",
              "      <td>2017</td>\n",
              "    </tr>\n",
              "    <tr>\n",
              "      <th>17</th>\n",
              "      <td>23</td>\n",
              "      <td>Your Second Language</td>\n",
              "      <td>Slovak</td>\n",
              "      <td>Male</td>\n",
              "      <td>Europe</td>\n",
              "      <td>0.0</td>\n",
              "      <td>4.10</td>\n",
              "      <td>30</td>\n",
              "      <td>26</td>\n",
              "      <td>21</td>\n",
              "      <td>22</td>\n",
              "      <td>9</td>\n",
              "      <td>29</td>\n",
              "      <td>2017</td>\n",
              "    </tr>\n",
              "    <tr>\n",
              "      <th>18</th>\n",
              "      <td>23</td>\n",
              "      <td>First Language (or you are bilingual in it wih...</td>\n",
              "      <td>NaN</td>\n",
              "      <td>Female</td>\n",
              "      <td>The UK</td>\n",
              "      <td>23.0</td>\n",
              "      <td>2.80</td>\n",
              "      <td>29</td>\n",
              "      <td>9</td>\n",
              "      <td>26</td>\n",
              "      <td>10</td>\n",
              "      <td>27</td>\n",
              "      <td>5</td>\n",
              "      <td>2017</td>\n",
              "    </tr>\n",
              "    <tr>\n",
              "      <th>19</th>\n",
              "      <td>24</td>\n",
              "      <td>First Language (or you are bilingual in it wit...</td>\n",
              "      <td>NaN</td>\n",
              "      <td>Female</td>\n",
              "      <td>Outside Europe</td>\n",
              "      <td>0.0</td>\n",
              "      <td>3.80</td>\n",
              "      <td>41</td>\n",
              "      <td>26</td>\n",
              "      <td>11</td>\n",
              "      <td>21</td>\n",
              "      <td>5</td>\n",
              "      <td>12</td>\n",
              "      <td>2017</td>\n",
              "    </tr>\n",
              "    <tr>\n",
              "      <th>20</th>\n",
              "      <td>23</td>\n",
              "      <td>First Language (or you are bilingual in it wit...</td>\n",
              "      <td>NaN</td>\n",
              "      <td>Female</td>\n",
              "      <td>Outside Europe</td>\n",
              "      <td>1.0</td>\n",
              "      <td>3.93</td>\n",
              "      <td>35</td>\n",
              "      <td>17</td>\n",
              "      <td>30</td>\n",
              "      <td>15</td>\n",
              "      <td>4</td>\n",
              "      <td>26</td>\n",
              "      <td>2017</td>\n",
              "    </tr>\n",
              "    <tr>\n",
              "      <th>21</th>\n",
              "      <td>23</td>\n",
              "      <td>First Language (or you are bilingual in it wit...</td>\n",
              "      <td>NaN</td>\n",
              "      <td>Female</td>\n",
              "      <td>Outside Europe</td>\n",
              "      <td>3.0</td>\n",
              "      <td>2.90</td>\n",
              "      <td>22</td>\n",
              "      <td>7</td>\n",
              "      <td>31</td>\n",
              "      <td>7</td>\n",
              "      <td>21</td>\n",
              "      <td>13</td>\n",
              "      <td>2017</td>\n",
              "    </tr>\n",
              "    <tr>\n",
              "      <th>22</th>\n",
              "      <td>25</td>\n",
              "      <td>First Language (or you are bilingual in it wit...</td>\n",
              "      <td>NaN</td>\n",
              "      <td>Male</td>\n",
              "      <td>Europe</td>\n",
              "      <td>19.0</td>\n",
              "      <td>4.40</td>\n",
              "      <td>35</td>\n",
              "      <td>28</td>\n",
              "      <td>21</td>\n",
              "      <td>22</td>\n",
              "      <td>4</td>\n",
              "      <td>30</td>\n",
              "      <td>2017</td>\n",
              "    </tr>\n",
              "    <tr>\n",
              "      <th>23</th>\n",
              "      <td>23</td>\n",
              "      <td>First Language (or you are bilingual in it wit...</td>\n",
              "      <td>NaN</td>\n",
              "      <td>Female</td>\n",
              "      <td>The UK</td>\n",
              "      <td>23.0</td>\n",
              "      <td>3.50</td>\n",
              "      <td>36</td>\n",
              "      <td>31</td>\n",
              "      <td>22</td>\n",
              "      <td>21</td>\n",
              "      <td>8</td>\n",
              "      <td>27</td>\n",
              "      <td>2017</td>\n",
              "    </tr>\n",
              "    <tr>\n",
              "      <th>24</th>\n",
              "      <td>27</td>\n",
              "      <td>First Language (or you are bilingual in it wit...</td>\n",
              "      <td>NaN</td>\n",
              "      <td>Male</td>\n",
              "      <td>The UK</td>\n",
              "      <td>25.0</td>\n",
              "      <td>4.40</td>\n",
              "      <td>45</td>\n",
              "      <td>31</td>\n",
              "      <td>4</td>\n",
              "      <td>30</td>\n",
              "      <td>4</td>\n",
              "      <td>23</td>\n",
              "      <td>2017</td>\n",
              "    </tr>\n",
              "    <tr>\n",
              "      <th>25</th>\n",
              "      <td>29</td>\n",
              "      <td>First Language (or you are bilingual in it wit...</td>\n",
              "      <td>NaN</td>\n",
              "      <td>Female</td>\n",
              "      <td>The UK</td>\n",
              "      <td>29.0</td>\n",
              "      <td>4.60</td>\n",
              "      <td>31</td>\n",
              "      <td>15</td>\n",
              "      <td>24</td>\n",
              "      <td>7</td>\n",
              "      <td>16</td>\n",
              "      <td>6</td>\n",
              "      <td>2017</td>\n",
              "    </tr>\n",
              "    <tr>\n",
              "      <th>26</th>\n",
              "      <td>22</td>\n",
              "      <td>First Language (or you are bilingual in it wit...</td>\n",
              "      <td>NaN</td>\n",
              "      <td>Female</td>\n",
              "      <td>Outside Europe</td>\n",
              "      <td>0.0</td>\n",
              "      <td>4.30</td>\n",
              "      <td>39</td>\n",
              "      <td>25</td>\n",
              "      <td>28</td>\n",
              "      <td>24</td>\n",
              "      <td>12</td>\n",
              "      <td>24</td>\n",
              "      <td>2017</td>\n",
              "    </tr>\n",
              "    <tr>\n",
              "      <th>27</th>\n",
              "      <td>22</td>\n",
              "      <td>First Language (or you are bilingual in it wit...</td>\n",
              "      <td>NaN</td>\n",
              "      <td>Female</td>\n",
              "      <td>Europe</td>\n",
              "      <td>0.0</td>\n",
              "      <td>3.80</td>\n",
              "      <td>39</td>\n",
              "      <td>22</td>\n",
              "      <td>24</td>\n",
              "      <td>28</td>\n",
              "      <td>4</td>\n",
              "      <td>12</td>\n",
              "      <td>2017</td>\n",
              "    </tr>\n",
              "    <tr>\n",
              "      <th>28</th>\n",
              "      <td>29</td>\n",
              "      <td>First Language (or you are bilingual in it wit...</td>\n",
              "      <td>NaN</td>\n",
              "      <td>Female</td>\n",
              "      <td>The UK</td>\n",
              "      <td>29.0</td>\n",
              "      <td>4.60</td>\n",
              "      <td>30</td>\n",
              "      <td>23</td>\n",
              "      <td>21</td>\n",
              "      <td>17</td>\n",
              "      <td>10</td>\n",
              "      <td>21</td>\n",
              "      <td>2017</td>\n",
              "    </tr>\n",
              "    <tr>\n",
              "      <th>29</th>\n",
              "      <td>23</td>\n",
              "      <td>First Language (or you are bilingual in it wit...</td>\n",
              "      <td>NaN</td>\n",
              "      <td>Female</td>\n",
              "      <td>Outside Europe</td>\n",
              "      <td>8.0</td>\n",
              "      <td>3.60</td>\n",
              "      <td>38</td>\n",
              "      <td>31</td>\n",
              "      <td>11</td>\n",
              "      <td>23</td>\n",
              "      <td>6</td>\n",
              "      <td>28</td>\n",
              "      <td>2017</td>\n",
              "    </tr>\n",
              "    <tr>\n",
              "      <th>30</th>\n",
              "      <td>26</td>\n",
              "      <td>First Language (or you are bilingual in it wit...</td>\n",
              "      <td>NaN</td>\n",
              "      <td>Female</td>\n",
              "      <td>The UK</td>\n",
              "      <td>26.0</td>\n",
              "      <td>3.50</td>\n",
              "      <td>37</td>\n",
              "      <td>17</td>\n",
              "      <td>20</td>\n",
              "      <td>18</td>\n",
              "      <td>14</td>\n",
              "      <td>29</td>\n",
              "      <td>2017</td>\n",
              "    </tr>\n",
              "    <tr>\n",
              "      <th>31</th>\n",
              "      <td>26</td>\n",
              "      <td>First Language (or you are bilingual in it wit...</td>\n",
              "      <td>NaN</td>\n",
              "      <td>Female</td>\n",
              "      <td>The UK</td>\n",
              "      <td>26.0</td>\n",
              "      <td>6.70</td>\n",
              "      <td>42</td>\n",
              "      <td>19</td>\n",
              "      <td>23</td>\n",
              "      <td>14</td>\n",
              "      <td>6</td>\n",
              "      <td>28</td>\n",
              "      <td>2017</td>\n",
              "    </tr>\n",
              "    <tr>\n",
              "      <th>32</th>\n",
              "      <td>22</td>\n",
              "      <td>First Language (or you are bilingual in it wit...</td>\n",
              "      <td>NaN</td>\n",
              "      <td>Female</td>\n",
              "      <td>Outside Europe</td>\n",
              "      <td>0.0</td>\n",
              "      <td>5.00</td>\n",
              "      <td>47</td>\n",
              "      <td>38</td>\n",
              "      <td>7</td>\n",
              "      <td>30</td>\n",
              "      <td>10</td>\n",
              "      <td>30</td>\n",
              "      <td>2017</td>\n",
              "    </tr>\n",
              "    <tr>\n",
              "      <th>33</th>\n",
              "      <td>23</td>\n",
              "      <td>First Language (or you are bilingual in it wit...</td>\n",
              "      <td>NaN</td>\n",
              "      <td>Female</td>\n",
              "      <td>The UK</td>\n",
              "      <td>11.0</td>\n",
              "      <td>2.30</td>\n",
              "      <td>30</td>\n",
              "      <td>28</td>\n",
              "      <td>26</td>\n",
              "      <td>15</td>\n",
              "      <td>19</td>\n",
              "      <td>11</td>\n",
              "      <td>2017</td>\n",
              "    </tr>\n",
              "    <tr>\n",
              "      <th>34</th>\n",
              "      <td>22</td>\n",
              "      <td>First Language (or you are bilingual in it wit...</td>\n",
              "      <td>NaN</td>\n",
              "      <td>Female</td>\n",
              "      <td>Europe</td>\n",
              "      <td>4.0</td>\n",
              "      <td>4.00</td>\n",
              "      <td>28</td>\n",
              "      <td>8</td>\n",
              "      <td>29</td>\n",
              "      <td>7</td>\n",
              "      <td>16</td>\n",
              "      <td>9</td>\n",
              "      <td>2017</td>\n",
              "    </tr>\n",
              "    <tr>\n",
              "      <th>35</th>\n",
              "      <td>44</td>\n",
              "      <td>First Language (or you are bilingual in it wit...</td>\n",
              "      <td>NaN</td>\n",
              "      <td>Female</td>\n",
              "      <td>The UK</td>\n",
              "      <td>6.0</td>\n",
              "      <td>3.47</td>\n",
              "      <td>37</td>\n",
              "      <td>23</td>\n",
              "      <td>27</td>\n",
              "      <td>17</td>\n",
              "      <td>16</td>\n",
              "      <td>7</td>\n",
              "      <td>2017</td>\n",
              "    </tr>\n",
              "    <tr>\n",
              "      <th>36</th>\n",
              "      <td>74</td>\n",
              "      <td>First Language (or you are bilingual in it wit...</td>\n",
              "      <td>NaN</td>\n",
              "      <td>Male</td>\n",
              "      <td>The UK</td>\n",
              "      <td>6.0</td>\n",
              "      <td>5.07</td>\n",
              "      <td>35</td>\n",
              "      <td>27</td>\n",
              "      <td>28</td>\n",
              "      <td>21</td>\n",
              "      <td>21</td>\n",
              "      <td>25</td>\n",
              "      <td>2017</td>\n",
              "    </tr>\n",
              "    <tr>\n",
              "      <th>37</th>\n",
              "      <td>14</td>\n",
              "      <td>First Language (or you are bilingual in it wit...</td>\n",
              "      <td>NaN</td>\n",
              "      <td>Male</td>\n",
              "      <td>Outside Europe</td>\n",
              "      <td>6.0</td>\n",
              "      <td>4.20</td>\n",
              "      <td>33</td>\n",
              "      <td>35</td>\n",
              "      <td>13</td>\n",
              "      <td>24</td>\n",
              "      <td>13</td>\n",
              "      <td>26</td>\n",
              "      <td>2017</td>\n",
              "    </tr>\n",
              "    <tr>\n",
              "      <th>38</th>\n",
              "      <td>40</td>\n",
              "      <td>First Language (or you are bilingual in it wit...</td>\n",
              "      <td>NaN</td>\n",
              "      <td>Female</td>\n",
              "      <td>The UK</td>\n",
              "      <td>30.0</td>\n",
              "      <td>3.00</td>\n",
              "      <td>40</td>\n",
              "      <td>32</td>\n",
              "      <td>17</td>\n",
              "      <td>20</td>\n",
              "      <td>8</td>\n",
              "      <td>25</td>\n",
              "      <td>2017</td>\n",
              "    </tr>\n",
              "    <tr>\n",
              "      <th>39</th>\n",
              "      <td>33</td>\n",
              "      <td>First Language (or you are bilingual in it wit...</td>\n",
              "      <td>NaN</td>\n",
              "      <td>Female</td>\n",
              "      <td>The UK</td>\n",
              "      <td>27.0</td>\n",
              "      <td>4.40</td>\n",
              "      <td>47</td>\n",
              "      <td>34</td>\n",
              "      <td>7</td>\n",
              "      <td>23</td>\n",
              "      <td>11</td>\n",
              "      <td>30</td>\n",
              "      <td>2017</td>\n",
              "    </tr>\n",
              "    <tr>\n",
              "      <th>40</th>\n",
              "      <td>26</td>\n",
              "      <td>Your Second Language</td>\n",
              "      <td>NaN</td>\n",
              "      <td>Female</td>\n",
              "      <td>Outside Europe</td>\n",
              "      <td>0.0</td>\n",
              "      <td>3.40</td>\n",
              "      <td>26</td>\n",
              "      <td>24</td>\n",
              "      <td>22</td>\n",
              "      <td>20</td>\n",
              "      <td>17</td>\n",
              "      <td>21</td>\n",
              "      <td>2017</td>\n",
              "    </tr>\n",
              "    <tr>\n",
              "      <th>41</th>\n",
              "      <td>22</td>\n",
              "      <td>First Language (or you are bilingual in it wit...</td>\n",
              "      <td>NaN</td>\n",
              "      <td>Female</td>\n",
              "      <td>The UK</td>\n",
              "      <td>22.0</td>\n",
              "      <td>2.90</td>\n",
              "      <td>25</td>\n",
              "      <td>30</td>\n",
              "      <td>28</td>\n",
              "      <td>17</td>\n",
              "      <td>9</td>\n",
              "      <td>25</td>\n",
              "      <td>2017</td>\n",
              "    </tr>\n",
              "    <tr>\n",
              "      <th>42</th>\n",
              "      <td>27</td>\n",
              "      <td>First Language (or you are bilingual in it wit...</td>\n",
              "      <td>NaN</td>\n",
              "      <td>Male</td>\n",
              "      <td>The UK</td>\n",
              "      <td>27.0</td>\n",
              "      <td>3.90</td>\n",
              "      <td>34</td>\n",
              "      <td>27</td>\n",
              "      <td>21</td>\n",
              "      <td>23</td>\n",
              "      <td>11</td>\n",
              "      <td>31</td>\n",
              "      <td>2017</td>\n",
              "    </tr>\n",
              "    <tr>\n",
              "      <th>43</th>\n",
              "      <td>24</td>\n",
              "      <td>First Language (or you are bilingual in it wit...</td>\n",
              "      <td>NaN</td>\n",
              "      <td>no</td>\n",
              "      <td>Outside Europe</td>\n",
              "      <td>0.0</td>\n",
              "      <td>3.30</td>\n",
              "      <td>18</td>\n",
              "      <td>13</td>\n",
              "      <td>36</td>\n",
              "      <td>15</td>\n",
              "      <td>12</td>\n",
              "      <td>7</td>\n",
              "      <td>2017</td>\n",
              "    </tr>\n",
              "  </tbody>\n",
              "</table>\n",
              "</div>\n",
              "      <button class=\"colab-df-convert\" onclick=\"convertToInteractive('df-45328265-b09f-44f1-b639-9d04818fe3ff')\"\n",
              "              title=\"Convert this dataframe to an interactive table.\"\n",
              "              style=\"display:none;\">\n",
              "        \n",
              "  <svg xmlns=\"http://www.w3.org/2000/svg\" height=\"24px\"viewBox=\"0 0 24 24\"\n",
              "       width=\"24px\">\n",
              "    <path d=\"M0 0h24v24H0V0z\" fill=\"none\"/>\n",
              "    <path d=\"M18.56 5.44l.94 2.06.94-2.06 2.06-.94-2.06-.94-.94-2.06-.94 2.06-2.06.94zm-11 1L8.5 8.5l.94-2.06 2.06-.94-2.06-.94L8.5 2.5l-.94 2.06-2.06.94zm10 10l.94 2.06.94-2.06 2.06-.94-2.06-.94-.94-2.06-.94 2.06-2.06.94z\"/><path d=\"M17.41 7.96l-1.37-1.37c-.4-.4-.92-.59-1.43-.59-.52 0-1.04.2-1.43.59L10.3 9.45l-7.72 7.72c-.78.78-.78 2.05 0 2.83L4 21.41c.39.39.9.59 1.41.59.51 0 1.02-.2 1.41-.59l7.78-7.78 2.81-2.81c.8-.78.8-2.07 0-2.86zM5.41 20L4 18.59l7.72-7.72 1.47 1.35L5.41 20z\"/>\n",
              "  </svg>\n",
              "      </button>\n",
              "      \n",
              "  <style>\n",
              "    .colab-df-container {\n",
              "      display:flex;\n",
              "      flex-wrap:wrap;\n",
              "      gap: 12px;\n",
              "    }\n",
              "\n",
              "    .colab-df-convert {\n",
              "      background-color: #E8F0FE;\n",
              "      border: none;\n",
              "      border-radius: 50%;\n",
              "      cursor: pointer;\n",
              "      display: none;\n",
              "      fill: #1967D2;\n",
              "      height: 32px;\n",
              "      padding: 0 0 0 0;\n",
              "      width: 32px;\n",
              "    }\n",
              "\n",
              "    .colab-df-convert:hover {\n",
              "      background-color: #E2EBFA;\n",
              "      box-shadow: 0px 1px 2px rgba(60, 64, 67, 0.3), 0px 1px 3px 1px rgba(60, 64, 67, 0.15);\n",
              "      fill: #174EA6;\n",
              "    }\n",
              "\n",
              "    [theme=dark] .colab-df-convert {\n",
              "      background-color: #3B4455;\n",
              "      fill: #D2E3FC;\n",
              "    }\n",
              "\n",
              "    [theme=dark] .colab-df-convert:hover {\n",
              "      background-color: #434B5C;\n",
              "      box-shadow: 0px 1px 3px 1px rgba(0, 0, 0, 0.15);\n",
              "      filter: drop-shadow(0px 1px 2px rgba(0, 0, 0, 0.3));\n",
              "      fill: #FFFFFF;\n",
              "    }\n",
              "  </style>\n",
              "\n",
              "      <script>\n",
              "        const buttonEl =\n",
              "          document.querySelector('#df-45328265-b09f-44f1-b639-9d04818fe3ff button.colab-df-convert');\n",
              "        buttonEl.style.display =\n",
              "          google.colab.kernel.accessAllowed ? 'block' : 'none';\n",
              "\n",
              "        async function convertToInteractive(key) {\n",
              "          const element = document.querySelector('#df-45328265-b09f-44f1-b639-9d04818fe3ff');\n",
              "          const dataTable =\n",
              "            await google.colab.kernel.invokeFunction('convertToInteractive',\n",
              "                                                     [key], {});\n",
              "          if (!dataTable) return;\n",
              "\n",
              "          const docLinkHtml = 'Like what you see? Visit the ' +\n",
              "            '<a target=\"_blank\" href=https://colab.research.google.com/notebooks/data_table.ipynb>data table notebook</a>'\n",
              "            + ' to learn more about interactive tables.';\n",
              "          element.innerHTML = '';\n",
              "          dataTable['output_type'] = 'display_data';\n",
              "          await google.colab.output.renderOutput(dataTable, element);\n",
              "          const docLink = document.createElement('div');\n",
              "          docLink.innerHTML = docLinkHtml;\n",
              "          element.appendChild(docLink);\n",
              "        }\n",
              "      </script>\n",
              "    </div>\n",
              "  </div>\n",
              "  "
            ],
            "text/plain": [
              "    Age                                            English  ... sleep  Year\n",
              "0    24                               Your Second Language  ...    32  2017\n",
              "1    22                               Your Second Language  ...    10  2017\n",
              "2    26                               Your Second Language  ...    24  2017\n",
              "3    23                               Your Second Language  ...    10  2017\n",
              "4    25                               Your Second Language  ...    17  2017\n",
              "5    24                               Your Second Language  ...    17  2017\n",
              "6    22                               Your Second Language  ...    30  2017\n",
              "7    36                               Your Second Language  ...     4  2017\n",
              "8    22                               Your Second Language  ...    20  2017\n",
              "9    22                               Your Second Language  ...    24  2017\n",
              "10   23                               Your Second Language  ...    18  2017\n",
              "11   22                               Your Second Language  ...    29  2017\n",
              "12   26                               Your Second Language  ...    26  2017\n",
              "13   24                               Your Second Language  ...    22  2017\n",
              "14   26                               Your Second Language  ...    30  2017\n",
              "15   29                               Your Second Language  ...    16  2017\n",
              "16   34                               Your Second Language  ...    23  2017\n",
              "17   23                               Your Second Language  ...    29  2017\n",
              "18   23  First Language (or you are bilingual in it wih...  ...     5  2017\n",
              "19   24  First Language (or you are bilingual in it wit...  ...    12  2017\n",
              "20   23  First Language (or you are bilingual in it wit...  ...    26  2017\n",
              "21   23  First Language (or you are bilingual in it wit...  ...    13  2017\n",
              "22   25  First Language (or you are bilingual in it wit...  ...    30  2017\n",
              "23   23  First Language (or you are bilingual in it wit...  ...    27  2017\n",
              "24   27  First Language (or you are bilingual in it wit...  ...    23  2017\n",
              "25   29  First Language (or you are bilingual in it wit...  ...     6  2017\n",
              "26   22  First Language (or you are bilingual in it wit...  ...    24  2017\n",
              "27   22  First Language (or you are bilingual in it wit...  ...    12  2017\n",
              "28   29  First Language (or you are bilingual in it wit...  ...    21  2017\n",
              "29   23  First Language (or you are bilingual in it wit...  ...    28  2017\n",
              "30   26  First Language (or you are bilingual in it wit...  ...    29  2017\n",
              "31   26  First Language (or you are bilingual in it wit...  ...    28  2017\n",
              "32   22  First Language (or you are bilingual in it wit...  ...    30  2017\n",
              "33   23  First Language (or you are bilingual in it wit...  ...    11  2017\n",
              "34   22  First Language (or you are bilingual in it wit...  ...     9  2017\n",
              "35   44  First Language (or you are bilingual in it wit...  ...     7  2017\n",
              "36   74  First Language (or you are bilingual in it wit...  ...    25  2017\n",
              "37   14  First Language (or you are bilingual in it wit...  ...    26  2017\n",
              "38   40  First Language (or you are bilingual in it wit...  ...    25  2017\n",
              "39   33  First Language (or you are bilingual in it wit...  ...    30  2017\n",
              "40   26                               Your Second Language  ...    21  2017\n",
              "41   22  First Language (or you are bilingual in it wit...  ...    25  2017\n",
              "42   27  First Language (or you are bilingual in it wit...  ...    31  2017\n",
              "43   24  First Language (or you are bilingual in it wit...  ...     7  2017\n",
              "\n",
              "[44 rows x 14 columns]"
            ]
          },
          "metadata": {},
          "execution_count": 20
        }
      ]
    },
    {
      "cell_type": "markdown",
      "metadata": {
        "id": "EMq3ymhwlcYR"
      },
      "source": [
        "### Exercise 4 - Creating a pie chart of stress data\n",
        "---\n",
        "Create a pie chart which shows how stressed students who speak different languages are.   \n",
        "\n",
        "To do this:\n",
        "\n",
        "* similar to Exercise 2 - create a variable which groups the means of data by firstlanguage  \n",
        "* store the means for 'Stress' in a variable called stress_data\n",
        "* extract your labels using the keys() function\n",
        "\n",
        "Seaborn doesn't have a function for plotting pie charts but you can use Seaborn functions for styling pie charts created by matplotlib.\n",
        "\n",
        "* add an import statement above your funciton to import the matplotlib.pyplot library, aliased as plt\n",
        "* use the Seaborn function `colors = sns.color_palette('pastel')`to create a colour palette for the chart.  (_Hint: you can find a list of available palettes [here](https://seaborn.pydata.org/tutorial/color_palettes.html)_)\n",
        "* plot your pie chart using `plt.pie()` adding parameters to set labels and a color theme **colors = colors**\n",
        "* write a comment noting anything interesting about the visualisation\n",
        "\n",
        "\n"
      ]
    },
    {
      "cell_type": "code",
      "metadata": {
        "id": "4mbOBPE-nU7o",
        "colab": {
          "base_uri": "https://localhost:8080/",
          "height": 576
        },
        "outputId": "0d81ea63-05c0-4de6-d27b-b478f4f05e88"
      },
      "source": [
        "import matplotlib.pyplot as plt\n",
        "\n",
        "\n",
        "group_firstlang_df = psych_data_df.groupby(['firstlanguage']).mean()\n",
        "# group_firstlang_df\n",
        "stress_data = group_firstlang_df['Stress']\n",
        "# print(stress_data)\n",
        "labels = stress_data.keys()\n",
        "# colors = sns.color_palette('pastel')\n",
        "colors = sns.color_palette('colorblind')\n",
        "\n",
        "plt.pie(stress_data, labels= labels, colors = colors)\n"
      ],
      "execution_count": 35,
      "outputs": [
        {
          "output_type": "execute_result",
          "data": {
            "text/plain": [
              "([<matplotlib.patches.Wedge at 0x7f95bcce2090>,\n",
              "  <matplotlib.patches.Wedge at 0x7f95bcce24d0>,\n",
              "  <matplotlib.patches.Wedge at 0x7f95bcce2490>,\n",
              "  <matplotlib.patches.Wedge at 0x7f95bcce9050>,\n",
              "  <matplotlib.patches.Wedge at 0x7f95bcce99d0>,\n",
              "  <matplotlib.patches.Wedge at 0x7f95bcc73050>,\n",
              "  <matplotlib.patches.Wedge at 0x7f95bcc73310>,\n",
              "  <matplotlib.patches.Wedge at 0x7f95bcc733d0>,\n",
              "  <matplotlib.patches.Wedge at 0x7f95bcce9110>],\n",
              " [Text(0.9778343228056114, 0.503825403431875, 'Arabic'),\n",
              "  Text(0.30337855141339065, 1.0573369635751475, 'Burmese'),\n",
              "  Text(-0.4778066514066391, 0.9908081569464265, 'Chinese'),\n",
              "  Text(-0.8542503239005748, 0.6930053276243722, 'German'),\n",
              "  Text(-1.0958542973020244, 0.09541152490494195, 'Greek'),\n",
              "  Text(-0.8080366103226574, -0.746375801040113, 'Hindi'),\n",
              "  Text(-0.32328551040010345, -1.0514211709706747, 'Japanese'),\n",
              "  Text(0.42670111720894616, -1.0138669323795098, 'Romanian'),\n",
              "  Text(1.0307106904237644, -0.3842336172775195, 'Slovak')])"
            ]
          },
          "metadata": {},
          "execution_count": 35
        },
        {
          "output_type": "display_data",
          "data": {
            "image/png": "[encoded data removed]",
            "text/plain": [
              "<Figure size 432x288 with 1 Axes>"
            ]
          },
          "metadata": {}
        }
      ]
    },
    {
      "cell_type": "markdown",
      "source": [
        "can use various palettes e.g. for colorblind people\n",
        "not sure why the metdata gets printed"
      ],
      "metadata": {
        "id": "JgqRs8SLXbim"
      }
    },
    {
      "cell_type": "markdown",
      "metadata": {
        "id": "dLNPuH5zuq7Y"
      },
      "source": [
        "### Exercise 5 - Creating a box plot of Wellbeing\n",
        "---\n",
        "A box plot is used to visualise summary infomation about a data series such as the min, max and median. \n",
        "\n",
        "Create a box plot of the Wellbeing scores\n",
        "\n",
        "*  split off the wellbeing column into a new dataframe\n",
        "*  create a label list containing the label ['Wellbeing']\n",
        "*  use `chart = sns.boxplot(data=new_df)` to create a boxplot \n",
        "*  set the x-axis label using `chart.set_xticklabels(labels)`"
      ]
    },
    {
      "cell_type": "code",
      "metadata": {
        "id": "i7fctsOQlcGR",
        "colab": {
          "base_uri": "https://localhost:8080/",
          "height": 265
        },
        "outputId": "8be45f43-57a9-4b28-ce22-1030ace10c04"
      },
      "source": [
        "url = \"https://github.com/lilaceri/Working-with-data-/blob/b157a2feceb7709cf82426932385706d65446270/Data%20Sets%20for%20code%20divisio/Positive_Psychology_2017.csv?raw=true\"\n",
        "psych_data_df = pd.read_csv(url)\n",
        "\n",
        "wellbeing_srs = psych_data_df['Wellbeing']\n",
        "\n",
        "label = ['Wellbeing']\n",
        "chart = sns.boxplot(data=wellbeing_srs)\n",
        "chart.set_xticklabels(label)\n",
        "plt.boxplot(wellbeing_srs) # showed this as well to compare\n",
        "plt.show()"
      ],
      "execution_count": 50,
      "outputs": [
        {
          "output_type": "display_data",
          "data": {
            "image/png": "[encoded data removed]",
            "text/plain": [
              "<Figure size 432x288 with 1 Axes>"
            ]
          },
          "metadata": {}
        }
      ]
    },
    {
      "cell_type": "markdown",
      "metadata": {
        "id": "ecS9uzAs3AuV"
      },
      "source": [
        "### Exercise 6 - Histograms of  age \n",
        "---\n",
        "\n",
        "Create a histogram which shows the frequency distribution for '`Wellbeing`'.\n",
        "\n",
        "* split the `Wellbeing` column off to provide the data\n",
        "* plot the histogram using `chart = sns.histplot(data=data)` \n",
        "* add labels using `chart.set_xlabel()` and `chart.set_ylabel()`\n",
        "* change the colours of the bars - try adding `color='chosen colour'` choosing a single colour name e.g. red, blue, etc) to the parameters for the histplot\n"
      ]
    },
    {
      "cell_type": "code",
      "metadata": {
        "id": "Iuo3TJOG3ASF",
        "colab": {
          "base_uri": "https://localhost:8080/",
          "height": 315
        },
        "outputId": "5fe5b862-ab63-4054-ec49-c84272317c1e"
      },
      "source": [
        "chart = sns.histplot(data=wellbeing_srs, color = \"green\")\n",
        "print(type(wellbeing_srs))\n",
        "chart.set_xlabel(\"Wellbeing Score\")\n",
        "chart.set_ylabel(\"frequency of score\")\n",
        "# sns.color_palette('colorblind')\n"
      ],
      "execution_count": 55,
      "outputs": [
        {
          "output_type": "stream",
          "name": "stdout",
          "text": [
            "<class 'pandas.core.series.Series'>\n"
          ]
        },
        {
          "output_type": "execute_result",
          "data": {
            "text/plain": [
              "Text(0, 0.5, 'frequency of score')"
            ]
          },
          "metadata": {},
          "execution_count": 55
        },
        {
          "output_type": "display_data",
          "data": {
            "image/png": "[encoded data removed]",
            "text/plain": [
              "<Figure size 432x288 with 1 Axes>"
            ]
          },
          "metadata": {}
        }
      ]
    },
    {
      "cell_type": "markdown",
      "metadata": {
        "id": "7ijbVqHZ1YhP"
      },
      "source": [
        "### Exercise 7 - Create a scatterplot of Wellbeing and Stress with line of best fit\n",
        "---\n",
        "\n",
        "Assuming that Stress is fairly closely associated with Wellbeing:\n",
        "\n",
        "Create a scatterplot of Wellbeing and Stress data.\n",
        "\n",
        "* create **x** from the `Stress` column\n",
        "* create **y** from the `Wellbeing` column\n",
        "* use `chart=sns.scatterplot(x=x,y=y)` to create a scatterplot\n",
        "* add x axis and y axis labels using `chart.set_xlabel('Stress')` and `chart.set_ylabel('Wellbeing')`\n",
        "\n",
        "Adding a line of best fit:   \n",
        "* the Seaborn library has a function that will plot a scatter plot with a line of best fit generated from a linear regression\n",
        "* replace the instruction to create the scatter plot with `chart=sns.regplot(x=x, y=y)` \n",
        "\n",
        "Write a short data story ( a description of the data.  What conclusion could be reached from the chart?  How confident could you be in this conclusion and why?\n",
        "\n",
        "\n"
      ]
    },
    {
      "cell_type": "code",
      "source": [
        "x = psych_data_df['Stress']\n",
        "y = psych_data_df['Wellbeing']\n",
        "# chart = sns.scatterplot(x=x,y=y)\n",
        "chart = sns.regplot(x=x,y=y, color = 'g', ci=99)\n"
      ],
      "metadata": {
        "id": "CR0KIjt4WXLF",
        "colab": {
          "base_uri": "https://localhost:8080/",
          "height": 279
        },
        "outputId": "6451c4c6-54eb-433f-fec0-0f1afaf23cbd"
      },
      "execution_count": 62,
      "outputs": [
        {
          "output_type": "display_data",
          "data": {
            "image/png": "[encoded data removed]",
            "text/plain": [
              "<Figure size 432x288 with 1 Axes>"
            ]
          },
          "metadata": {}
        }
      ]
    },
    {
      "cell_type": "markdown",
      "source": [
        "The scatter plot above shows wellbeing vs stress. A linear regression has been calculated using seaborn. This suggests a negative correlation between wellbeing and stress. As stress increases, wellbeing decreases. However this correlation is not particularly strong (how to extract the corr coeff from seaborn graph??)"
      ],
      "metadata": {
        "id": "0M4yfcltqOiR"
      }
    },
    {
      "cell_type": "markdown",
      "source": [
        "### Exercise 8 - Create a set of charts from a data set\n",
        "---\n",
        "Use the student exam scores dataset here: https://raw.githubusercontent.com/lilaceri/Working-with-data-/main/Data%20Sets%20for%20code%20divisio/student_scores.csv\n",
        "\n",
        "Investigate the data and create a set of charts.  \n",
        "\n",
        "Create each chart in a new code cell.\n",
        "\n",
        "Add a text cell below each visualisation to explain what the chart is showing.\n"
      ],
      "metadata": {
        "id": "ZMecHxIPT4Jh"
      }
    },
    {
      "cell_type": "code",
      "source": [
        "url = \"https://raw.githubusercontent.com/lilaceri/Working-with-data-/main/Data%20Sets%20for%20code%20divisio/student_scores.csv\"\n",
        "student_exams_df = pd.read_csv(url)\n",
        "# student_exams_df\n",
        "scores = student_exams_df['Scores']\n",
        "hours = student_exams_df['Hours']"
      ],
      "metadata": {
        "id": "jNXPk52pWNT5"
      },
      "execution_count": 65,
      "outputs": []
    },
    {
      "cell_type": "code",
      "source": [
        "#scatter\n",
        "chart = sns.regplot(x=hours,y=scores, color = 'b', ci=99)\n",
        "chart = sns.scatterplot(x=hours,y=scores, color = 'g')\n"
      ],
      "metadata": {
        "colab": {
          "base_uri": "https://localhost:8080/",
          "height": 279
        },
        "id": "douImlawrtG7",
        "outputId": "293a9c94-8188-4eb1-fd24-b8de75a9cc85"
      },
      "execution_count": 70,
      "outputs": [
        {
          "output_type": "display_data",
          "data": {
            "image/png": "[encoded data removed]",
            "text/plain": [
              "<Figure size 432x288 with 1 Axes>"
            ]
          },
          "metadata": {}
        }
      ]
    },
    {
      "cell_type": "markdown",
      "source": [
        "The scatterplot above shows the correlation between scores and hours. A positive correlation is shown, with an increase in hours corresponding to an increase in the scores. The regplot also shows the Confidence Interval for this dataset (set to 99%) Correlation coefficient???"
      ],
      "metadata": {
        "id": "y5htPm_4vIpv"
      }
    },
    {
      "cell_type": "code",
      "source": [
        "#histogram\n",
        "chart = sns.histplot(data=scores, bins = 9, color = 'orange')"
      ],
      "metadata": {
        "colab": {
          "base_uri": "https://localhost:8080/",
          "height": 279
        },
        "id": "8dXAROp5sPJ6",
        "outputId": "c5565305-9e2f-4a00-ec66-a02c61e23947"
      },
      "execution_count": 75,
      "outputs": [
        {
          "output_type": "display_data",
          "data": {
            "image/png": "[encoded data removed]",
            "text/plain": [
              "<Figure size 432x288 with 1 Axes>"
            ]
          },
          "metadata": {}
        }
      ]
    },
    {
      "cell_type": "markdown",
      "source": [
        "The histogram shows the frequency of the various scores. Nine bins have been chosen to give a reasonable balance of granularity and clarity. There is a high frequency in the lowest score bins and another smaller peak in the higher bins. It is not a normal distribution"
      ],
      "metadata": {
        "id": "AKaQkPJbuysN"
      }
    },
    {
      "cell_type": "code",
      "source": [
        "#boxplot\n",
        "chart = sns.boxplot(data=scores, palette='colorblind',orient='v')\n",
        "label = ['Scores']\n",
        "chart.set_xticklabels(label)"
      ],
      "metadata": {
        "colab": {
          "base_uri": "https://localhost:8080/",
          "height": 284
        },
        "id": "1qBwMutfsrai",
        "outputId": "1f6a927a-4838-4268-f857-4fd6303f7a02"
      },
      "execution_count": 83,
      "outputs": [
        {
          "output_type": "execute_result",
          "data": {
            "text/plain": [
              "[Text(0, 0, 'Scores')]"
            ]
          },
          "metadata": {},
          "execution_count": 83
        },
        {
          "output_type": "display_data",
          "data": {
            "image/png": "[encoded data removed]",
            "text/plain": [
              "<Figure size 432x288 with 1 Axes>"
            ]
          },
          "metadata": {}
        }
      ]
    },
    {
      "cell_type": "markdown",
      "source": [
        "The boxplot shows the distribution of scores in the dataset. The median is approx 48 and the first and third IQ are 30 and 74 respectively. No outliers are indicated\n",
        "\n"
      ],
      "metadata": {
        "id": "fKk2rHTNtqac"
      }
    },
    {
      "cell_type": "markdown",
      "metadata": {
        "id": "FWli4XMmsAPo"
      },
      "source": [
        "# Further reference on Seaborn\n",
        "\n",
        "[Seaborn documentation](https://seaborn.pydata.org/index.html)"
      ]
    }
  ]
}