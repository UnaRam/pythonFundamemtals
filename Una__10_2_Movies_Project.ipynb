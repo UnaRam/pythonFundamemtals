{
  "nbformat": 4,
  "nbformat_minor": 0,
  "metadata": {
    "colab": {
      "name": "Una _10.2 Movies Project.ipynb",
      "provenance": [],
      "collapsed_sections": [],
      "include_colab_link": true
    },
    "kernelspec": {
      "name": "python3",
      "display_name": "Python 3"
    },
    "language_info": {
      "name": "python"
    }
  },
  "cells": [
    {
      "cell_type": "markdown",
      "metadata": {
        "id": "view-in-github",
        "colab_type": "text"
      },
      "source": [
        "<a href=\"https://colab.research.google.com/github/UnaRam/pythonFundamemtals/blob/main/Una__10_2_Movies_Project.ipynb\" target=\"_parent\"><img src=\"https://colab.research.google.com/assets/colab-badge.svg\" alt=\"Open In Colab\"/></a>"
      ]
    },
    {
      "cell_type": "markdown",
      "metadata": {
        "id": "iNinIL0w_DHu"
      },
      "source": [
        "# Movies Mini-project\n",
        "---\n",
        "\n",
        "In the previous worksheet you converted an SQL relational database to a single pandas dataframe and downloaded it. You will be analysing it today.\n",
        "\n",
        "If you were unable to download the file, there is a copy located here: \n",
        "\n",
        "\"https://github.com/lilaceri/Working-with-data-/blob/main/Data%20Sets%20for%20code%20divisio/movies.csv?raw=true\"\n",
        "\n"
      ]
    },
    {
      "cell_type": "markdown",
      "metadata": {
        "id": "TlOJOk3vMN2C"
      },
      "source": [
        "### Inspect the dataset \n",
        "---"
      ]
    },
    {
      "cell_type": "code",
      "metadata": {
        "id": "Le5KSKHY_BM9",
        "colab": {
          "base_uri": "https://localhost:8080/"
        },
        "outputId": "f14451cd-6dfd-4b23-e43b-984d4aba9d3f"
      },
      "source": [
        "import pandas as pd\n",
        "url = \"https://github.com/lilaceri/Working-with-data-/blob/main/Data%20Sets%20for%20code%20divisio/movies.csv?raw=true\"\n",
        "df = pd.read_csv(url)\n",
        "\n",
        "pd.set_option('display.max_columns', None)\n",
        "print(df.head())\n",
        "print(df.tail())\n",
        "print(df.info())"
      ],
      "execution_count": null,
      "outputs": [
        {
          "output_type": "stream",
          "name": "stdout",
          "text": [
            "   Unnamed: 0 first_name    last_name                      name  year  rank  \\\n",
            "0           0        Les  12 Poissons      Rondo pour trompette  2002   NaN   \n",
            "1           1    Lejaren     a'Hiller  Sleep of Cyma Roget, The  1920   NaN   \n",
            "2           2   Khairiya    A-Mansour          Churches in Iraq  1988   NaN   \n",
            "3           3    Ricardo     A. Solla                  Foto, La  2001   NaN   \n",
            "4           4    Ricardo     A. Solla                  Foto, La  2001   NaN   \n",
            "\n",
            "         genre  \n",
            "0        Short  \n",
            "1        Drama  \n",
            "2  Documentary  \n",
            "3        Drama  \n",
            "4        Short  \n",
            "        Unnamed: 0 first_name last_name                                name  \\\n",
            "368889      368889      Yusuf      Ünal                      Kalbim agliyor   \n",
            "368890      368890      Ahmet     Ündag                 Ve gnese kan siradi   \n",
            "368891      368891       Idil      Üner  Liebenden vom Hotel von Osman, Die   \n",
            "368892      368892     Yüksel     Ünsal                   Evvel zaman iinde   \n",
            "368893      368893     Yüksel     Ünsal                   Evvel zaman iinde   \n",
            "\n",
            "        year  rank      genre  \n",
            "368889  1988   NaN      Drama  \n",
            "368890  1972   NaN  Adventure  \n",
            "368891  2001   8.5      Short  \n",
            "368892  1951   NaN  Animation  \n",
            "368893  1951   NaN     Comedy  \n",
            "<class 'pandas.core.frame.DataFrame'>\n",
            "RangeIndex: 368894 entries, 0 to 368893\n",
            "Data columns (total 7 columns):\n",
            " #   Column      Non-Null Count   Dtype  \n",
            "---  ------      --------------   -----  \n",
            " 0   Unnamed: 0  368894 non-null  int64  \n",
            " 1   first_name  368894 non-null  object \n",
            " 2   last_name   368894 non-null  object \n",
            " 3   name        368894 non-null  object \n",
            " 4   year        368894 non-null  int64  \n",
            " 5   rank        113376 non-null  float64\n",
            " 6   genre       368894 non-null  object \n",
            "dtypes: float64(1), int64(2), object(4)\n",
            "memory usage: 19.7+ MB\n",
            "None\n"
          ]
        }
      ]
    },
    {
      "cell_type": "markdown",
      "metadata": {
        "id": "wIRDoCnxMRj8"
      },
      "source": [
        "### Clean the dataset \n",
        "---\n"
      ]
    },
    {
      "cell_type": "code",
      "metadata": {
        "id": "LgY60bsbMUc8",
        "colab": {
          "base_uri": "https://localhost:8080/"
        },
        "outputId": "54dca2ee-fc90-484b-c7e3-e8189032cb1a"
      },
      "source": [
        "# reasonable to drop all the rows with no rank?\n",
        "# remove allthe special chars in the names??\n",
        "# at least drop duplicates\n",
        "df.drop_duplicates()\n",
        "print(df.info())"
      ],
      "execution_count": null,
      "outputs": [
        {
          "output_type": "stream",
          "name": "stdout",
          "text": [
            "<class 'pandas.core.frame.DataFrame'>\n",
            "RangeIndex: 368894 entries, 0 to 368893\n",
            "Data columns (total 7 columns):\n",
            " #   Column      Non-Null Count   Dtype  \n",
            "---  ------      --------------   -----  \n",
            " 0   Unnamed: 0  368894 non-null  int64  \n",
            " 1   first_name  368894 non-null  object \n",
            " 2   last_name   368894 non-null  object \n",
            " 3   name        368894 non-null  object \n",
            " 4   year        368894 non-null  int64  \n",
            " 5   rank        113376 non-null  float64\n",
            " 6   genre       368894 non-null  object \n",
            "dtypes: float64(1), int64(2), object(4)\n",
            "memory usage: 19.7+ MB\n",
            "None\n"
          ]
        }
      ]
    },
    {
      "cell_type": "code",
      "source": [
        "  filtered_rank_df = df[~df[\"rank\"].isnull()] #need to assign a new df\n",
        "  print(filtered_rank_df.info())"
      ],
      "metadata": {
        "colab": {
          "base_uri": "https://localhost:8080/"
        },
        "id": "_9Kbq24jU9LL",
        "outputId": "335cbe98-788d-43e2-c2ee-94fe9e1efae6"
      },
      "execution_count": null,
      "outputs": [
        {
          "output_type": "stream",
          "name": "stdout",
          "text": [
            "<class 'pandas.core.frame.DataFrame'>\n",
            "Int64Index: 113376 entries, 77 to 368891\n",
            "Data columns (total 7 columns):\n",
            " #   Column      Non-Null Count   Dtype  \n",
            "---  ------      --------------   -----  \n",
            " 0   Unnamed: 0  113376 non-null  int64  \n",
            " 1   first_name  113376 non-null  object \n",
            " 2   last_name   113376 non-null  object \n",
            " 3   name        113376 non-null  object \n",
            " 4   year        113376 non-null  int64  \n",
            " 5   rank        113376 non-null  float64\n",
            " 6   genre       113376 non-null  object \n",
            "dtypes: float64(1), int64(2), object(4)\n",
            "memory usage: 6.9+ MB\n",
            "None\n"
          ]
        }
      ]
    },
    {
      "cell_type": "code",
      "source": [
        "#remove duplicate films (which have separate rows per genre)\n",
        "#To remove rows that have duplicate entries in multiple columns\n",
        "unique_movies_df = df.drop_duplicates(subset = ['name', 'last_name','first_name','year'])\n",
        "unique_movies_df.drop('genre', axis=1, inplace=True)\n",
        "print(unique_movies_df.head(100))\n",
        "print(unique_movies_df.info())"
      ],
      "metadata": {
        "colab": {
          "base_uri": "https://localhost:8080/"
        },
        "id": "GyYe512zy5PB",
        "outputId": "922cca2e-38f6-45f6-954e-02aee4bcedaa"
      },
      "execution_count": null,
      "outputs": [
        {
          "output_type": "stream",
          "name": "stdout",
          "text": [
            "     Unnamed: 0          first_name    last_name                      name  \\\n",
            "0             0                 Les  12 Poissons      Rondo pour trompette   \n",
            "1             1             Lejaren     a'Hiller  Sleep of Cyma Roget, The   \n",
            "2             2            Khairiya    A-Mansour          Churches in Iraq   \n",
            "3             3             Ricardo     A. Solla                  Foto, La   \n",
            "5             5  Kodanda Rami Reddy           A.        Abhilasha (1983/I)   \n",
            "..          ...                 ...          ...                       ...   \n",
            "171         171                Devi    Abashidze   Kvela kometa rodi qreba   \n",
            "172         172                Devi    Abashidze           Stalinis shvili   \n",
            "173         173                Dodo    Abashidze  Ambavi Suramis tsikhitsa   \n",
            "174         174                Dodo    Abashidze             Ashugi Qaribi   \n",
            "175         175               Leila    Abashidze  Tbilisi, Parizi, Tbilisi   \n",
            "\n",
            "     year  rank  \n",
            "0    2002   NaN  \n",
            "1    1920   NaN  \n",
            "2    1988   NaN  \n",
            "3    2001   NaN  \n",
            "5    1983   NaN  \n",
            "..    ...   ...  \n",
            "171  1982   NaN  \n",
            "172  1990   NaN  \n",
            "173  1984   7.5  \n",
            "174  1988   7.8  \n",
            "175  1980   NaN  \n",
            "\n",
            "[100 rows x 6 columns]\n",
            "<class 'pandas.core.frame.DataFrame'>\n",
            "Int64Index: 231609 entries, 0 to 368892\n",
            "Data columns (total 6 columns):\n",
            " #   Column      Non-Null Count   Dtype  \n",
            "---  ------      --------------   -----  \n",
            " 0   Unnamed: 0  231609 non-null  int64  \n",
            " 1   first_name  231609 non-null  object \n",
            " 2   last_name   231609 non-null  object \n",
            " 3   name        231609 non-null  object \n",
            " 4   year        231609 non-null  int64  \n",
            " 5   rank        63840 non-null   float64\n",
            "dtypes: float64(1), int64(2), object(3)\n",
            "memory usage: 12.4+ MB\n",
            "None\n"
          ]
        },
        {
          "output_type": "stream",
          "name": "stderr",
          "text": [
            "/usr/local/lib/python3.7/dist-packages/pandas/core/frame.py:4913: SettingWithCopyWarning: \n",
            "A value is trying to be set on a copy of a slice from a DataFrame\n",
            "\n",
            "See the caveats in the documentation: https://pandas.pydata.org/pandas-docs/stable/user_guide/indexing.html#returning-a-view-versus-a-copy\n",
            "  errors=errors,\n"
          ]
        }
      ]
    },
    {
      "cell_type": "markdown",
      "metadata": {
        "id": "00Vb1k3FMdei"
      },
      "source": [
        "### How many movies of each genre are there?\n",
        "---"
      ]
    },
    {
      "cell_type": "code",
      "metadata": {
        "id": "V6MsN8OcQn0u",
        "colab": {
          "base_uri": "https://localhost:8080/"
        },
        "outputId": "72273e6d-3dec-4ada-f721-a473dd9012a9"
      },
      "source": [
        "def count_movies_by_genre(mydf):\n",
        "  # #find a list of uniqe genres\n",
        "  genres_list= mydf['genre'].unique()\n",
        "  print(genres_list)\n",
        "  print(\"\\n\\nGenre   #Movies\")\n",
        "  print(\"=======   =======\")\n",
        "\n",
        "  for mygenre in genres_list:\n",
        "    genrecount = df[df['genre']==mygenre].count()\n",
        "    print(mygenre,\": \",genrecount[0])\n",
        "    # print(type(genrecount))\n",
        "\n",
        "count_movies_by_genre(df)\n",
        "\n",
        "#Phoebe's\n",
        "def count_genre_movies(df):\n",
        "  genre_movies_df = df.groupby(['genre']).count()\n",
        "  print(genre_movies_df)\n",
        "count_genre_movies(df)"
      ],
      "execution_count": null,
      "outputs": [
        {
          "output_type": "stream",
          "name": "stdout",
          "text": [
            "['Short' 'Drama' 'Documentary' 'Thriller' 'Romance' 'Action' 'Comedy'\n",
            " 'Family' 'Crime' 'Adventure' 'Animation' 'Horror' 'Sci-Fi' 'War'\n",
            " 'Musical' 'Western' 'Mystery' 'Fantasy' 'Music' 'Film-Noir']\n",
            "\n",
            "\n",
            "Genre   #Movies\n",
            "=======   =======\n",
            "Short :  72894\n",
            "Drama :  72635\n",
            "Documentary :  35698\n",
            "Thriller :  10681\n",
            "Romance :  13562\n",
            "Action :  12890\n",
            "Comedy :  54667\n",
            "Family :  11074\n",
            "Crime :  12610\n",
            "Adventure :  8598\n",
            "Animation :  17038\n",
            "Horror :  7423\n",
            "Sci-Fi :  4957\n",
            "War :  4398\n",
            "Musical :  6843\n",
            "Western :  8231\n",
            "Mystery :  4951\n",
            "Fantasy :  4871\n",
            "Music :  4444\n",
            "Film-Noir :  429\n",
            "             Unnamed: 0  first_name  last_name   name   year   rank\n",
            "genre                                                              \n",
            "Action            12890       12890      12890  12890  12890   5873\n",
            "Adventure          8598        8598       8598   8598   8598   3932\n",
            "Animation         17038       17038      17038  17038  17038   4727\n",
            "Comedy            54667       54667      54667  54667  54667  20633\n",
            "Crime             12610       12610      12610  12610  12610   4488\n",
            "Documentary       35698       35698      35698  35698  35698   4296\n",
            "Drama             72635       72635      72635  72635  72635  24696\n",
            "Family            11074       11074      11074  11074  11074   4845\n",
            "Fantasy            4871        4871       4871   4871   4871   2123\n",
            "Film-Noir           429         429        429    429    429    415\n",
            "Horror             7423        7423       7423   7423   7423   4227\n",
            "Music              4444        4444       4444   4444   4444    908\n",
            "Musical            6843        6843       6843   6843   6843   2491\n",
            "Mystery            4951        4951       4951   4951   4951   2012\n",
            "Romance           13562       13562      13562  13562  13562   5476\n",
            "Sci-Fi             4957        4957       4957   4957   4957   2699\n",
            "Short             72894       72894      72894  72894  72894   9894\n",
            "Thriller          10681       10681      10681  10681  10681   5440\n",
            "War                4398        4398       4398   4398   4398   1837\n",
            "Western            8231        8231       8231   8231   8231   2364\n"
          ]
        }
      ]
    },
    {
      "cell_type": "markdown",
      "metadata": {
        "id": "itYpwLPpQnZM"
      },
      "source": [
        "### Which director has the highest ranked movies?\n",
        "---"
      ]
    },
    {
      "cell_type": "code",
      "metadata": {
        "id": "dkW23Q27Qu0A",
        "colab": {
          "base_uri": "https://localhost:8080/"
        },
        "outputId": "a5becfec-85fb-4707-d571-38ae55b601e4"
      },
      "source": [
        "# print (unique_movies_df.info()) #still has nulls for rank but has duplicate rows removed based on genre\n",
        "sorted_by_rank_df = unique_movies_df.sort_values(by = [\"rank\"], ascending = False)\n",
        "max_rank_only_df = sorted_by_rank_df[sorted_by_rank_df['rank']==9.9] # reduce to a smaller dataframe with only the values of rank = 9.9\n",
        "#how to answer which director has the highest ranked movies? group by director name? Yes and also use count\n",
        "best_directors_df = max_rank_only_df.groupby(['last_name']).count()  #use count to see which director has most movies with this ranking\n",
        "sorted_best_directors_df = best_directors_df.sort_values(by = [\"name\"], ascending = False)\n",
        "print(sorted_best_directors_df)\n",
        "print(\"\\n\\nDirector with most movies of rank = 9.9 is \", sorted_best_directors_df.index[0], \"with \",  sorted_best_directors_df.iloc[0][0], \" movies\")\n"
      ],
      "execution_count": null,
      "outputs": [
        {
          "output_type": "stream",
          "name": "stdout",
          "text": [
            "              Unnamed: 0  first_name  name  year  rank\n",
            "last_name                                             \n",
            "Roussopoulos           3           3     3     3     3\n",
            "Annensky               1           1     1     1     1\n",
            "Hurtz                  1           1     1     1     1\n",
            "Zebriünas              1           1     1     1     1\n",
            "Wieder                 1           1     1     1     1\n",
            "Trnka                  1           1     1     1     1\n",
            "Tretbar                1           1     1     1     1\n",
            "Tarrier                1           1     1     1     1\n",
            "Salamon                1           1     1     1     1\n",
            "Resnicoff              1           1     1     1     1\n",
            "Pudovkin               1           1     1     1     1\n",
            "Nicolaescu             1           1     1     1     1\n",
            "Ng                     1           1     1     1     1\n",
            "Jarmusch               1           1     1     1     1\n",
            "Jankovics              1           1     1     1     1\n",
            "Holmes                 1           1     1     1     1\n",
            "Barkan                 1           1     1     1     1\n",
            "Hanzekovic             1           1     1     1     1\n",
            "Grybcheva              1           1     1     1     1\n",
            "Gance                  1           1     1     1     1\n",
            "Eisenstein             1           1     1     1     1\n",
            "Demme                  1           1     1     1     1\n",
            "Daneliya               1           1     1     1     1\n",
            "Crandall               1           1     1     1     1\n",
            "Christensen            1           1     1     1     1\n",
            "Cassavetes             1           1     1     1     1\n",
            "Cappelletti            1           1     1     1     1\n",
            "Bracho                 1           1     1     1     1\n",
            "Bose                   1           1     1     1     1\n",
            "Bernal                 1           1     1     1     1\n",
            "Zehentner              1           1     1     1     1\n",
            "\n",
            "\n",
            "Director with most movies of rank = 9.9 is  Roussopoulos with  3  movies\n"
          ]
        }
      ]
    },
    {
      "cell_type": "markdown",
      "metadata": {
        "id": "naiCl5kCQvS-"
      },
      "source": [
        "### How many movies have ranks of over 9?\n",
        "---\n"
      ]
    },
    {
      "cell_type": "code",
      "metadata": {
        "id": "Rb7v7WXEQ3Xl",
        "colab": {
          "base_uri": "https://localhost:8080/"
        },
        "outputId": "3c82b1c4-bf35-4319-e193-a87ae8f456ac"
      },
      "source": [
        "\n",
        "# create a new filtered df based on rank > 9.0 used the filtered movie list otherwise have duplicates\n",
        "max_ranks_df = unique_movies_df.loc[(unique_movies_df['rank'] > 9.0)] \n",
        "max_ranks_sorted_df = max_ranks_df.sort_values(by = [\"rank\"], ascending = False)\n",
        "# print(max_ranks_sorted_df.head())\n",
        "# print(max_ranks_sorted_df.tail())\n",
        "# print(max_ranks_sorted_df.info())\n",
        "print(\"# movies with ranks > 9.0 = \", len(max_ranks_sorted_df))\n"
      ],
      "execution_count": null,
      "outputs": [
        {
          "output_type": "stream",
          "name": "stdout",
          "text": [
            "# movies with ranks > 9.0 =  913\n"
          ]
        }
      ]
    },
    {
      "cell_type": "markdown",
      "metadata": {
        "id": "qSM1LAZGQ32W"
      },
      "source": [
        "### Plot a bar chart of mean rank and genre\n",
        "---"
      ]
    },
    {
      "cell_type": "code",
      "metadata": {
        "id": "oDk-3bkpRUfs",
        "colab": {
          "base_uri": "https://localhost:8080/",
          "height": 279
        },
        "outputId": "d5250dfd-d3b5-417b-db2a-b46b02e0c1b5"
      },
      "source": [
        "import numpy as np\n",
        "import matplotlib.pyplot as plt\n",
        "\n",
        "#first get df with genre and rank - use the one with the duplicate rows per genre and the null rows for rank removed\n",
        "# print(filtered_rank_df.head())\n",
        "# print(filtered_rank_df.info())\n",
        "#want to group by genre and calcuate means\n",
        "mean_rank_df = filtered_rank_df.groupby(filtered_rank_df['genre']).mean()\n",
        "sorted_ranks_df = mean_rank_df.sort_values(by = [\"rank\"], ascending = False)\n",
        "\n",
        "#create series for each\n",
        "genres = np.array(mean_rank_df.index.values)\n",
        "# print(genres)\n",
        "mean_ranks = np.array(sorted_ranks_df['rank'])\n",
        "# print(mean_ranks)\n",
        "                  \n",
        "labels = genres\n",
        "plt.barh(labels,mean_ranks)\n",
        "plt.xlabel(\"mean rank\")\n",
        "plt.show()          \n",
        "\n",
        "\n"
      ],
      "execution_count": 111,
      "outputs": [
        {
          "output_type": "display_data",
          "data": {
            "image/png": "[encoded data removed]",
            "text/plain": [
              "<Figure size 432x288 with 1 Axes>"
            ]
          },
          "metadata": {
            "needs_background": "light"
          }
        }
      ]
    },
    {
      "cell_type": "markdown",
      "metadata": {
        "id": "O6srkKPnRbh_"
      },
      "source": [
        "### Plot a pie chart of how many movies of each genre there are \n",
        "---\n"
      ]
    },
    {
      "cell_type": "code",
      "metadata": {
        "id": "suiaWhkF6Odd"
      },
      "source": [
        ""
      ],
      "execution_count": null,
      "outputs": []
    },
    {
      "cell_type": "markdown",
      "metadata": {
        "id": "Cm9HjL_K6bvo"
      },
      "source": [
        "### Plot a graph showing the mean Rank for each year "
      ]
    },
    {
      "cell_type": "code",
      "metadata": {
        "id": "mgwSHrCt6luB"
      },
      "source": [
        ""
      ],
      "execution_count": null,
      "outputs": []
    },
    {
      "cell_type": "markdown",
      "metadata": {
        "id": "FvzMjQ5X6oeU"
      },
      "source": [
        "### What else can you find out from this dataset?\n",
        "---\n",
        "Make a plan of 3 further things you can do to interrogate and analyse this dataset"
      ]
    },
    {
      "cell_type": "markdown",
      "metadata": {
        "id": "a46YOmLd64zb"
      },
      "source": [
        "Type your answer here  \n",
        "\n",
        "1.  \n",
        "2.  \n",
        "3.   "
      ]
    },
    {
      "cell_type": "markdown",
      "metadata": {
        "id": "es_Uyz_f6-1F"
      },
      "source": [
        "### Complete the tasks you have set out in the exercise above. \n",
        "---\n"
      ]
    },
    {
      "cell_type": "code",
      "metadata": {
        "id": "GY-HzjZb7L5q"
      },
      "source": [
        ""
      ],
      "execution_count": null,
      "outputs": []
    },
    {
      "cell_type": "markdown",
      "metadata": {
        "id": "pQV2NO8umBSk"
      },
      "source": [
        "# Reflection\n",
        "----\n",
        "\n",
        "## What skills have you demonstrated in completing this notebook?"
      ]
    },
    {
      "cell_type": "markdown",
      "metadata": {
        "id": "NUVvt2r0mCKq"
      },
      "source": [
        "Your answer:"
      ]
    },
    {
      "cell_type": "markdown",
      "metadata": {
        "id": "SOrbWOuFmObq"
      },
      "source": [
        "## What caused you the most difficulty?"
      ]
    },
    {
      "cell_type": "markdown",
      "metadata": {
        "id": "G_eGng1GmO78"
      },
      "source": [
        "Your answer:"
      ]
    }
  ]
}