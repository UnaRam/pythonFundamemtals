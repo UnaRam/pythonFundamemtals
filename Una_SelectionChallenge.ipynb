{
  "nbformat": 4,
  "nbformat_minor": 0,
  "metadata": {
    "colab": {
      "name": "Una SelectionChallenge.ipynb",
      "provenance": [],
      "collapsed_sections": [],
      "include_colab_link": true
    },
    "kernelspec": {
      "name": "python3",
      "display_name": "Python 3"
    }
  },
  "cells": [
    {
      "cell_type": "markdown",
      "metadata": {
        "id": "view-in-github",
        "colab_type": "text"
      },
      "source": [
        "<a href=\"https://colab.research.google.com/github/UnaRam/pythonFundamemtals/blob/main/Una_SelectionChallenge.ipynb\" target=\"_parent\"><img src=\"https://colab.research.google.com/assets/colab-badge.svg\" alt=\"Open In Colab\"/></a>"
      ]
    },
    {
      "cell_type": "markdown",
      "metadata": {
        "id": "-QxAKPD8DZfj"
      },
      "source": [
        "# Three selection challenges\n",
        "\n",
        "---\n"
      ]
    },
    {
      "cell_type": "markdown",
      "metadata": {
        "id": "2KYUALILDcM9"
      },
      "source": [
        "### Challenge 1 - password format  \n",
        "\n",
        "Write a function called **check_password_valid()** which will check the validity of a **password** input by a user.\n",
        "\n",
        "Rules for a valid password are:  \n",
        "\n",
        "*  At least 1 letter between [a-z] and 1 letter between [A-Z].\n",
        "*  At least 1 number between [0-9].\n",
        "*  At least 1 character from [$#@].\n",
        "*  Minimum length 6 characters.\n",
        "*  Maximum length 16 characters.  \n",
        "\n",
        "Let the user know if the `password` they have typed is valid and, if not, where was the first error.\n",
        "\n",
        "*Hint:  to test if a set of characters is present in a password String, you can use re.search('[character set]', `password`)*  \n",
        "\n",
        "Example:   \n",
        "*if re.search('[a-z]',`password`):*    \n",
        "this will be True if there is at least 1 character a-z in the password.\n",
        "\n",
        "**re** is a pre-written Python function for pattern searching in Strings.  It has been imported for you in the code cell below.  "
      ]
    },
    {
      "cell_type": "code",
      "metadata": {
        "id": "8wBK9IA4BO2e",
        "colab": {
          "base_uri": "https://localhost:8080/"
        },
        "outputId": "aa7def03-24fb-414a-bb70-178f73f66377"
      },
      "source": [
        "import re\n",
        "\n",
        "# add your check_PasswordValid() function and call below here\n",
        "def check_password_valid() :\n",
        "  password = str(input(\"pls enter password:  \"))\n",
        "  if not re.search('[a-z]',password):\n",
        "    print(\"must have at least one lower case\")\n",
        "  elif not re.search('[A-Z]', password):\n",
        "    print(\"must have at least one upper case\")\n",
        "  elif not re.search('[0-9]',password):\n",
        "    print(\"must have at least one number\")\n",
        "  elif not re.search('[$#@]',password):\n",
        "    print(\"must have at least one of $ ~ @\")\n",
        "  elif not 6<=len(password)<=16:\n",
        "    print(\"must have 6 to 16 chars\")\n",
        "\n",
        "  else: # if all these \"not\" statements are true then it must pass all\n",
        "    print(\"password is valid\")\n",
        "\n",
        "\n",
        "\n",
        "\n",
        "\n",
        "\n",
        "check_password_valid() \n",
        "\n"
      ],
      "execution_count": 14,
      "outputs": [
        {
          "output_type": "stream",
          "name": "stdout",
          "text": [
            "pls enter password:  ABs4$nnnnnnnnnnnnnnnnnn\n",
            "must have 6 to 16 chars\n"
          ]
        }
      ]
    },
    {
      "cell_type": "markdown",
      "metadata": {
        "id": "f0R4GYTEFQS-"
      },
      "source": [
        "---\n",
        "### Challenge 2 - triangle shape  \n",
        "\n",
        "Write a function called **evaluate_triangle_shape()** which will check if a triangle is equilateral, isosceles or scalene, based on the three side lengths entered by a user (**x**, **y** and **z**.\n",
        "\n",
        "An equilateral triangle is a triangle in which all three sides are equal.\n",
        "A scalene triangle is a triangle that has three unequal sides.\n",
        "An isosceles triangle is a triangle with (at least) two equal sides.\n",
        "\n",
        "For example:  \n",
        "A triange with side lengths                                 \n",
        "x: 6                                                                    \n",
        "y: 8                                                                    \n",
        "z: 12                                                                   \n",
        "is a *Scalene triangle*\n",
        "\n",
        "A triangle with side lengths\n",
        "x:5  \n",
        "y:3   \n",
        "z:5  \n",
        "is an *Isosceles triangle*"
      ]
    },
    {
      "cell_type": "code",
      "metadata": {
        "id": "oBgl4ro1DVL0",
        "colab": {
          "base_uri": "https://localhost:8080/"
        },
        "outputId": "574753d9-9f35-4217-b2b5-697f98a6d9c1"
      },
      "source": [
        "def evaluate_triangle_shape() :\n",
        "  x = int(input(\"pls input x:  \"))\n",
        "  y = int(input(\"pls input y:  \"))\n",
        "  z = int(input(\"pls input z:  \"))\n",
        "  print(x,y,z)\n",
        "  #only one way to have equilateral\n",
        "  if x==y: #check if first two are equal\n",
        "    if y==z:\n",
        "      print(\"equilateral: \",x,y,z)\n",
        "    else: #just two\n",
        "      print(\"isosceles: \",x,y,z)\n",
        "  elif y==z:# just two so isosceles\n",
        "    print(\"isosceles: \",x,y,z)\n",
        "  elif x==z: # just two so isosceles\n",
        "    print(\"isosceles: \",x,y,z)\n",
        "  else:\n",
        "    print(\"scalene: \",          x,y,z)\n",
        "    \n",
        "\n",
        "evaluate_triangle_shape() "
      ],
      "execution_count": 26,
      "outputs": [
        {
          "output_type": "stream",
          "name": "stdout",
          "text": [
            "pls input x:  4\n",
            "pls input y:  4\n",
            "pls input z:  4\n",
            "4 4 4\n",
            "equilateral:  4 4 4\n"
          ]
        }
      ]
    },
    {
      "cell_type": "markdown",
      "metadata": {
        "id": "hr2EotkqG33l"
      },
      "source": [
        "---\n",
        "### Challenge 3 - which season\n",
        "\n",
        "Write a function called **determine_season()** which will ask the user to enter two integers representing a **month** and **day** and prints the season for that month and day.\n",
        "\n",
        "Note:  for this exercise the season dates are:\n",
        "*  Winter December 21 to March 20    \n",
        "*  Spring March 21 to June 20  \n",
        "*  Summer June 21 to September 20  \n",
        "*  Autumn September 21 to December 20\n",
        "\n",
        "Test input:  \n",
        "Input the month (e.g. January, February etc.): 7                     \n",
        "Input the day: 31                                                       \n",
        "\n",
        "Expected output:  \n",
        "Season is summer \n",
        "\n",
        "*Note: this will require multiple and or or operators and you should use brackets to help Python know which operations to do first*  \n",
        "\n",
        "*For an extra challenge you can check that the day is valid for the month*"
      ]
    },
    {
      "cell_type": "code",
      "metadata": {
        "id": "cvbfz8nzG4IL",
        "colab": {
          "base_uri": "https://localhost:8080/"
        },
        "outputId": "b9d4ae6f-2cad-4f5d-d64e-d7d417648007"
      },
      "source": [
        "def determine_season():\n",
        "  month = int(input(\"month:  \"))\n",
        "  day = int(input(\"day:  \"))\n",
        "  print (day,month)\n",
        "\n",
        "  if ((1<=month<=12) and (1<=day<=31)): # coarse check - doesn't check per month e.g. 28 days for FEB1\n",
        "\n",
        "      if (((month == 12) and (day >=21)) or(1<=month<=2) or((month==3) and (day<=20))):\n",
        "        print(\"Season is Winter\")\n",
        "      elif (((month == 3) and (day >=21)) or(4<=month<=5) or((month==6) and (day<=20))):\n",
        "        print(\"Season is Spring\")\n",
        "      elif (((month == 6) and (day >=21)) or(7<=month<=8) or((month==9) and (day<=20))):\n",
        "        print(\"Season is Summer\")\n",
        "      elif (((month == 9) and (day >=21)) or(10<=month<=11) or((month==12) and (day<=20))):\n",
        "        print(\"Season is Autumn\")\n",
        "      else:\n",
        "        print(\"invalid input\")\n",
        "  else:\n",
        "        print(\"invalid input\")\n",
        "\n",
        "determine_season()"
      ],
      "execution_count": 61,
      "outputs": [
        {
          "output_type": "stream",
          "name": "stdout",
          "text": [
            "month:  1\n",
            "day:  88\n",
            "88 1\n",
            "invalid input\n"
          ]
        }
      ]
    }
  ]
}