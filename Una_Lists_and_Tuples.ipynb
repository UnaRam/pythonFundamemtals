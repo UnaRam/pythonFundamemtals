{
  "nbformat": 4,
  "nbformat_minor": 0,
  "metadata": {
    "colab": {
      "name": "Una Lists and Tuples.ipynb",
      "provenance": [],
      "collapsed_sections": [],
      "include_colab_link": true
    },
    "kernelspec": {
      "name": "python3",
      "display_name": "Python 3"
    },
    "language_info": {
      "name": "python"
    }
  },
  "cells": [
    {
      "cell_type": "markdown",
      "metadata": {
        "id": "view-in-github",
        "colab_type": "text"
      },
      "source": [
        "<a href=\"https://colab.research.google.com/github/UnaRam/pythonFundamemtals/blob/main/Una_Lists_and_Tuples.ipynb\" target=\"_parent\"><img src=\"https://colab.research.google.com/assets/colab-badge.svg\" alt=\"Open In Colab\"/></a>"
      ]
    },
    {
      "cell_type": "markdown",
      "metadata": {
        "id": "Z-M-RCWATK71"
      },
      "source": [
        "# Lists and tuples\n",
        "\n",
        "Often we need to store a number of single items of data together so that they can be processed together. This might be because all the data refers to one person (e.g. name, age, gender, etc) OR it might be because we have a set of data (e.g. all the items that should be displayed in a drop down list, such as all the years from this year back to 100 years ago so that someone can select their year of birth)\n",
        "\n",
        "Python has a range of data structures available including:\n",
        "*   lists  \n",
        "*   tuples  \n",
        "*   dictionaries  \n",
        "*   sets\n",
        "\n",
        "This worksheet looks at lists and tuples.\n",
        "\n",
        "## List\n",
        "A list is a set of related, individual data objects, that are indexed and can be processed as a whole, as subsets or as individual items.  Lists are stored, essentially, as contiguous items in memory so that access can be as quick as possible.  However, they are mutable (they can be changed after they are created and stored) and so those mechanisms need to include extra functionality to deal with changing list sizes.\n",
        "\n",
        "## Tuple\n",
        "Essentially the same as a list but it is immutable.  Once it has been created it can't be changed.  It is stored in memory as contiguous items, with the size required being fixed right from the start.  This makes it faster to access.\n",
        "\n",
        "The code below will create two lists and a tuple.\n",
        "*   the first list contains 1000 random numbers between 1 and 100\n",
        "*   the second list is of random length (up to 5000) and each item is one of the 9 characteristics that are protected under the Equality Act in the UK.\n",
        "*   the tuple contains the 9 protected characteristics\n",
        "\n",
        "Before you start the exercises, run the code below.  It will generate the lists and tuple so that you can use them in the exercises.  If you need to recreate the lists again (because you have changed them and need to work on the originals, just run this cell again).\n",
        "\n",
        "***Note:***  *a list variable contains a reference to the start of the list in memory, rather than storing the list itself.  This means that if you assign the list to another variable (to make a copy), it will only copy across the reference.  If you change the copy, you change the original list.*\n",
        "\n",
        "*If you need to make a copy of the list you will need to use a loop to create a new list and copy all items across.*"
      ]
    },
    {
      "cell_type": "code",
      "metadata": {
        "id": "BDRckXeQXFMT"
      },
      "source": [
        "from random import randint, choice\n",
        "\n",
        "def get_num_list():\n",
        "  num_list = [randint(1,100) for n in range(1000)]\n",
        "  return num_list\n",
        "\n",
        "def get_protected_characteristics():\n",
        "  characteristics_tuple = ('age','disability','gender reassignment','marriage and civil partnership','pregnancy and maternity','race','religion or belief','sex','sexual orientation')\n",
        "  return characteristics_tuple\n",
        "\n",
        "def get_protected_characteristic_list(protected_characteristics):\n",
        "  char_list = [choice(protected_characteristics) for ch in range(randint(1,5000))]\n",
        "  return char_list\n",
        "\n",
        "nums = get_num_list()\n",
        "protected_characteristics = get_protected_characteristics()\n",
        "characteristics = get_protected_characteristic_list(protected_characteristics)"
      ],
      "execution_count": 1,
      "outputs": []
    },
    {
      "cell_type": "markdown",
      "metadata": {
        "id": "xXT38-4ZV45n"
      },
      "source": [
        "## The exercises below will use the lists:  \n",
        "*   **nums** (a list of between 1 and 1000 random numbers, each number is between 0 and 1000)\n",
        "*   **characteristics** (a list of 5000 random protected_characteristics)\n",
        "\n",
        "and the tuple:\n",
        "*  **protected_characteristics** (a set of the 9 protected characteristics identified in the Equality Act)\n",
        "\n",
        "## You can run the cell above any number of times to generate new lists."
      ]
    },
    {
      "cell_type": "markdown",
      "metadata": {
        "id": "Ft0dXl7fUuaK"
      },
      "source": [
        "---\n",
        "### Exercise 1 - list head, tail and shape\n",
        "\n",
        "Write a function, **describe_list()** which will:\n",
        "*  print the length of the list `nums`\n",
        "*  print the first 10 items in `nums`  \n",
        "*  print the last 5 items in `nums`"
      ]
    },
    {
      "cell_type": "code",
      "metadata": {
        "id": "jUcZD7mmTJdA",
        "colab": {
          "base_uri": "https://localhost:8080/"
        },
        "outputId": "e426d6d5-89aa-4596-cdfb-d720c8be4cdf"
      },
      "source": [
        "def describe_list():\n",
        "  print(len(nums))\n",
        "  print(nums[:10])\n",
        "  leng_nums= len(nums)\n",
        "  print(nums[(leng_nums-5):])\n",
        "  print(nums[-1])\n",
        "\n",
        "describe_list()"
      ],
      "execution_count": 2,
      "outputs": [
        {
          "output_type": "stream",
          "name": "stdout",
          "text": [
            "1000\n",
            "[47, 19, 91, 32, 10, 6, 53, 79, 57, 66]\n",
            "[62, 91, 76, 69, 65]\n",
            "65\n"
          ]
        }
      ]
    },
    {
      "cell_type": "markdown",
      "metadata": {
        "id": "yNWg08k6bXv0"
      },
      "source": [
        "---\n",
        "### Exercise 2 - show tuple items\n",
        "\n",
        "Write a function which will:\n",
        "*   use a loop to print the list of protected characteristics from the `protected_characteristics` tuple.\n"
      ]
    },
    {
      "cell_type": "code",
      "metadata": {
        "id": "P2HnCG9pb1BS",
        "colab": {
          "base_uri": "https://localhost:8080/"
        },
        "outputId": "212a756f-f400-4465-cba8-27da5ab172ad"
      },
      "source": [
        "def print_chars():\n",
        "  \n",
        "  len_prot_char = len(protected_characteristics)\n",
        "  print(len_prot_char)\n",
        "  for i in range(0,len_prot_char):\n",
        "    print(i,protected_characteristics[i])\n",
        "\n",
        "print_chars()"
      ],
      "execution_count": null,
      "outputs": [
        {
          "output_type": "stream",
          "name": "stdout",
          "text": [
            "9\n",
            "0 age\n",
            "1 disability\n",
            "2 gender reassignment\n",
            "3 marriage and civil partnership\n",
            "4 pregnancy and maternity\n",
            "5 race\n",
            "6 religion or belief\n",
            "7 sex\n",
            "8 sexual orientation\n"
          ]
        }
      ]
    },
    {
      "cell_type": "markdown",
      "metadata": {
        "id": "RTSuQZs4b1JU"
      },
      "source": [
        "---\n",
        "### Exercise 3 - list a random subset\n",
        "\n",
        "Write a function which will:\n",
        "*  calculate the position of the middle item in the `characteristics` list   \n",
        "(*Hint: use len() to help with this*)\n",
        "*  calculate the position of the item that is 5 places before the middle item\n",
        "*  calculate the position of the item that is 5 places after the middle item\n",
        "*  print the part of the list that includes the items from 5 places before to 5 places after.  \n",
        "\n",
        "Expected output:  \n",
        "Your list will include 11 items."
      ]
    },
    {
      "cell_type": "code",
      "metadata": {
        "id": "OwhFnH2kdC11",
        "colab": {
          "base_uri": "https://localhost:8080/"
        },
        "outputId": "d5384103-debe-451d-94ca-ff3ea67fb62e"
      },
      "source": [
        "def list_rand_subset():\n",
        "  mid = len(characteristics) //2\n",
        "  print(mid)\n",
        "  pre_mid = mid -5\n",
        "  post_mid = mid +  5\n",
        "  print(pre_mid,post_mid+1)\n",
        "  print(characteristics[pre_mid:post_mid])\n",
        "\n",
        "list_rand_subset()"
      ],
      "execution_count": 3,
      "outputs": [
        {
          "output_type": "stream",
          "name": "stdout",
          "text": [
            "1369\n",
            "1364 1375\n",
            "['gender reassignment', 'disability', 'religion or belief', 'sexual orientation', 'gender reassignment', 'pregnancy and maternity', 'pregnancy and maternity', 'pregnancy and maternity', 'marriage and civil partnership', 'disability']\n"
          ]
        }
      ]
    },
    {
      "cell_type": "markdown",
      "metadata": {
        "id": "KS0x3oFNePI9"
      },
      "source": [
        "---\n",
        "### Exercise 4 - create a copy\n",
        "\n",
        "Write a function which will: use a for loop to create a copy of the `nums` list:\n",
        "\n",
        "*   create a new, empty, list called **new_nums**  (*Hint: an empty list is [ ]*)\n",
        "*   use a for loop which uses the following syntax:  `for num in nums:`\n",
        "*   each time round the loop append `num` to `new_nums`  ( *`new_nums.append(num)`*)\n",
        "*   print the first 10 items of `new_nums`\n",
        "*   print the first 10 items of `nums`\n",
        "*   print the length of both lists"
      ]
    },
    {
      "cell_type": "code",
      "metadata": {
        "id": "mpK1Ip3we-uC",
        "colab": {
          "base_uri": "https://localhost:8080/"
        },
        "outputId": "0ace1629-0726-44d3-8a31-cef057f2780c"
      },
      "source": [
        "def create_copy():\n",
        "    new_nums = []\n",
        "    for num in nums:\n",
        "      new_nums.append(num)\n",
        "\n",
        "    print(len(new_nums))\n",
        "    print(new_nums[:10])\n",
        "    print(len(nums))\n",
        "    print(nums[:10])\n",
        "    \n",
        "\n",
        "\n",
        "create_copy()"
      ],
      "execution_count": 4,
      "outputs": [
        {
          "output_type": "stream",
          "name": "stdout",
          "text": [
            "1000\n",
            "[47, 19, 91, 32, 10, 6, 53, 79, 57, 66]\n",
            "1000\n",
            "[47, 19, 91, 32, 10, 6, 53, 79, 57, 66]\n"
          ]
        }
      ]
    },
    {
      "cell_type": "markdown",
      "metadata": {
        "id": "deUIFWjRe-3G"
      },
      "source": [
        "\n",
        "\n",
        "```\n",
        "# This is formatted as code\n",
        "```\n",
        "\n",
        "---\n",
        "### Exercise 5 - count the occurrence of age in characteristics\n",
        "\n",
        "Write a function which will use the list method:\n",
        "\n",
        "`list_name.count(item)`\n",
        "\n",
        "to count the number of occurrences of 'age' in the `characteristics` list.  Print the result."
      ]
    },
    {
      "cell_type": "code",
      "metadata": {
        "id": "b9TrHQ9hfoIU",
        "colab": {
          "base_uri": "https://localhost:8080/"
        },
        "outputId": "0d51c0c8-b6fd-45c9-fc53-c929a7a9b159"
      },
      "source": [
        "def count_characteristics():\n",
        "  count_ages = characteristics.count(\"age\")\n",
        "  #count_ages = characteristics.count(protected_characteristics[0])\n",
        "  print(count_ages)\n",
        "\n",
        "\n",
        "count_characteristics()"
      ],
      "execution_count": 6,
      "outputs": [
        {
          "output_type": "stream",
          "name": "stdout",
          "text": [
            "284\n"
          ]
        }
      ]
    },
    {
      "cell_type": "markdown",
      "metadata": {
        "id": "zm2VI5RmfoSy"
      },
      "source": [
        "---\n",
        "### Exercise 6 - sort the nums list\n",
        "\n",
        "Write a function which will:\n",
        "*   call the function `get_num_list()` and store the result in a new list called **sort_nums**\n",
        "*   print the first, and last, 20 items in the `sort_nums` list\n",
        "*   use the `list_name.sort()` method to sort the `sort_nums` list into ascending order\n",
        "*   print the first, and last, 20 items again  \n",
        "*   use the `list_name.sort()` method again to sort the `sort_nums` list into descending order\n",
        "*   print the first, and last, 20 items again"
      ]
    },
    {
      "cell_type": "code",
      "metadata": {
        "id": "Fksgpj9JgWDs",
        "colab": {
          "base_uri": "https://localhost:8080/"
        },
        "outputId": "f9f2ebe0-429b-4c25-fe03-2d91fd9372a7"
      },
      "source": [
        "def sort_nums_list():\n",
        "  sort_nums=get_num_list()\n",
        "  print(sort_nums[0:20],sort_nums[-20:])\n",
        "  sort_nums.sort()\n",
        "  print(sort_nums[0:20],sort_nums[-20:])\n",
        "  sort_nums.sort(reverse=True)\n",
        "  print(sort_nums[0:20],sort_nums[-20:])\n",
        "sort_nums_list()"
      ],
      "execution_count": 7,
      "outputs": [
        {
          "output_type": "stream",
          "name": "stdout",
          "text": [
            "[48, 13, 91, 12, 35, 47, 48, 56, 24, 59, 93, 100, 5, 17, 59, 71, 34, 62, 38, 44] [45, 23, 32, 4, 84, 53, 99, 94, 2, 23, 68, 29, 24, 83, 89, 53, 68, 34, 89, 37]\n",
            "[1, 1, 1, 1, 1, 1, 1, 2, 2, 2, 2, 2, 2, 2, 2, 2, 3, 3, 3, 3] [99, 99, 99, 100, 100, 100, 100, 100, 100, 100, 100, 100, 100, 100, 100, 100, 100, 100, 100, 100]\n",
            "[100, 100, 100, 100, 100, 100, 100, 100, 100, 100, 100, 100, 100, 100, 100, 100, 100, 99, 99, 99] [3, 3, 3, 3, 2, 2, 2, 2, 2, 2, 2, 2, 2, 1, 1, 1, 1, 1, 1, 1]\n"
          ]
        }
      ]
    },
    {
      "cell_type": "markdown",
      "metadata": {
        "id": "_OF-Xuj1UrW0"
      },
      "source": [
        "---\n",
        "### Exercise 7 - get statistics (max(), min(), sum() )\n",
        "\n",
        "Write a function which will:\n",
        "*   print the maximum and minimum numbers in the `nums` list  \n",
        "*   print the sum of the `nums` list\n",
        "*   calculate and print the average of the `nums` list (using `len()` to help)"
      ]
    },
    {
      "cell_type": "code",
      "metadata": {
        "id": "9YmYMenZVGod",
        "colab": {
          "base_uri": "https://localhost:8080/"
        },
        "outputId": "9bfaa7ed-bf27-4781-b5e7-6b4bb2fd1d29"
      },
      "source": [
        "def get_stats_list():\n",
        "  nums.sort(reverse=True)\n",
        "  max = nums[0]\n",
        "  print(\"max = \",max)\n",
        "  min = nums[-1]\n",
        "  print(\"min = \", min)\n",
        "  len_nums = len(nums)\n",
        "\n",
        "# could have used sum(list)\n",
        "  total = 0\n",
        "  for num in nums:\n",
        "    total +=num\n",
        "\n",
        "  print(\"sum = \",total)\n",
        "  print(\"average = \", total/len_nums)\n",
        "\n",
        "get_stats_list()"
      ],
      "execution_count": 9,
      "outputs": [
        {
          "output_type": "stream",
          "name": "stdout",
          "text": [
            "max =  100\n",
            "min =  1\n",
            "sum =  51551\n",
            "average =  51.551\n"
          ]
        }
      ]
    },
    {
      "cell_type": "markdown",
      "metadata": {
        "id": "Mn4tHQ_KVbHa"
      },
      "source": [
        "---\n",
        "### Exercise 8 - percentage difference\n",
        "\n",
        "Write a function which will:\n",
        "*   generate a new list called **ex8_nums** using `get_num_list()`\n",
        "*   calculate and print the percentage difference between the first number in each list (as a percentage of the number in the nums list) (Hint:  find the difference between the two numbers, divide the difference by the number in `nums` and multiply by 100)\n",
        "*   calculate and print the percentage difference between the last numbers in each list in the same way\n",
        "*   calculate and print the percentage difference between the middle numbers in each list in the same way.\n",
        "*   calculate and print the percentage difference between the sums of each list in the same way"
      ]
    },
    {
      "cell_type": "code",
      "metadata": {
        "id": "nJCQjZIeZL0e",
        "colab": {
          "base_uri": "https://localhost:8080/"
        },
        "outputId": "20016c40-a944-4dd0-d7a5-e5e4c4926e91"
      },
      "source": [
        "def calc_pc_diff(): \n",
        "  ex8_nums = get_num_list()\n",
        "  list_len = len(ex8_nums)\n",
        "  print(list_len)\n",
        "  middle=list_len//2\n",
        "#  print(ex8_nums[middle],nums[middle])\n",
        "  diff_first = 100*(ex8_nums[0] - nums[0])/nums[0]\n",
        "  diff_last = 100*(ex8_nums[-1] - nums[-1])/nums[-1]\n",
        "  diff_middle = 100*(ex8_nums[middle] - nums[middle])/nums[middle]\n",
        "\n",
        "\n",
        "  print(diff_first,diff_last,diff_middle)\n",
        "  total_nums = 0\n",
        "  for num in nums:\n",
        "    total_nums +=num\n",
        "  print(\"sum = \",total_nums)\n",
        "  print(sum(nums))\n",
        "\n",
        "\n",
        "  total_ex8nums = 0\n",
        "  for num in ex8_nums:\n",
        "    total_ex8nums +=num\n",
        "  print(\"sum = \",total_ex8nums)\n",
        "  print(sum(ex8_nums))\n",
        "  diff_sum = 100*((sum(ex8_nums) - sum(nums))/sum(nums))\n",
        "  print(diff_sum)\n",
        "\n",
        "calc_pc_diff()"
      ],
      "execution_count": null,
      "outputs": [
        {
          "output_type": "stream",
          "name": "stdout",
          "text": [
            "1000\n",
            "-75.0 700.0 -29.166666666666668\n",
            "sum =  49436\n",
            "49436\n",
            "sum =  51407\n",
            "51407\n",
            "3.986973056072498\n"
          ]
        }
      ]
    },
    {
      "cell_type": "markdown",
      "metadata": {
        "id": "HNs3lZmYawFO"
      },
      "source": [
        "---\n",
        "### Exercise 9 - characteristic counts\n",
        "\n",
        "Write a function which will:\n",
        "*  iterate through the `protected_characteristics` tuple and for each **characteristic**:\n",
        "*   *   count the number of occurrences of that `characteristic` in the `characteristics` list\n",
        "*   *   print the `protected_characteristic` and the **count**  \n",
        "\n",
        "Example expected output:\n",
        "\n",
        "age 100  \n",
        "disability 120  \n",
        "gender reassignment 120  \n",
        "marriage and civil partnership 111  \n",
        "pregnancy and maternity 103  \n",
        "race 106  \n",
        "religion or belief 95  \n",
        "sex 110  \n",
        "sexual orientation 113  \n",
        "\n",
        "Extra learning:  you can read [here](https://thispointer.com/python-how-to-pad-strings-with-zero-space-or-some-other-character/) how to justify the printed characteristic so that the output is organised into two columns as shown below:  \n",
        "![tabulated output](https://drive.google.com/uc?id=1CCXfX6K5ZeDefnq7vUsqxCDmqvcfY8Mz)\n",
        "\n",
        "\n",
        "\n"
      ]
    },
    {
      "cell_type": "code",
      "metadata": {
        "id": "GURT11albqUs",
        "colab": {
          "base_uri": "https://localhost:8080/"
        },
        "outputId": "da465fbd-21fc-4015-9831-714d670681aa"
      },
      "source": [
        "def char_counts():\n",
        "    for characteristic in protected_characteristics:\n",
        "      print(f\"{characteristic :<35} {characteristics.count(characteristic)}\")\n",
        "\n",
        "char_counts()"
      ],
      "execution_count": 10,
      "outputs": [
        {
          "output_type": "stream",
          "name": "stdout",
          "text": [
            "age                                 284\n",
            "disability                          301\n",
            "gender reassignment                 321\n",
            "marriage and civil partnership      298\n",
            "pregnancy and maternity             331\n",
            "race                                317\n",
            "religion or belief                  304\n",
            "sex                                 265\n",
            "sexual orientation                  318\n"
          ]
        }
      ]
    },
    {
      "cell_type": "markdown",
      "metadata": {
        "id": "9Po7yQj-ds38"
      },
      "source": [
        "---\n",
        "### Exercise 10 - characteristics statistics\n",
        "\n",
        "Assuming that the `characteristics` list may have been taken from a study of cases that have been taken to court in relation to the Equality Act.  \n",
        "\n",
        "Write a function which will:\n",
        "\n",
        "*   find the most common characteristic resulting in court action, from this population\n",
        "*   print this in a message, e.g. The characteristic with the highest number of court cases is:  *characteristic*\n",
        "*   print the list of `protected_characteristics`, on one line if possible - see [here](https://www.geeksforgeeks.org/g-fact-25-print-single-multiple-variable-python/)\n",
        "*   ask the user to enter a characteristic that they would like to see statistics on and use a while loop to continue until the user has entered a valid characteristic\n",
        "*   print the characteristic, its frequency and the percentage that this frequency is of the whole population."
      ]
    },
    {
      "cell_type": "code",
      "metadata": {
        "id": "uk_I5z7UgbDs",
        "colab": {
          "base_uri": "https://localhost:8080/"
        },
        "outputId": "0f555d25-4aab-4cb7-bb8a-3a249a1eb83c"
      },
      "source": [
        "def char_stats():\n",
        "\n",
        "\n",
        "  is_max = 0\n",
        "  temp_max = 0\n",
        "  max_characteristic =\"\"\n",
        "  \n",
        "  for characteristic in protected_characteristics:\n",
        "    print(f\"{characteristic :<35} {characteristics.count(characteristic)}\")\n",
        "    char_count=characteristics.count(characteristic)\n",
        "    if char_count>temp_max:\n",
        "        temp_max = char_count\n",
        "        max_characteristic = characteristic\n",
        "  \n",
        "  \n",
        "  print(\"The characteristic with the highest number of court cases is\",max_characteristic,temp_max)\n",
        "  print(protected_characteristics,end=\" \")\n",
        "\n",
        "\n",
        "# finish later\n",
        "  \n",
        "      \n",
        "\n",
        "\n",
        "# how to reference the index so that I can extract the \n",
        "# print(char_count_list)\n",
        "#   char_count_list.sort(reverse=True)\n",
        "\n",
        "char_stats()"
      ],
      "execution_count": 11,
      "outputs": [
        {
          "output_type": "stream",
          "name": "stdout",
          "text": [
            "age                                 284\n",
            "disability                          301\n",
            "gender reassignment                 321\n",
            "marriage and civil partnership      298\n",
            "pregnancy and maternity             331\n",
            "race                                317\n",
            "religion or belief                  304\n",
            "sex                                 265\n",
            "sexual orientation                  318\n",
            "The characteristic with the highest number of court cases is pregnancy and maternity 331\n",
            "('age', 'disability', 'gender reassignment', 'marriage and civil partnership', 'pregnancy and maternity', 'race', 'religion or belief', 'sex', 'sexual orientation') "
          ]
        }
      ]
    }
  ]
}