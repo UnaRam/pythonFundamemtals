{
  "nbformat": 4,
  "nbformat_minor": 0,
  "metadata": {
    "colab": {
      "name": "Una Page Views Project.ipynb",
      "provenance": [],
      "collapsed_sections": [],
      "include_colab_link": true
    },
    "kernelspec": {
      "name": "python3",
      "display_name": "Python 3"
    },
    "language_info": {
      "name": "python"
    }
  },
  "cells": [
    {
      "cell_type": "markdown",
      "metadata": {
        "id": "view-in-github",
        "colab_type": "text"
      },
      "source": [
        "<a href=\"https://colab.research.google.com/github/UnaRam/pythonFundamemtals/blob/main/Una_Page_Views_Project.ipynb\" target=\"_parent\"><img src=\"https://colab.research.google.com/assets/colab-badge.svg\" alt=\"Open In Colab\"/></a>"
      ]
    },
    {
      "cell_type": "markdown",
      "metadata": {
        "id": "PbPj7T6rpfIM"
      },
      "source": [
        "# Discovery project - page views\n",
        "\n",
        "### Adapted from freeCodeCamp [project](https://www.freecodecamp.org/learn/data-analysis-with-python/data-analysis-with-python-projects/page-view-time-series-visualizer)\n",
        "\n",
        "For this project you will visualise data that has values recorded against time.  You will use Pandas and Matplotlib to visualise the dataset which contains the number of page views each day on the freeCodeCamp.org forum between 2016-05-09 and 2019-12-03. You will create a line chart, a bar chart, and some box plots to create visualisations that will help you understand the patterns in visits to the forum and identify growth over various time ranges (yearly, monthly, etc).\n",
        "\n",
        "\n",
        "The dataset can be read from here: \"https://raw.githubusercontent.com/futureCodersSE/working-with-data/main/Data%20sets/page_views.csv\"\n",
        "\n",
        "Visualise and analyse the data in the following ways:\n",
        "\n"
      ]
    },
    {
      "cell_type": "code",
      "metadata": {
        "id": "9xYOGWDZpeKg",
        "colab": {
          "base_uri": "https://localhost:8080/",
          "height": 424
        },
        "outputId": "54e37e86-51b3-4d16-dfd3-2d775de18877"
      },
      "source": [
        "import pandas as pd\n",
        "url = \"https://raw.githubusercontent.com/futureCodersSE/working-with-data/main/Data%20sets/page_views.csv\"\n",
        "df = pd.read_csv(url)\n",
        "display(df)"
      ],
      "execution_count": 1,
      "outputs": [
        {
          "output_type": "display_data",
          "data": {
            "text/plain": [
              "            date   value\n",
              "0     2016-05-09    1201\n",
              "1     2016-05-10    2329\n",
              "2     2016-05-11    1716\n",
              "3     2016-05-12   10539\n",
              "4     2016-05-13    6933\n",
              "...          ...     ...\n",
              "1299  2019-11-29  171584\n",
              "1300  2019-11-30  141161\n",
              "1301  2019-12-01  142918\n",
              "1302  2019-12-02  220144\n",
              "1303  2019-12-03  158549\n",
              "\n",
              "[1304 rows x 2 columns]"
            ],
            "text/html": [
              "\n",
              "  <div id=\"df-a7ecfde8-d046-48a9-84e4-55e62cfc8f36\">\n",
              "    <div class=\"colab-df-container\">\n",
              "      <div>\n",
              "<style scoped>\n",
              "    .dataframe tbody tr th:only-of-type {\n",
              "        vertical-align: middle;\n",
              "    }\n",
              "\n",
              "    .dataframe tbody tr th {\n",
              "        vertical-align: top;\n",
              "    }\n",
              "\n",
              "    .dataframe thead th {\n",
              "        text-align: right;\n",
              "    }\n",
              "</style>\n",
              "<table border=\"1\" class=\"dataframe\">\n",
              "  <thead>\n",
              "    <tr style=\"text-align: right;\">\n",
              "      <th></th>\n",
              "      <th>date</th>\n",
              "      <th>value</th>\n",
              "    </tr>\n",
              "  </thead>\n",
              "  <tbody>\n",
              "    <tr>\n",
              "      <th>0</th>\n",
              "      <td>2016-05-09</td>\n",
              "      <td>1201</td>\n",
              "    </tr>\n",
              "    <tr>\n",
              "      <th>1</th>\n",
              "      <td>2016-05-10</td>\n",
              "      <td>2329</td>\n",
              "    </tr>\n",
              "    <tr>\n",
              "      <th>2</th>\n",
              "      <td>2016-05-11</td>\n",
              "      <td>1716</td>\n",
              "    </tr>\n",
              "    <tr>\n",
              "      <th>3</th>\n",
              "      <td>2016-05-12</td>\n",
              "      <td>10539</td>\n",
              "    </tr>\n",
              "    <tr>\n",
              "      <th>4</th>\n",
              "      <td>2016-05-13</td>\n",
              "      <td>6933</td>\n",
              "    </tr>\n",
              "    <tr>\n",
              "      <th>...</th>\n",
              "      <td>...</td>\n",
              "      <td>...</td>\n",
              "    </tr>\n",
              "    <tr>\n",
              "      <th>1299</th>\n",
              "      <td>2019-11-29</td>\n",
              "      <td>171584</td>\n",
              "    </tr>\n",
              "    <tr>\n",
              "      <th>1300</th>\n",
              "      <td>2019-11-30</td>\n",
              "      <td>141161</td>\n",
              "    </tr>\n",
              "    <tr>\n",
              "      <th>1301</th>\n",
              "      <td>2019-12-01</td>\n",
              "      <td>142918</td>\n",
              "    </tr>\n",
              "    <tr>\n",
              "      <th>1302</th>\n",
              "      <td>2019-12-02</td>\n",
              "      <td>220144</td>\n",
              "    </tr>\n",
              "    <tr>\n",
              "      <th>1303</th>\n",
              "      <td>2019-12-03</td>\n",
              "      <td>158549</td>\n",
              "    </tr>\n",
              "  </tbody>\n",
              "</table>\n",
              "<p>1304 rows × 2 columns</p>\n",
              "</div>\n",
              "      <button class=\"colab-df-convert\" onclick=\"convertToInteractive('df-a7ecfde8-d046-48a9-84e4-55e62cfc8f36')\"\n",
              "              title=\"Convert this dataframe to an interactive table.\"\n",
              "              style=\"display:none;\">\n",
              "        \n",
              "  <svg xmlns=\"http://www.w3.org/2000/svg\" height=\"24px\"viewBox=\"0 0 24 24\"\n",
              "       width=\"24px\">\n",
              "    <path d=\"M0 0h24v24H0V0z\" fill=\"none\"/>\n",
              "    <path d=\"M18.56 5.44l.94 2.06.94-2.06 2.06-.94-2.06-.94-.94-2.06-.94 2.06-2.06.94zm-11 1L8.5 8.5l.94-2.06 2.06-.94-2.06-.94L8.5 2.5l-.94 2.06-2.06.94zm10 10l.94 2.06.94-2.06 2.06-.94-2.06-.94-.94-2.06-.94 2.06-2.06.94z\"/><path d=\"M17.41 7.96l-1.37-1.37c-.4-.4-.92-.59-1.43-.59-.52 0-1.04.2-1.43.59L10.3 9.45l-7.72 7.72c-.78.78-.78 2.05 0 2.83L4 21.41c.39.39.9.59 1.41.59.51 0 1.02-.2 1.41-.59l7.78-7.78 2.81-2.81c.8-.78.8-2.07 0-2.86zM5.41 20L4 18.59l7.72-7.72 1.47 1.35L5.41 20z\"/>\n",
              "  </svg>\n",
              "      </button>\n",
              "      \n",
              "  <style>\n",
              "    .colab-df-container {\n",
              "      display:flex;\n",
              "      flex-wrap:wrap;\n",
              "      gap: 12px;\n",
              "    }\n",
              "\n",
              "    .colab-df-convert {\n",
              "      background-color: #E8F0FE;\n",
              "      border: none;\n",
              "      border-radius: 50%;\n",
              "      cursor: pointer;\n",
              "      display: none;\n",
              "      fill: #1967D2;\n",
              "      height: 32px;\n",
              "      padding: 0 0 0 0;\n",
              "      width: 32px;\n",
              "    }\n",
              "\n",
              "    .colab-df-convert:hover {\n",
              "      background-color: #E2EBFA;\n",
              "      box-shadow: 0px 1px 2px rgba(60, 64, 67, 0.3), 0px 1px 3px 1px rgba(60, 64, 67, 0.15);\n",
              "      fill: #174EA6;\n",
              "    }\n",
              "\n",
              "    [theme=dark] .colab-df-convert {\n",
              "      background-color: #3B4455;\n",
              "      fill: #D2E3FC;\n",
              "    }\n",
              "\n",
              "    [theme=dark] .colab-df-convert:hover {\n",
              "      background-color: #434B5C;\n",
              "      box-shadow: 0px 1px 3px 1px rgba(0, 0, 0, 0.15);\n",
              "      filter: drop-shadow(0px 1px 2px rgba(0, 0, 0, 0.3));\n",
              "      fill: #FFFFFF;\n",
              "    }\n",
              "  </style>\n",
              "\n",
              "      <script>\n",
              "        const buttonEl =\n",
              "          document.querySelector('#df-a7ecfde8-d046-48a9-84e4-55e62cfc8f36 button.colab-df-convert');\n",
              "        buttonEl.style.display =\n",
              "          google.colab.kernel.accessAllowed ? 'block' : 'none';\n",
              "\n",
              "        async function convertToInteractive(key) {\n",
              "          const element = document.querySelector('#df-a7ecfde8-d046-48a9-84e4-55e62cfc8f36');\n",
              "          const dataTable =\n",
              "            await google.colab.kernel.invokeFunction('convertToInteractive',\n",
              "                                                     [key], {});\n",
              "          if (!dataTable) return;\n",
              "\n",
              "          const docLinkHtml = 'Like what you see? Visit the ' +\n",
              "            '<a target=\"_blank\" href=https://colab.research.google.com/notebooks/data_table.ipynb>data table notebook</a>'\n",
              "            + ' to learn more about interactive tables.';\n",
              "          element.innerHTML = '';\n",
              "          dataTable['output_type'] = 'display_data';\n",
              "          await google.colab.output.renderOutput(dataTable, element);\n",
              "          const docLink = document.createElement('div');\n",
              "          docLink.innerHTML = docLinkHtml;\n",
              "          element.appendChild(docLink);\n",
              "        }\n",
              "      </script>\n",
              "    </div>\n",
              "  </div>\n",
              "  "
            ]
          },
          "metadata": {}
        }
      ]
    },
    {
      "cell_type": "markdown",
      "source": [
        "### 1.  a line plot, similar to this \n",
        "---\n",
        "![example](https://drive.google.com/uc?id=1Cic5SybYEc86rqbwTCZzyEf4rzQNWJLP) (taken from the freeCodeCamp site) and with similar labelling.\n",
        "\n",
        "To prepare the data for the line plot you might do the following:  \n",
        "\n",
        "*  convert the `date` column to **datetime** type \n",
        "*  create 3 new columns for `year`, `month` and `day` (use `dt.year, dt.strftime to get the month name, dt.day`)\n",
        "*  set the index to the **date** column.\n",
        "*  clean the data by filtering out days when the page views were in the top 2.5% of the dataset or bottom 2.5% of the dataset.\n"
      ],
      "metadata": {
        "id": "VKeRaTH0leil"
      }
    },
    {
      "cell_type": "code",
      "metadata": {
        "id": "bwKeud7NrhVu",
        "colab": {
          "base_uri": "https://localhost:8080/",
          "height": 751
        },
        "outputId": "6f4a7ded-cfd1-4cbf-f15f-86d27a63fbd9"
      },
      "source": [
        "import matplotlib.pyplot as plt\n",
        "import datetime as dt\n",
        "\n",
        "# convert the date column to datetime type\n",
        "df['date'] =  pd.to_datetime(df['date'], infer_datetime_format=True)\n",
        "\n",
        "#create 3 new columns for year, month and day (use dt.year, dt.strftime to get the month name, dt.day)\n",
        "df['year'] = df['date'].dt.year\n",
        "df['month'] = df['date'].dt.strftime(\"%b\")\n",
        "df['month_num']=df['date'].dt.month\n",
        "df['day'] = df['date'].dt.day\n",
        "df.rename(columns={'value':'pageviews'}, inplace=True)\n",
        "\n",
        "\n",
        "#set the index to the date column.\n",
        "indexed_df = df.set_index('date') #create new df so can run several times!\n",
        "# display(indexed_df)\n",
        "\n",
        "#filtering\n",
        "filt_max = indexed_df['pageviews'].quantile(0.975)\n",
        "filt_min = indexed_df['pageviews'].quantile(0.025)\n",
        "print(filt_max, filt_min)\n",
        "filter = ((filt_min <= indexed_df['pageviews']) & (indexed_df['pageviews']<=filt_max))\n",
        "# display(filter)\n",
        "filtered_df = indexed_df[filter]\n",
        "display(filtered_df)\n",
        "dates = filtered_df.index\n",
        "pageviews = filtered_df['pageviews']\n",
        "plt.plot(dates,pageviews)\n",
        "plt.xlabel(\"date\")\n",
        "plt.ylabel(\"Page Views\")\n",
        "plt.title(\"Daily freeCodeCamp forum Page Views May 2016 to Dec 2019\")\n",
        "# plt.xticks(rotation=45)\n",
        "plt.grid()\n",
        "plt.show()\n",
        "\n",
        "#repeat the filtering with for use in linreg\n",
        "filtered_ordinal_df = df.copy()\n"
      ],
      "execution_count": 2,
      "outputs": [
        {
          "output_type": "stream",
          "name": "stdout",
          "text": [
            "177613.075 17876.4\n"
          ]
        },
        {
          "output_type": "display_data",
          "data": {
            "text/plain": [
              "            pageviews  year month  month_num  day\n",
              "date                                             \n",
              "2016-05-19      19736  2016   May          5   19\n",
              "2016-05-26      18060  2016   May          5   26\n",
              "2016-05-27      19997  2016   May          5   27\n",
              "2016-05-28      19044  2016   May          5   28\n",
              "2016-05-29      20325  2016   May          5   29\n",
              "...               ...   ...   ...        ...  ...\n",
              "2019-11-24     138875  2019   Nov         11   24\n",
              "2019-11-29     171584  2019   Nov         11   29\n",
              "2019-11-30     141161  2019   Nov         11   30\n",
              "2019-12-01     142918  2019   Dec         12    1\n",
              "2019-12-03     158549  2019   Dec         12    3\n",
              "\n",
              "[1238 rows x 5 columns]"
            ],
            "text/html": [
              "\n",
              "  <div id=\"df-562a24c0-907d-4ff2-9407-6d4079d28850\">\n",
              "    <div class=\"colab-df-container\">\n",
              "      <div>\n",
              "<style scoped>\n",
              "    .dataframe tbody tr th:only-of-type {\n",
              "        vertical-align: middle;\n",
              "    }\n",
              "\n",
              "    .dataframe tbody tr th {\n",
              "        vertical-align: top;\n",
              "    }\n",
              "\n",
              "    .dataframe thead th {\n",
              "        text-align: right;\n",
              "    }\n",
              "</style>\n",
              "<table border=\"1\" class=\"dataframe\">\n",
              "  <thead>\n",
              "    <tr style=\"text-align: right;\">\n",
              "      <th></th>\n",
              "      <th>pageviews</th>\n",
              "      <th>year</th>\n",
              "      <th>month</th>\n",
              "      <th>month_num</th>\n",
              "      <th>day</th>\n",
              "    </tr>\n",
              "    <tr>\n",
              "      <th>date</th>\n",
              "      <th></th>\n",
              "      <th></th>\n",
              "      <th></th>\n",
              "      <th></th>\n",
              "      <th></th>\n",
              "    </tr>\n",
              "  </thead>\n",
              "  <tbody>\n",
              "    <tr>\n",
              "      <th>2016-05-19</th>\n",
              "      <td>19736</td>\n",
              "      <td>2016</td>\n",
              "      <td>May</td>\n",
              "      <td>5</td>\n",
              "      <td>19</td>\n",
              "    </tr>\n",
              "    <tr>\n",
              "      <th>2016-05-26</th>\n",
              "      <td>18060</td>\n",
              "      <td>2016</td>\n",
              "      <td>May</td>\n",
              "      <td>5</td>\n",
              "      <td>26</td>\n",
              "    </tr>\n",
              "    <tr>\n",
              "      <th>2016-05-27</th>\n",
              "      <td>19997</td>\n",
              "      <td>2016</td>\n",
              "      <td>May</td>\n",
              "      <td>5</td>\n",
              "      <td>27</td>\n",
              "    </tr>\n",
              "    <tr>\n",
              "      <th>2016-05-28</th>\n",
              "      <td>19044</td>\n",
              "      <td>2016</td>\n",
              "      <td>May</td>\n",
              "      <td>5</td>\n",
              "      <td>28</td>\n",
              "    </tr>\n",
              "    <tr>\n",
              "      <th>2016-05-29</th>\n",
              "      <td>20325</td>\n",
              "      <td>2016</td>\n",
              "      <td>May</td>\n",
              "      <td>5</td>\n",
              "      <td>29</td>\n",
              "    </tr>\n",
              "    <tr>\n",
              "      <th>...</th>\n",
              "      <td>...</td>\n",
              "      <td>...</td>\n",
              "      <td>...</td>\n",
              "      <td>...</td>\n",
              "      <td>...</td>\n",
              "    </tr>\n",
              "    <tr>\n",
              "      <th>2019-11-24</th>\n",
              "      <td>138875</td>\n",
              "      <td>2019</td>\n",
              "      <td>Nov</td>\n",
              "      <td>11</td>\n",
              "      <td>24</td>\n",
              "    </tr>\n",
              "    <tr>\n",
              "      <th>2019-11-29</th>\n",
              "      <td>171584</td>\n",
              "      <td>2019</td>\n",
              "      <td>Nov</td>\n",
              "      <td>11</td>\n",
              "      <td>29</td>\n",
              "    </tr>\n",
              "    <tr>\n",
              "      <th>2019-11-30</th>\n",
              "      <td>141161</td>\n",
              "      <td>2019</td>\n",
              "      <td>Nov</td>\n",
              "      <td>11</td>\n",
              "      <td>30</td>\n",
              "    </tr>\n",
              "    <tr>\n",
              "      <th>2019-12-01</th>\n",
              "      <td>142918</td>\n",
              "      <td>2019</td>\n",
              "      <td>Dec</td>\n",
              "      <td>12</td>\n",
              "      <td>1</td>\n",
              "    </tr>\n",
              "    <tr>\n",
              "      <th>2019-12-03</th>\n",
              "      <td>158549</td>\n",
              "      <td>2019</td>\n",
              "      <td>Dec</td>\n",
              "      <td>12</td>\n",
              "      <td>3</td>\n",
              "    </tr>\n",
              "  </tbody>\n",
              "</table>\n",
              "<p>1238 rows × 5 columns</p>\n",
              "</div>\n",
              "      <button class=\"colab-df-convert\" onclick=\"convertToInteractive('df-562a24c0-907d-4ff2-9407-6d4079d28850')\"\n",
              "              title=\"Convert this dataframe to an interactive table.\"\n",
              "              style=\"display:none;\">\n",
              "        \n",
              "  <svg xmlns=\"http://www.w3.org/2000/svg\" height=\"24px\"viewBox=\"0 0 24 24\"\n",
              "       width=\"24px\">\n",
              "    <path d=\"M0 0h24v24H0V0z\" fill=\"none\"/>\n",
              "    <path d=\"M18.56 5.44l.94 2.06.94-2.06 2.06-.94-2.06-.94-.94-2.06-.94 2.06-2.06.94zm-11 1L8.5 8.5l.94-2.06 2.06-.94-2.06-.94L8.5 2.5l-.94 2.06-2.06.94zm10 10l.94 2.06.94-2.06 2.06-.94-2.06-.94-.94-2.06-.94 2.06-2.06.94z\"/><path d=\"M17.41 7.96l-1.37-1.37c-.4-.4-.92-.59-1.43-.59-.52 0-1.04.2-1.43.59L10.3 9.45l-7.72 7.72c-.78.78-.78 2.05 0 2.83L4 21.41c.39.39.9.59 1.41.59.51 0 1.02-.2 1.41-.59l7.78-7.78 2.81-2.81c.8-.78.8-2.07 0-2.86zM5.41 20L4 18.59l7.72-7.72 1.47 1.35L5.41 20z\"/>\n",
              "  </svg>\n",
              "      </button>\n",
              "      \n",
              "  <style>\n",
              "    .colab-df-container {\n",
              "      display:flex;\n",
              "      flex-wrap:wrap;\n",
              "      gap: 12px;\n",
              "    }\n",
              "\n",
              "    .colab-df-convert {\n",
              "      background-color: #E8F0FE;\n",
              "      border: none;\n",
              "      border-radius: 50%;\n",
              "      cursor: pointer;\n",
              "      display: none;\n",
              "      fill: #1967D2;\n",
              "      height: 32px;\n",
              "      padding: 0 0 0 0;\n",
              "      width: 32px;\n",
              "    }\n",
              "\n",
              "    .colab-df-convert:hover {\n",
              "      background-color: #E2EBFA;\n",
              "      box-shadow: 0px 1px 2px rgba(60, 64, 67, 0.3), 0px 1px 3px 1px rgba(60, 64, 67, 0.15);\n",
              "      fill: #174EA6;\n",
              "    }\n",
              "\n",
              "    [theme=dark] .colab-df-convert {\n",
              "      background-color: #3B4455;\n",
              "      fill: #D2E3FC;\n",
              "    }\n",
              "\n",
              "    [theme=dark] .colab-df-convert:hover {\n",
              "      background-color: #434B5C;\n",
              "      box-shadow: 0px 1px 3px 1px rgba(0, 0, 0, 0.15);\n",
              "      filter: drop-shadow(0px 1px 2px rgba(0, 0, 0, 0.3));\n",
              "      fill: #FFFFFF;\n",
              "    }\n",
              "  </style>\n",
              "\n",
              "      <script>\n",
              "        const buttonEl =\n",
              "          document.querySelector('#df-562a24c0-907d-4ff2-9407-6d4079d28850 button.colab-df-convert');\n",
              "        buttonEl.style.display =\n",
              "          google.colab.kernel.accessAllowed ? 'block' : 'none';\n",
              "\n",
              "        async function convertToInteractive(key) {\n",
              "          const element = document.querySelector('#df-562a24c0-907d-4ff2-9407-6d4079d28850');\n",
              "          const dataTable =\n",
              "            await google.colab.kernel.invokeFunction('convertToInteractive',\n",
              "                                                     [key], {});\n",
              "          if (!dataTable) return;\n",
              "\n",
              "          const docLinkHtml = 'Like what you see? Visit the ' +\n",
              "            '<a target=\"_blank\" href=https://colab.research.google.com/notebooks/data_table.ipynb>data table notebook</a>'\n",
              "            + ' to learn more about interactive tables.';\n",
              "          element.innerHTML = '';\n",
              "          dataTable['output_type'] = 'display_data';\n",
              "          await google.colab.output.renderOutput(dataTable, element);\n",
              "          const docLink = document.createElement('div');\n",
              "          docLink.innerHTML = docLinkHtml;\n",
              "          element.appendChild(docLink);\n",
              "        }\n",
              "      </script>\n",
              "    </div>\n",
              "  </div>\n",
              "  "
            ]
          },
          "metadata": {}
        },
        {
          "output_type": "display_data",
          "data": {
            "text/plain": [
              "<Figure size 432x288 with 1 Axes>"
            ],
            "image/png": "[encoded data removed]"
          },
          "metadata": {
            "needs_background": "light"
          }
        }
      ]
    },
    {
      "cell_type": "markdown",
      "source": [
        "###2. a bar chart similar to this \n",
        "---\n",
        "\n",
        "![example](https://drive.google.com/uc?id=15-tIwheaCIcUsx6jfg5DBAWFVGE4bHzK) (taken from the freeCodeCamp site) and with similar labelling.  It should show average daily page views for each month grouped by year. \n",
        "\n",
        "To prepare the data for the bar chart you should create a pivot table and can use pivot_table_name.plot(kind='bar')\n"
      ],
      "metadata": {
        "id": "t0C_CKXhlh1Z"
      }
    },
    {
      "cell_type": "code",
      "source": [
        "import numpy as np\n",
        "# table = pd.pivot_table(filtered_df,values = 'value', index = ['year'], columns=['month'], aggfunc=np.average).sort_values(by = filtered_df.index.month)\n",
        "table = filtered_df.pivot_table(index = filtered_df.index.year, columns=filtered_df.index.month, values = 'pageviews',aggfunc = np.average)\n",
        "# df_pivot = final_df.pivot_table(index=final_df.index.year, columns=final_df.index.month, values='value', aggfunc='mean')\n",
        "display(table)\n",
        "piv_plot = table.plot(kind='bar')\n",
        "piv_plot.legend(['Jan','Feb','Mar','Apr', 'May','Jun','Jul','Aug','Sep','Oct','Nov','Dec']) #could have derived this from unique list of months?\n",
        "plt.rcParams[\"figure.figsize\"] = (10, 8)\n",
        "plt.ylabel(\"Average Page Views\")\n",
        "plt.show()\n"
      ],
      "metadata": {
        "id": "K48C8gw1llFV",
        "colab": {
          "base_uri": "https://localhost:8080/",
          "height": 484
        },
        "outputId": "ee66b836-ae72-45d6-c2bd-8afb64d593a0"
      },
      "execution_count": 3,
      "outputs": [
        {
          "output_type": "display_data",
          "data": {
            "text/plain": [
              "date             1              2             3             4             5   \\\n",
              "date                                                                           \n",
              "2016            NaN            NaN           NaN           NaN  19432.400000   \n",
              "2017   32785.161290   31113.071429  29369.096774  30878.733333  34244.290323   \n",
              "2018   58580.096774   65679.000000  62693.774194  62350.833333  56562.870968   \n",
              "2019  102056.516129  105968.357143  91214.483871  89368.433333  91439.903226   \n",
              "\n",
              "date            6             7              8             9              10  \\\n",
              "date                                                                           \n",
              "2016  21875.105263  24109.678571   31049.193548  41476.866667   27398.322581   \n",
              "2017  43577.500000  65806.838710   47712.451613  47376.800000   47438.709677   \n",
              "2018  70117.000000  63591.064516   62831.612903  65941.733333  111378.142857   \n",
              "2019  90435.642857  97236.566667  102717.310345  97268.833333  122802.272727   \n",
              "\n",
              "date             11             12  \n",
              "date                                \n",
              "2016   40448.633333   27832.419355  \n",
              "2017   57701.566667   48420.580645  \n",
              "2018   78688.333333   80047.483871  \n",
              "2019  143166.428571  150733.500000  "
            ],
            "text/html": [
              "\n",
              "  <div id=\"df-d67ebb95-4234-47e0-9f35-c607e9e41cf4\">\n",
              "    <div class=\"colab-df-container\">\n",
              "      <div>\n",
              "<style scoped>\n",
              "    .dataframe tbody tr th:only-of-type {\n",
              "        vertical-align: middle;\n",
              "    }\n",
              "\n",
              "    .dataframe tbody tr th {\n",
              "        vertical-align: top;\n",
              "    }\n",
              "\n",
              "    .dataframe thead th {\n",
              "        text-align: right;\n",
              "    }\n",
              "</style>\n",
              "<table border=\"1\" class=\"dataframe\">\n",
              "  <thead>\n",
              "    <tr style=\"text-align: right;\">\n",
              "      <th>date</th>\n",
              "      <th>1</th>\n",
              "      <th>2</th>\n",
              "      <th>3</th>\n",
              "      <th>4</th>\n",
              "      <th>5</th>\n",
              "      <th>6</th>\n",
              "      <th>7</th>\n",
              "      <th>8</th>\n",
              "      <th>9</th>\n",
              "      <th>10</th>\n",
              "      <th>11</th>\n",
              "      <th>12</th>\n",
              "    </tr>\n",
              "    <tr>\n",
              "      <th>date</th>\n",
              "      <th></th>\n",
              "      <th></th>\n",
              "      <th></th>\n",
              "      <th></th>\n",
              "      <th></th>\n",
              "      <th></th>\n",
              "      <th></th>\n",
              "      <th></th>\n",
              "      <th></th>\n",
              "      <th></th>\n",
              "      <th></th>\n",
              "      <th></th>\n",
              "    </tr>\n",
              "  </thead>\n",
              "  <tbody>\n",
              "    <tr>\n",
              "      <th>2016</th>\n",
              "      <td>NaN</td>\n",
              "      <td>NaN</td>\n",
              "      <td>NaN</td>\n",
              "      <td>NaN</td>\n",
              "      <td>19432.400000</td>\n",
              "      <td>21875.105263</td>\n",
              "      <td>24109.678571</td>\n",
              "      <td>31049.193548</td>\n",
              "      <td>41476.866667</td>\n",
              "      <td>27398.322581</td>\n",
              "      <td>40448.633333</td>\n",
              "      <td>27832.419355</td>\n",
              "    </tr>\n",
              "    <tr>\n",
              "      <th>2017</th>\n",
              "      <td>32785.161290</td>\n",
              "      <td>31113.071429</td>\n",
              "      <td>29369.096774</td>\n",
              "      <td>30878.733333</td>\n",
              "      <td>34244.290323</td>\n",
              "      <td>43577.500000</td>\n",
              "      <td>65806.838710</td>\n",
              "      <td>47712.451613</td>\n",
              "      <td>47376.800000</td>\n",
              "      <td>47438.709677</td>\n",
              "      <td>57701.566667</td>\n",
              "      <td>48420.580645</td>\n",
              "    </tr>\n",
              "    <tr>\n",
              "      <th>2018</th>\n",
              "      <td>58580.096774</td>\n",
              "      <td>65679.000000</td>\n",
              "      <td>62693.774194</td>\n",
              "      <td>62350.833333</td>\n",
              "      <td>56562.870968</td>\n",
              "      <td>70117.000000</td>\n",
              "      <td>63591.064516</td>\n",
              "      <td>62831.612903</td>\n",
              "      <td>65941.733333</td>\n",
              "      <td>111378.142857</td>\n",
              "      <td>78688.333333</td>\n",
              "      <td>80047.483871</td>\n",
              "    </tr>\n",
              "    <tr>\n",
              "      <th>2019</th>\n",
              "      <td>102056.516129</td>\n",
              "      <td>105968.357143</td>\n",
              "      <td>91214.483871</td>\n",
              "      <td>89368.433333</td>\n",
              "      <td>91439.903226</td>\n",
              "      <td>90435.642857</td>\n",
              "      <td>97236.566667</td>\n",
              "      <td>102717.310345</td>\n",
              "      <td>97268.833333</td>\n",
              "      <td>122802.272727</td>\n",
              "      <td>143166.428571</td>\n",
              "      <td>150733.500000</td>\n",
              "    </tr>\n",
              "  </tbody>\n",
              "</table>\n",
              "</div>\n",
              "      <button class=\"colab-df-convert\" onclick=\"convertToInteractive('df-d67ebb95-4234-47e0-9f35-c607e9e41cf4')\"\n",
              "              title=\"Convert this dataframe to an interactive table.\"\n",
              "              style=\"display:none;\">\n",
              "        \n",
              "  <svg xmlns=\"http://www.w3.org/2000/svg\" height=\"24px\"viewBox=\"0 0 24 24\"\n",
              "       width=\"24px\">\n",
              "    <path d=\"M0 0h24v24H0V0z\" fill=\"none\"/>\n",
              "    <path d=\"M18.56 5.44l.94 2.06.94-2.06 2.06-.94-2.06-.94-.94-2.06-.94 2.06-2.06.94zm-11 1L8.5 8.5l.94-2.06 2.06-.94-2.06-.94L8.5 2.5l-.94 2.06-2.06.94zm10 10l.94 2.06.94-2.06 2.06-.94-2.06-.94-.94-2.06-.94 2.06-2.06.94z\"/><path d=\"M17.41 7.96l-1.37-1.37c-.4-.4-.92-.59-1.43-.59-.52 0-1.04.2-1.43.59L10.3 9.45l-7.72 7.72c-.78.78-.78 2.05 0 2.83L4 21.41c.39.39.9.59 1.41.59.51 0 1.02-.2 1.41-.59l7.78-7.78 2.81-2.81c.8-.78.8-2.07 0-2.86zM5.41 20L4 18.59l7.72-7.72 1.47 1.35L5.41 20z\"/>\n",
              "  </svg>\n",
              "      </button>\n",
              "      \n",
              "  <style>\n",
              "    .colab-df-container {\n",
              "      display:flex;\n",
              "      flex-wrap:wrap;\n",
              "      gap: 12px;\n",
              "    }\n",
              "\n",
              "    .colab-df-convert {\n",
              "      background-color: #E8F0FE;\n",
              "      border: none;\n",
              "      border-radius: 50%;\n",
              "      cursor: pointer;\n",
              "      display: none;\n",
              "      fill: #1967D2;\n",
              "      height: 32px;\n",
              "      padding: 0 0 0 0;\n",
              "      width: 32px;\n",
              "    }\n",
              "\n",
              "    .colab-df-convert:hover {\n",
              "      background-color: #E2EBFA;\n",
              "      box-shadow: 0px 1px 2px rgba(60, 64, 67, 0.3), 0px 1px 3px 1px rgba(60, 64, 67, 0.15);\n",
              "      fill: #174EA6;\n",
              "    }\n",
              "\n",
              "    [theme=dark] .colab-df-convert {\n",
              "      background-color: #3B4455;\n",
              "      fill: #D2E3FC;\n",
              "    }\n",
              "\n",
              "    [theme=dark] .colab-df-convert:hover {\n",
              "      background-color: #434B5C;\n",
              "      box-shadow: 0px 1px 3px 1px rgba(0, 0, 0, 0.15);\n",
              "      filter: drop-shadow(0px 1px 2px rgba(0, 0, 0, 0.3));\n",
              "      fill: #FFFFFF;\n",
              "    }\n",
              "  </style>\n",
              "\n",
              "      <script>\n",
              "        const buttonEl =\n",
              "          document.querySelector('#df-d67ebb95-4234-47e0-9f35-c607e9e41cf4 button.colab-df-convert');\n",
              "        buttonEl.style.display =\n",
              "          google.colab.kernel.accessAllowed ? 'block' : 'none';\n",
              "\n",
              "        async function convertToInteractive(key) {\n",
              "          const element = document.querySelector('#df-d67ebb95-4234-47e0-9f35-c607e9e41cf4');\n",
              "          const dataTable =\n",
              "            await google.colab.kernel.invokeFunction('convertToInteractive',\n",
              "                                                     [key], {});\n",
              "          if (!dataTable) return;\n",
              "\n",
              "          const docLinkHtml = 'Like what you see? Visit the ' +\n",
              "            '<a target=\"_blank\" href=https://colab.research.google.com/notebooks/data_table.ipynb>data table notebook</a>'\n",
              "            + ' to learn more about interactive tables.';\n",
              "          element.innerHTML = '';\n",
              "          dataTable['output_type'] = 'display_data';\n",
              "          await google.colab.output.renderOutput(dataTable, element);\n",
              "          const docLink = document.createElement('div');\n",
              "          docLink.innerHTML = docLinkHtml;\n",
              "          element.appendChild(docLink);\n",
              "        }\n",
              "      </script>\n",
              "    </div>\n",
              "  </div>\n",
              "  "
            ]
          },
          "metadata": {}
        },
        {
          "output_type": "display_data",
          "data": {
            "text/plain": [
              "<Figure size 432x288 with 1 Axes>"
            ],
            "image/png": "[encoded data removed]"
          },
          "metadata": {
            "needs_background": "light"
          }
        }
      ]
    },
    {
      "cell_type": "markdown",
      "source": [
        "###3.  a set of box plots similar to this\n",
        "---\n",
        " ![example](https://drive.google.com/uc?id=1kqhGKnA0Ybtyw2cew67u3_ogMS9Fb1hM)\n",
        "\n",
        "These box plots should show how the values are distributed within a given year or month and how it compares over time. \n"
      ],
      "metadata": {
        "id": "GentBB6gllVh"
      }
    },
    {
      "cell_type": "markdown",
      "source": [
        "it took quite a while and some experimentation to be able to do this\n",
        "\n",
        "luckily seaborn provides a way of plotting multiple box plots for different xlabels which was a very elegant solution"
      ],
      "metadata": {
        "id": "AqJsFHseHXRV"
      }
    },
    {
      "cell_type": "code",
      "source": [
        "import seaborn as sns\n",
        "#https://pandas.pydata.org/docs/reference/api/pandas.melt.html - if it had not been already in this long format\n",
        "#create seaborn boxplots by group\n",
        "#A “long-form” DataFrame, in which case the x, y, and hue variables will determine how the data are plotted.\n",
        "#https://seaborn.pydata.org/generated/seaborn.boxplot.html\n",
        "# https://stackoverflow.com/questions/43131274/how-do-i-plot-two-countplot-graphs-side-by-side-in-seaborn\n",
        "sorted_df = filtered_df.sort_values('month_num') #otherwise months start in May whcih was the first month\n",
        "fig, ax =plt.subplots(1,2,figsize=(20,8))\n",
        "\n",
        "myplot1 = sns.boxplot(x='year', y='pageviews', data=sorted_df,ax=ax[0]).set(xlabel='Year',ylabel='Page Views',title=\"Year-wise Boxplot (Trend)\")\n",
        "myplot2 = sns.boxplot(x='month', y='pageviews', data=sorted_df, ax=ax[1]).set(xlabel='Month',ylabel='Page Views', title= \"Month-wise boxplot (seasonality)\")\n",
        "fig.show()\n",
        "\n",
        "# https://seaborn.pydata.org/tutorial/axis_grids.html\n",
        "# g = sns.FacetGrid(filtered_df, col=\"year\", hue=\"month\")\n",
        "# g.map(sns.boxplot, \"date\", \"values\", alpha=.7)\n",
        "# g.add_legend()\n"
      ],
      "metadata": {
        "colab": {
          "base_uri": "https://localhost:8080/",
          "height": 513
        },
        "id": "xVkhq-iPvWle",
        "outputId": "4277cbce-30a5-42b1-b1df-8195105427d7"
      },
      "execution_count": 4,
      "outputs": [
        {
          "output_type": "display_data",
          "data": {
            "text/plain": [
              "<Figure size 1440x576 with 2 Axes>"
            ],
            "image/png": "[encoded data removed]"
          },
          "metadata": {
            "needs_background": "light"
          }
        }
      ]
    },
    {
      "cell_type": "markdown",
      "source": [
        "###4.  predict the number of page views in the year 2020 based on the data up to 2019\n",
        "---\n",
        "\n",
        "*  perform a linear regression and create a line of best fit \n",
        "*  predict the page views in the year 2020, 2025 and 2030 if identified trends persist. \n"
      ],
      "metadata": {
        "id": "VRT2P1DAlnmy"
      }
    },
    {
      "cell_type": "code",
      "source": [
        "from scipy.stats import linregress\n",
        "def lin_regress(df,col1,col2):\n",
        "  x = df[col1]\n",
        "  y = df[col2]\n",
        "  regression = linregress(x,y)\n",
        "  print(regression)\n",
        "  slope = regression.slope\n",
        "  yint = regression.intercept\n",
        "  rsquared = (regression.rvalue)**2\n",
        "  pval = regression.pvalue\n",
        "  print(\"slope: \",slope,\"\\nyint:\",yint,\"\\nrsquared: \",rsquared,\"\\npval: \",pval)\n",
        "  return slope, yint\n",
        "\n",
        "year_slope, year_intercept = lin_regress(filtered_df,\"year\",\"pageviews\")"
      ],
      "metadata": {
        "id": "mU3-V66DloZJ",
        "colab": {
          "base_uri": "https://localhost:8080/"
        },
        "outputId": "f7d219b0-a4fc-4910-cf02-c48a1027d8be"
      },
      "execution_count": 23,
      "outputs": [
        {
          "output_type": "stream",
          "name": "stdout",
          "text": [
            "LinregressResult(slope=24385.517311982254, intercept=-49137675.65559689, rvalue=0.7932714276471907, pvalue=1.3395933130147786e-268, stderr=532.3830168399695)\n",
            "slope:  24385.517311982254 \n",
            "yint: -49137675.65559689 \n",
            "rsquared:  0.6292795579214121 \n",
            "pval:  1.3395933130147786e-268\n"
          ]
        }
      ]
    },
    {
      "cell_type": "code",
      "source": [
        "print(filtered_df.head())\n",
        "print(filtered_df.tail())\n",
        "print(\"shape\\t\",filtered_df.shape)\n",
        "min_date = filtered_df.index.min()\n",
        "print(\"Min = \",min_date)"
      ],
      "metadata": {
        "colab": {
          "base_uri": "https://localhost:8080/"
        },
        "id": "1YFJHCWpLdOH",
        "outputId": "5fb2aff1-808f-4468-8c1b-fc9aef6b7508"
      },
      "execution_count": 24,
      "outputs": [
        {
          "output_type": "stream",
          "name": "stdout",
          "text": [
            "            pageviews  year month  month_num  day\n",
            "date                                             \n",
            "2016-05-19      19736  2016   May          5   19\n",
            "2016-05-26      18060  2016   May          5   26\n",
            "2016-05-27      19997  2016   May          5   27\n",
            "2016-05-28      19044  2016   May          5   28\n",
            "2016-05-29      20325  2016   May          5   29\n",
            "            pageviews  year month  month_num  day\n",
            "date                                             \n",
            "2019-11-24     138875  2019   Nov         11   24\n",
            "2019-11-29     171584  2019   Nov         11   29\n",
            "2019-11-30     141161  2019   Nov         11   30\n",
            "2019-12-01     142918  2019   Dec         12    1\n",
            "2019-12-03     158549  2019   Dec         12    3\n",
            "shape\t (1238, 5)\n",
            "Min =  2016-05-19 00:00:00\n"
          ]
        }
      ]
    },
    {
      "cell_type": "code",
      "source": [
        "#plot\n",
        "import matplotlib.pyplot as plt\n",
        "y = sorted_df['pageviews']\n",
        "x = sorted_df['year']\n",
        "\n",
        "plt.ylabel(\"pageview\")\n",
        "plt.xlabel(\"date\")\n",
        "plt.title(\"Linear regression using data grouped per year\")\n",
        "\n",
        "plt.scatter(x,y)\n",
        "\n",
        "#best fit\n",
        "plt.plot(x,year_slope*x + year_intercept,color=\"red\",)\n",
        "plt.show()"
      ],
      "metadata": {
        "colab": {
          "base_uri": "https://localhost:8080/",
          "height": 513
        },
        "id": "5z7hD6Pk1Gwg",
        "outputId": "53f354e1-eb6b-4abd-bebd-8cfb54c1c51f"
      },
      "execution_count": 26,
      "outputs": [
        {
          "output_type": "display_data",
          "data": {
            "text/plain": [
              "<Figure size 720x576 with 1 Axes>"
            ],
            "image/png": "[encoded data removed]"
          },
          "metadata": {
            "needs_background": "light"
          }
        }
      ]
    },
    {
      "cell_type": "markdown",
      "source": [
        "first regresssion was based on data identified only by year.\n",
        "perhaps improve by fitting a regression line to the data identified per day so will calculate pageviews per day\n"
      ],
      "metadata": {
        "id": "ocf2HRiB14kl"
      }
    },
    {
      "cell_type": "code",
      "source": [
        "# Repeat regression but use the index (date) which gives a granularity of one day\n",
        "#  so slope is pageviews/day instead of pageviews/year as above\n",
        "from scipy.stats import linregress\n",
        "from datetime import datetime\n",
        "\n",
        "def lin_regress2(df,col1,col2):\n",
        "  # y[y.index.to_pydatetime() == datetime.datetime(2008,1,1)]  - to check against the date\n",
        "  delta = (df.index - df.index[0]) #only works if it is an index\n",
        "  # print(delta)\n",
        "  x = delta.days #use days from start date\n",
        "  # print(type(x),x)\n",
        "  y = df[col2]\n",
        "  print(\"x=\\t\",x)\n",
        "  print(\"y=\\t\",y)\n",
        "  \n",
        "  regression = linregress(x,y)\n",
        "  print(regression)\n",
        "  slope = regression.slope\n",
        "  yint = regression.intercept\n",
        "  rsquared = (regression.rvalue)**2\n",
        "  pval = regression.pvalue\n",
        "  print(\"slope: \",round(slope,1),\"\\nyint:\",round(yint,1),\"\\nrsquared: \",round(rsquared,3),\"\\npval: \",pval)\n",
        "  return slope, yint\n",
        "\n",
        "# print(sorted_df.head())\n",
        "year_slope, year_intercept = lin_regress2(filtered_df,\"year\",\"pageviews\")"
      ],
      "metadata": {
        "colab": {
          "base_uri": "https://localhost:8080/"
        },
        "id": "ey8OZN-z-TK4",
        "outputId": "21c3aae7-1ac8-4a0c-928b-6f4499af3330"
      },
      "execution_count": 9,
      "outputs": [
        {
          "output_type": "stream",
          "name": "stdout",
          "text": [
            "x=\t Int64Index([   0,    7,    8,    9,   10,   19,   20,   21,   26,   27,\n",
            "            ...\n",
            "            1276, 1277, 1280, 1281, 1283, 1284, 1289, 1290, 1291, 1293],\n",
            "           dtype='int64', name='date', length=1238)\n",
            "y=\t date\n",
            "2016-05-19     19736\n",
            "2016-05-26     18060\n",
            "2016-05-27     19997\n",
            "2016-05-28     19044\n",
            "2016-05-29     20325\n",
            "               ...  \n",
            "2019-11-24    138875\n",
            "2019-11-29    171584\n",
            "2019-11-30    141161\n",
            "2019-12-01    142918\n",
            "2019-12-03    158549\n",
            "Name: pageviews, Length: 1238, dtype: int64\n",
            "LinregressResult(slope=73.1525855006713, intercept=16099.024215276651, rvalue=0.8317093717221613, pvalue=3.855767e-318, stderr=1.3890155237989457)\n",
            "slope:  73.2 \n",
            "yint: 16099.0 \n",
            "rsquared:  0.692 \n",
            "pval:  3.855767e-318\n"
          ]
        }
      ]
    },
    {
      "cell_type": "markdown",
      "source": [
        "this is predicting for a particular year, based on a OLS fit for the data grouped by year"
      ],
      "metadata": {
        "id": "ZZPce3zpIwb5"
      }
    },
    {
      "cell_type": "code",
      "source": [
        "def predict_outcome(slope, intercept, year_to_predict):\n",
        "  predicted = intercept + slope*year_to_predict\n",
        "  return predicted\n",
        "\n",
        "print(\"year\\tpredicted pageviews\")\n",
        "for num in (2020,2025,2030):\n",
        "  print(num, \"\\t\",round(predict_outcome(year_slope, year_intercept, num)))\n",
        "\n"
      ],
      "metadata": {
        "colab": {
          "base_uri": "https://localhost:8080/"
        },
        "id": "c0aWQrIH4xFo",
        "outputId": "13428723-138d-4ad1-b395-5b26d22f705a"
      },
      "execution_count": 10,
      "outputs": [
        {
          "output_type": "stream",
          "name": "stdout",
          "text": [
            "year\tpredicted pageviews\n",
            "2020 \t 163867\n",
            "2025 \t 164233\n",
            "2030 \t 164599\n"
          ]
        }
      ]
    },
    {
      "cell_type": "code",
      "source": [
        "#experimenting with a time delta in granularity of days\n",
        "delta = (filtered_df.index - filtered_df.index[0])\n",
        "days = delta.days\n",
        "print(days)"
      ],
      "metadata": {
        "colab": {
          "base_uri": "https://localhost:8080/"
        },
        "id": "uWonRL89Uc9Y",
        "outputId": "eff82ad6-3e56-4449-e10b-ff562e1e30a8"
      },
      "execution_count": null,
      "outputs": [
        {
          "output_type": "stream",
          "name": "stdout",
          "text": [
            "Int64Index([   0,    7,    8,    9,   10,   19,   20,   21,   26,   27,\n",
            "            ...\n",
            "            1276, 1277, 1280, 1281, 1283, 1284, 1289, 1290, 1291, 1293],\n",
            "           dtype='int64', name='date', length=1238)\n"
          ]
        }
      ]
    },
    {
      "cell_type": "markdown",
      "source": [
        "second attempt was to use the time difference in days between the first date in the datetimeindex of the df. this returned a decimal number to be used in the regression as it is not possible to use dates in the regression calculation"
      ],
      "metadata": {
        "id": "wqLlkQ7o1qpV"
      }
    },
    {
      "cell_type": "code",
      "source": [
        "# from datetime import datetime\n",
        "\n",
        "# # current date and time\n",
        "# now = datetime.now()\n",
        "\n",
        "# timestamp = datetime.timestamp(now)\n",
        "# print(\"timestamp =\", timestamp)"
      ],
      "metadata": {
        "colab": {
          "base_uri": "https://localhost:8080/"
        },
        "id": "TnjfzgqAAoZN",
        "outputId": "7008c116-dd4d-4a18-8ce2-40fbb6559dff"
      },
      "execution_count": null,
      "outputs": [
        {
          "output_type": "stream",
          "name": "stdout",
          "text": [
            "timestamp = 1647089014.929235\n"
          ]
        }
      ]
    },
    {
      "cell_type": "code",
      "source": [
        "#plot\n",
        "import matplotlib.pyplot as plt\n",
        "import datetime\n",
        "\n",
        "def plot_regression(df,slope, intercept):\n",
        "  # wee_df = df.reset_index() - don't bother\n",
        "  wee_df = df\n",
        "  # print(wee_df.head())\n",
        "  y = wee_df['pageviews']\n",
        "  x = wee_df.index\n",
        "  delta = wee_df.index - wee_df.index[0]\n",
        "  x_days = delta.days #use days from start date - looks like this needs to be from a datetimeindex\n",
        "\n",
        "  plt.ylabel(\"pageview\")\n",
        "  plt.xlabel(\"date\")\n",
        "  plt.scatter(x,y)\n",
        "\n",
        "  #best fit\n",
        "  print(slope, intercept)\n",
        "  plt.plot(x,slope*x_days + intercept,color=\"red\", label = \"Best Fit\")\n",
        "  plt.title(\"Linear regression using delta.days\")\n",
        "  plt.show()\n",
        "  # plt.plot(pd.to_datetime(x), line, color=\"green\", label=\"Fitted line\") - from Phoebe\n",
        "  earliest_date = wee_df.index[0].date() \n",
        "  return earliest_date# returns the start date\n",
        "\n",
        "\n",
        "min_date = plot_regression(filtered_df, year_slope, year_intercept)"
      ],
      "metadata": {
        "colab": {
          "base_uri": "https://localhost:8080/",
          "height": 531
        },
        "id": "HlLELU_aJkBY",
        "outputId": "a88f3d35-bb62-4a0f-b463-dcb5fef37424"
      },
      "execution_count": 21,
      "outputs": [
        {
          "output_type": "stream",
          "name": "stdout",
          "text": [
            "73.1525855006713 16099.024215276651\n"
          ]
        },
        {
          "output_type": "display_data",
          "data": {
            "text/plain": [
              "<Figure size 720x576 with 1 Axes>"
            ],
            "image/png": "[encoded data removed]"
          },
          "metadata": {
            "needs_background": "light"
          }
        }
      ]
    },
    {
      "cell_type": "markdown",
      "source": [
        "when making a prediction, have to choose a date within that year\n",
        "\n",
        "chose 31 Dec - this is hard-coded for now"
      ],
      "metadata": {
        "id": "WmsDrfN7Jbw4"
      }
    },
    {
      "cell_type": "code",
      "source": [
        "\n",
        "\n",
        "\n",
        "\n",
        "def predict_outcome_2(slope, intercept, year_to_predict, start_date):\n",
        "  predict_date = datetime.date(year_to_predict, 12, 31)\n",
        "  delta_date = predict_date-start_date\n",
        "\n",
        "  predicted = intercept + slope*delta_date.days #delta_date is datetime.timedelta and can just view the .days\n",
        "  return predicted\n",
        "\n",
        "\n",
        "print(\"year\\tpredicted pageviews\")\n",
        "for num in (2020,2025,2030):\n",
        "   print(num, \"\\t\",round(predict_outcome_2(year_slope, year_intercept, num,min_date)))\n",
        "\n",
        "#  [139764.02219623327, 291848.44975874573, 443932.87732125074] is correct"
      ],
      "metadata": {
        "colab": {
          "base_uri": "https://localhost:8080/"
        },
        "id": "lN6Z3kNzXpXz",
        "outputId": "2d644196-a8bd-4591-8394-5e1d4e95141b"
      },
      "execution_count": 15,
      "outputs": [
        {
          "output_type": "stream",
          "name": "stdout",
          "text": [
            "year\tpredicted pageviews\n",
            "2020 \t 139507\n",
            "2025 \t 273084\n",
            "2030 \t 406661\n"
          ]
        }
      ]
    },
    {
      "cell_type": "markdown",
      "source": [
        "**other experiments - **\n",
        "\n",
        "discussed at length with fellow student Phoebe and we swapped ideas\n"
      ],
      "metadata": {
        "id": "qKlZPKRXKCoR"
      }
    },
    {
      "cell_type": "code",
      "source": [
        "#  x = np.array(filtered_df.index.values.astype(int)) - Phoebe's \n",
        "x = np.array(filtered_df.index.values)\n",
        "y = np.array(filtered_df['pageviews'])  \n",
        "# print(\"x=\\t\",x)\n",
        "# print(\"y=\\t\",y)"
      ],
      "metadata": {
        "colab": {
          "base_uri": "https://localhost:8080/"
        },
        "id": "yvesjcatBWNy",
        "outputId": "808b8a3e-bbe7-421a-fe3e-887c14f41494"
      },
      "execution_count": null,
      "outputs": [
        {
          "output_type": "stream",
          "name": "stdout",
          "text": [
            "x=\t ['2016-05-19T00:00:00.000000000' '2016-05-26T00:00:00.000000000'\n",
            " '2016-05-27T00:00:00.000000000' ... '2019-11-30T00:00:00.000000000'\n",
            " '2019-12-01T00:00:00.000000000' '2019-12-03T00:00:00.000000000']\n",
            "y=\t [ 19736  18060  19997 ... 141161 142918 158549]\n"
          ]
        }
      ]
    },
    {
      "cell_type": "markdown",
      "source": [
        "decided that this must happen more often and there might be a better way to convert to a number - there is - to_ordinal\n",
        " https://stackoverflow.com/questions/40217369/python-linear-regression-predict-by-date\n",
        " \n",
        " https://www.geeksforgeeks.org/python-datetime-toordinal-method-with-example/\n"
      ],
      "metadata": {
        "id": "fseQhq-x32zx"
      }
    },
    {
      "cell_type": "code",
      "source": [
        "import datetime\n",
        "# using date.today() to get todays date\n",
        "dateToday = datetime.date.today()\n",
        " \n",
        "# Using toordinal() to generate ordinal value.\n",
        "toOrdinal = dateToday.toordinal()\n",
        " \n",
        "# Prints Ordinal Value of Todays Date.\n",
        "print(f\"Ordinal of date {dateToday} is {toOrdinal}\")"
      ],
      "metadata": {
        "colab": {
          "base_uri": "https://localhost:8080/"
        },
        "id": "Ch4PszgXExJS",
        "outputId": "8df8a599-fe88-4e48-ae00-16aeeff1b7e8"
      },
      "execution_count": null,
      "outputs": [
        {
          "output_type": "stream",
          "name": "stdout",
          "text": [
            "Ordinal of date 2022-03-12 is 738226\n"
          ]
        }
      ]
    },
    {
      "cell_type": "markdown",
      "source": [
        "re-calculated using **to_ordinal**\n",
        "\n",
        "essentially same as use the delta.days but with a built-in function\n",
        "\n",
        "proved a bit tricky with syntax"
      ],
      "metadata": {
        "id": "ZLTiaSvlKTpO"
      }
    },
    {
      "cell_type": "code",
      "source": [
        "import datetime as dt\n",
        "print(df.head())\n",
        "\n",
        "data_df = df.copy()  #this is the unfiltered, unsorted df with the split columns, doesn't have the date as index\n",
        "data_df['date'] = pd.to_datetime(data_df['date'])\n",
        "data_df['date']=data_df['date'].map(dt.datetime.toordinal)\n",
        "print(data_df.head())\n",
        "\n",
        "#must repeat the filtering\n",
        "#filtering\n",
        "ord_filt_max = data_df['pageviews'].quantile(0.975)\n",
        "ord_filt_min = data_df['pageviews'].quantile(0.025)\n",
        "print(ord_filt_max, ord_filt_min)\n",
        "ord_filter = ((ord_filt_min <= data_df['pageviews']) & (data_df['pageviews']<=ord_filt_max))\n",
        "# display(filter)\n",
        "ord_filtered_df = data_df[ord_filter] #apply the filter\n",
        "display(ord_filtered_df)\n"
      ],
      "metadata": {
        "colab": {
          "base_uri": "https://localhost:8080/",
          "height": 661
        },
        "id": "XBtoTnq9ILiG",
        "outputId": "5986f36b-b31d-4b27-e838-23c184d10789"
      },
      "execution_count": 16,
      "outputs": [
        {
          "output_type": "stream",
          "name": "stdout",
          "text": [
            "        date  pageviews  year month  month_num  day\n",
            "0 2016-05-09       1201  2016   May          5    9\n",
            "1 2016-05-10       2329  2016   May          5   10\n",
            "2 2016-05-11       1716  2016   May          5   11\n",
            "3 2016-05-12      10539  2016   May          5   12\n",
            "4 2016-05-13       6933  2016   May          5   13\n",
            "     date  pageviews  year month  month_num  day\n",
            "0  736093       1201  2016   May          5    9\n",
            "1  736094       2329  2016   May          5   10\n",
            "2  736095       1716  2016   May          5   11\n",
            "3  736096      10539  2016   May          5   12\n",
            "4  736097       6933  2016   May          5   13\n",
            "177613.075 17876.4\n"
          ]
        },
        {
          "output_type": "display_data",
          "data": {
            "text/plain": [
              "        date  pageviews  year month  month_num  day\n",
              "10    736103      19736  2016   May          5   19\n",
              "17    736110      18060  2016   May          5   26\n",
              "18    736111      19997  2016   May          5   27\n",
              "19    736112      19044  2016   May          5   28\n",
              "20    736113      20325  2016   May          5   29\n",
              "...      ...        ...   ...   ...        ...  ...\n",
              "1294  737387     138875  2019   Nov         11   24\n",
              "1299  737392     171584  2019   Nov         11   29\n",
              "1300  737393     141161  2019   Nov         11   30\n",
              "1301  737394     142918  2019   Dec         12    1\n",
              "1303  737396     158549  2019   Dec         12    3\n",
              "\n",
              "[1238 rows x 6 columns]"
            ],
            "text/html": [
              "\n",
              "  <div id=\"df-f4cb0fbb-4c8c-4b7a-b85e-0e80edc86894\">\n",
              "    <div class=\"colab-df-container\">\n",
              "      <div>\n",
              "<style scoped>\n",
              "    .dataframe tbody tr th:only-of-type {\n",
              "        vertical-align: middle;\n",
              "    }\n",
              "\n",
              "    .dataframe tbody tr th {\n",
              "        vertical-align: top;\n",
              "    }\n",
              "\n",
              "    .dataframe thead th {\n",
              "        text-align: right;\n",
              "    }\n",
              "</style>\n",
              "<table border=\"1\" class=\"dataframe\">\n",
              "  <thead>\n",
              "    <tr style=\"text-align: right;\">\n",
              "      <th></th>\n",
              "      <th>date</th>\n",
              "      <th>pageviews</th>\n",
              "      <th>year</th>\n",
              "      <th>month</th>\n",
              "      <th>month_num</th>\n",
              "      <th>day</th>\n",
              "    </tr>\n",
              "  </thead>\n",
              "  <tbody>\n",
              "    <tr>\n",
              "      <th>10</th>\n",
              "      <td>736103</td>\n",
              "      <td>19736</td>\n",
              "      <td>2016</td>\n",
              "      <td>May</td>\n",
              "      <td>5</td>\n",
              "      <td>19</td>\n",
              "    </tr>\n",
              "    <tr>\n",
              "      <th>17</th>\n",
              "      <td>736110</td>\n",
              "      <td>18060</td>\n",
              "      <td>2016</td>\n",
              "      <td>May</td>\n",
              "      <td>5</td>\n",
              "      <td>26</td>\n",
              "    </tr>\n",
              "    <tr>\n",
              "      <th>18</th>\n",
              "      <td>736111</td>\n",
              "      <td>19997</td>\n",
              "      <td>2016</td>\n",
              "      <td>May</td>\n",
              "      <td>5</td>\n",
              "      <td>27</td>\n",
              "    </tr>\n",
              "    <tr>\n",
              "      <th>19</th>\n",
              "      <td>736112</td>\n",
              "      <td>19044</td>\n",
              "      <td>2016</td>\n",
              "      <td>May</td>\n",
              "      <td>5</td>\n",
              "      <td>28</td>\n",
              "    </tr>\n",
              "    <tr>\n",
              "      <th>20</th>\n",
              "      <td>736113</td>\n",
              "      <td>20325</td>\n",
              "      <td>2016</td>\n",
              "      <td>May</td>\n",
              "      <td>5</td>\n",
              "      <td>29</td>\n",
              "    </tr>\n",
              "    <tr>\n",
              "      <th>...</th>\n",
              "      <td>...</td>\n",
              "      <td>...</td>\n",
              "      <td>...</td>\n",
              "      <td>...</td>\n",
              "      <td>...</td>\n",
              "      <td>...</td>\n",
              "    </tr>\n",
              "    <tr>\n",
              "      <th>1294</th>\n",
              "      <td>737387</td>\n",
              "      <td>138875</td>\n",
              "      <td>2019</td>\n",
              "      <td>Nov</td>\n",
              "      <td>11</td>\n",
              "      <td>24</td>\n",
              "    </tr>\n",
              "    <tr>\n",
              "      <th>1299</th>\n",
              "      <td>737392</td>\n",
              "      <td>171584</td>\n",
              "      <td>2019</td>\n",
              "      <td>Nov</td>\n",
              "      <td>11</td>\n",
              "      <td>29</td>\n",
              "    </tr>\n",
              "    <tr>\n",
              "      <th>1300</th>\n",
              "      <td>737393</td>\n",
              "      <td>141161</td>\n",
              "      <td>2019</td>\n",
              "      <td>Nov</td>\n",
              "      <td>11</td>\n",
              "      <td>30</td>\n",
              "    </tr>\n",
              "    <tr>\n",
              "      <th>1301</th>\n",
              "      <td>737394</td>\n",
              "      <td>142918</td>\n",
              "      <td>2019</td>\n",
              "      <td>Dec</td>\n",
              "      <td>12</td>\n",
              "      <td>1</td>\n",
              "    </tr>\n",
              "    <tr>\n",
              "      <th>1303</th>\n",
              "      <td>737396</td>\n",
              "      <td>158549</td>\n",
              "      <td>2019</td>\n",
              "      <td>Dec</td>\n",
              "      <td>12</td>\n",
              "      <td>3</td>\n",
              "    </tr>\n",
              "  </tbody>\n",
              "</table>\n",
              "<p>1238 rows × 6 columns</p>\n",
              "</div>\n",
              "      <button class=\"colab-df-convert\" onclick=\"convertToInteractive('df-f4cb0fbb-4c8c-4b7a-b85e-0e80edc86894')\"\n",
              "              title=\"Convert this dataframe to an interactive table.\"\n",
              "              style=\"display:none;\">\n",
              "        \n",
              "  <svg xmlns=\"http://www.w3.org/2000/svg\" height=\"24px\"viewBox=\"0 0 24 24\"\n",
              "       width=\"24px\">\n",
              "    <path d=\"M0 0h24v24H0V0z\" fill=\"none\"/>\n",
              "    <path d=\"M18.56 5.44l.94 2.06.94-2.06 2.06-.94-2.06-.94-.94-2.06-.94 2.06-2.06.94zm-11 1L8.5 8.5l.94-2.06 2.06-.94-2.06-.94L8.5 2.5l-.94 2.06-2.06.94zm10 10l.94 2.06.94-2.06 2.06-.94-2.06-.94-.94-2.06-.94 2.06-2.06.94z\"/><path d=\"M17.41 7.96l-1.37-1.37c-.4-.4-.92-.59-1.43-.59-.52 0-1.04.2-1.43.59L10.3 9.45l-7.72 7.72c-.78.78-.78 2.05 0 2.83L4 21.41c.39.39.9.59 1.41.59.51 0 1.02-.2 1.41-.59l7.78-7.78 2.81-2.81c.8-.78.8-2.07 0-2.86zM5.41 20L4 18.59l7.72-7.72 1.47 1.35L5.41 20z\"/>\n",
              "  </svg>\n",
              "      </button>\n",
              "      \n",
              "  <style>\n",
              "    .colab-df-container {\n",
              "      display:flex;\n",
              "      flex-wrap:wrap;\n",
              "      gap: 12px;\n",
              "    }\n",
              "\n",
              "    .colab-df-convert {\n",
              "      background-color: #E8F0FE;\n",
              "      border: none;\n",
              "      border-radius: 50%;\n",
              "      cursor: pointer;\n",
              "      display: none;\n",
              "      fill: #1967D2;\n",
              "      height: 32px;\n",
              "      padding: 0 0 0 0;\n",
              "      width: 32px;\n",
              "    }\n",
              "\n",
              "    .colab-df-convert:hover {\n",
              "      background-color: #E2EBFA;\n",
              "      box-shadow: 0px 1px 2px rgba(60, 64, 67, 0.3), 0px 1px 3px 1px rgba(60, 64, 67, 0.15);\n",
              "      fill: #174EA6;\n",
              "    }\n",
              "\n",
              "    [theme=dark] .colab-df-convert {\n",
              "      background-color: #3B4455;\n",
              "      fill: #D2E3FC;\n",
              "    }\n",
              "\n",
              "    [theme=dark] .colab-df-convert:hover {\n",
              "      background-color: #434B5C;\n",
              "      box-shadow: 0px 1px 3px 1px rgba(0, 0, 0, 0.15);\n",
              "      filter: drop-shadow(0px 1px 2px rgba(0, 0, 0, 0.3));\n",
              "      fill: #FFFFFF;\n",
              "    }\n",
              "  </style>\n",
              "\n",
              "      <script>\n",
              "        const buttonEl =\n",
              "          document.querySelector('#df-f4cb0fbb-4c8c-4b7a-b85e-0e80edc86894 button.colab-df-convert');\n",
              "        buttonEl.style.display =\n",
              "          google.colab.kernel.accessAllowed ? 'block' : 'none';\n",
              "\n",
              "        async function convertToInteractive(key) {\n",
              "          const element = document.querySelector('#df-f4cb0fbb-4c8c-4b7a-b85e-0e80edc86894');\n",
              "          const dataTable =\n",
              "            await google.colab.kernel.invokeFunction('convertToInteractive',\n",
              "                                                     [key], {});\n",
              "          if (!dataTable) return;\n",
              "\n",
              "          const docLinkHtml = 'Like what you see? Visit the ' +\n",
              "            '<a target=\"_blank\" href=https://colab.research.google.com/notebooks/data_table.ipynb>data table notebook</a>'\n",
              "            + ' to learn more about interactive tables.';\n",
              "          element.innerHTML = '';\n",
              "          dataTable['output_type'] = 'display_data';\n",
              "          await google.colab.output.renderOutput(dataTable, element);\n",
              "          const docLink = document.createElement('div');\n",
              "          docLink.innerHTML = docLinkHtml;\n",
              "          element.appendChild(docLink);\n",
              "        }\n",
              "      </script>\n",
              "    </div>\n",
              "  </div>\n",
              "  "
            ]
          },
          "metadata": {}
        }
      ]
    },
    {
      "cell_type": "code",
      "source": [
        "# Repeat regression but use the date column which has been transformed into ordinal # days -  which gives a granularity of one day\n",
        "#  so slope is pageviews/day instead of pageviews/year as above\n",
        "from scipy.stats import linregress\n",
        "\n",
        "def lin_regress3(df,col1,col2):\n",
        "  x = df[col1]\n",
        "  y = df[col2]\n",
        "  # print(\"x=\\t\",x)\n",
        "  # print(\"y=\\t\",y)\n",
        "  \n",
        "  regression = linregress(x,y)\n",
        "  # print(regression)\n",
        "  slope = regression.slope\n",
        "  yint = regression.intercept\n",
        "  rsquared = (regression.rvalue)**2\n",
        "  pval = regression.pvalue\n",
        "  # print(\"slope: \",round(slope,1),\"\\nyint:\",round(yint,1),\"\\nrsquared: \",round(rsquared,3),\"\\npval: \",pval)\n",
        "  return slope, yint\n",
        "\n",
        "# print(sorted_df.head())\n",
        "ord_year_slope, ord_year_intercept = lin_regress3(ord_filtered_df,\"date\",\"pageviews\")\n",
        "print(\"slope\\t\",round(ord_year_slope,3),\"\\nintercept\",round(ord_year_intercept,1))"
      ],
      "metadata": {
        "colab": {
          "base_uri": "https://localhost:8080/"
        },
        "id": "EyozbDhTMYvV",
        "outputId": "34fbd1b5-d52a-467a-d29a-0106c4e93948"
      },
      "execution_count": 31,
      "outputs": [
        {
          "output_type": "stream",
          "name": "stdout",
          "text": [
            "slope\t 73.153 \n",
            "intercept -53831738.6\n"
          ]
        }
      ]
    },
    {
      "cell_type": "code",
      "source": [
        "\n",
        "def plot_regression_ord(df,slope, intercept):\n",
        "  # wee_df = df.reset_index() - don't bother\n",
        "  wee_df = df.copy()\n",
        "  y = wee_df['pageviews']\n",
        "  x_ord = wee_df['date'] \n",
        "  x_date = x_ord.map(dt.datetime.fromordinal)  #to convert it back to date from ordinal - took ages to work this construction out - ask Karen\n",
        " \n",
        "  # #plot scatter of original data\n",
        "  plt.ylabel(\"pageview\")\n",
        "  plt.xlabel(\"date\")\n",
        "  plt.scatter(x_date,y, color=\"cyan\")  #plt the date version of x\n",
        "\n",
        "  #best fit\n",
        "  print(\"\\nslope\",round(slope,2),\"\\nintercept\",round(intercept,1))\n",
        "  plt.plot(x_date,slope*x_ord + intercept,color=\"black\")\n",
        "  plt.title(\"Linear regression using to_ordinal\")\n",
        "  plt.show()\n",
        "\n",
        " \n",
        "  return \n",
        "\n",
        "\n",
        "def predict_outcome_ord(slope, intercept, year_to_predict):\n",
        "  predict_date = datetime.date(year_to_predict, 12, 31)\n",
        "  ord_date = predict_date.toordinal() #need to convert this to ordinal because the slope and intercept are in that format\n",
        "  # print(\"ord date for prediction\\n\",ord_date)\n",
        "  predicted = intercept + slope*ord_date #delta_date is datetime.timedelta and can just view the .days\n",
        "  return predicted\n",
        "\n",
        "\n",
        "print(\"year\\tpredicted pageviews\")\n",
        "for num in (2020,2025,2030):\n",
        "   print(num, \"\\t\",round(predict_outcome_ord(ord_year_slope, ord_year_intercept, num)))\n",
        "\n",
        "plot_regression_ord(ord_filtered_df, ord_year_slope, ord_year_intercept)"
      ],
      "metadata": {
        "colab": {
          "base_uri": "https://localhost:8080/",
          "height": 641
        },
        "id": "oSUEpQtEOtOR",
        "outputId": "bc5c4b58-7aeb-42b4-e74d-22fb71b8636c"
      },
      "execution_count": 33,
      "outputs": [
        {
          "output_type": "stream",
          "name": "stdout",
          "text": [
            "year\tpredicted pageviews\n",
            "2020 \t 139507\n",
            "2025 \t 273084\n",
            "2030 \t 406661\n",
            "\n",
            "slope 73.15 \n",
            "intercept -53831738.6\n"
          ]
        },
        {
          "output_type": "display_data",
          "data": {
            "text/plain": [
              "<Figure size 720x576 with 1 Axes>"
            ],
            "image/png": "[encoded data removed]"
          },
          "metadata": {
            "needs_background": "light"
          }
        }
      ]
    },
    {
      "cell_type": "markdown",
      "source": [
        "# Reflect\n",
        "\n",
        "What caused the biggest problems?\n",
        "\n",
        "\n",
        "datetime in a linear regression was extremely painful!!!!!!!!\n",
        "\n",
        "tried a couple of methods -  delta.days and also toordinal \n",
        "challenge was often the syntax\n",
        "\n",
        "How did you solve these problems?\n",
        "\n",
        "lots of googling! thank you stackoverflow and kite. and discussions with Phoebe - we worked it out together\n"
      ],
      "metadata": {
        "id": "NkL5dw6ulp6K"
      }
    }
  ]
}